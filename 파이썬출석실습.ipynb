{
  "nbformat": 4,
  "nbformat_minor": 0,
  "metadata": {
    "colab": {
      "provenance": [],
      "authorship_tag": "ABX9TyODcSV1t73ykxR+lejBolJ9",
      "include_colab_link": true
    },
    "kernelspec": {
      "name": "python3",
      "display_name": "Python 3"
    },
    "language_info": {
      "name": "python"
    }
  },
  "cells": [
    {
      "cell_type": "markdown",
      "metadata": {
        "id": "view-in-github",
        "colab_type": "text"
      },
      "source": [
        "<a href=\"https://colab.research.google.com/github/parkyena2/googleColab/blob/main/%ED%8C%8C%EC%9D%B4%EC%8D%AC%EC%B6%9C%EC%84%9D%EC%8B%A4%EC%8A%B5.ipynb\" target=\"_parent\"><img src=\"https://colab.research.google.com/assets/colab-badge.svg\" alt=\"Open In Colab\"/></a>"
      ]
    },
    {
      "cell_type": "markdown",
      "source": [
        "# 에코 기능\n",
        "- 마지막으로 실행된 코드를 반복해줌"
      ],
      "metadata": {
        "id": "AF__NOrv3SEZ"
      }
    },
    {
      "cell_type": "code",
      "source": [
        "10012314\n",
        "\"안녕하세요\"\n",
        "'안녕하세요2'"
      ],
      "metadata": {
        "colab": {
          "base_uri": "https://localhost:8080/",
          "height": 35
        },
        "id": "EsqFr7Du3Rc7",
        "outputId": "18340dfa-3981-4e32-dd8b-45cab211d035"
      },
      "execution_count": 5,
      "outputs": [
        {
          "output_type": "execute_result",
          "data": {
            "text/plain": [
              "'안녕하세요2'"
            ],
            "application/vnd.google.colaboratory.intrinsic+json": {
              "type": "string"
            }
          },
          "metadata": {},
          "execution_count": 5
        }
      ]
    },
    {
      "cell_type": "markdown",
      "source": [
        "- 파이썬에서 문자열 인식: 따옴표"
      ],
      "metadata": {
        "id": "CTS5tIn33zzP"
      }
    },
    {
      "cell_type": "code",
      "source": [
        "안녕하세요3"
      ],
      "metadata": {
        "colab": {
          "base_uri": "https://localhost:8080/",
          "height": 208
        },
        "id": "GGz-XT174EQp",
        "outputId": "f8258d55-1d63-4369-ac98-dc39ffbf37b2"
      },
      "execution_count": 6,
      "outputs": [
        {
          "output_type": "error",
          "ename": "NameError",
          "evalue": "ignored",
          "traceback": [
            "\u001b[0;31m---------------------------------------------------------------------------\u001b[0m",
            "\u001b[0;31mNameError\u001b[0m                                 Traceback (most recent call last)",
            "\u001b[0;32m<ipython-input-6-0a324801c38b>\u001b[0m in \u001b[0;36m<cell line: 1>\u001b[0;34m()\u001b[0m\n\u001b[0;32m----> 1\u001b[0;31m \u001b[0m안녕하세요3\u001b[0m\u001b[0;34m\u001b[0m\u001b[0;34m\u001b[0m\u001b[0m\n\u001b[0m",
            "\u001b[0;31mNameError\u001b[0m: name '안녕하세요3' is not defined"
          ]
        }
      ]
    },
    {
      "cell_type": "markdown",
      "source": [
        "# 기본 연산자"
      ],
      "metadata": {
        "id": "Kf8k3seT3YkB"
      }
    },
    {
      "cell_type": "code",
      "execution_count": 7,
      "metadata": {
        "colab": {
          "base_uri": "https://localhost:8080/"
        },
        "id": "ef_BNdnmu-DT",
        "outputId": "23a55a47-5d2f-4de4-cc55-a0521c9a82d9"
      },
      "outputs": [
        {
          "output_type": "execute_result",
          "data": {
            "text/plain": [
              "223"
            ]
          },
          "metadata": {},
          "execution_count": 7
        }
      ],
      "source": [
        "123 + 100"
      ]
    },
    {
      "cell_type": "code",
      "source": [
        "123 - 100"
      ],
      "metadata": {
        "colab": {
          "base_uri": "https://localhost:8080/"
        },
        "id": "CzUcq8NW4HiW",
        "outputId": "d58d66eb-3449-4843-b67e-957bf2137a0d"
      },
      "execution_count": 8,
      "outputs": [
        {
          "output_type": "execute_result",
          "data": {
            "text/plain": [
              "23"
            ]
          },
          "metadata": {},
          "execution_count": 8
        }
      ]
    },
    {
      "cell_type": "code",
      "source": [
        "3 / 3"
      ],
      "metadata": {
        "colab": {
          "base_uri": "https://localhost:8080/"
        },
        "id": "lNcurFST4dbi",
        "outputId": "57009397-85a2-4a05-f1cb-187d708292fc"
      },
      "execution_count": 9,
      "outputs": [
        {
          "output_type": "execute_result",
          "data": {
            "text/plain": [
              "1.0"
            ]
          },
          "metadata": {},
          "execution_count": 9
        }
      ]
    },
    {
      "cell_type": "code",
      "source": [
        "3 * 4"
      ],
      "metadata": {
        "colab": {
          "base_uri": "https://localhost:8080/"
        },
        "id": "loFakYBJ4rCO",
        "outputId": "06106594-83ff-4dac-9b5d-884950d6de99"
      },
      "execution_count": 10,
      "outputs": [
        {
          "output_type": "execute_result",
          "data": {
            "text/plain": [
              "12"
            ]
          },
          "metadata": {},
          "execution_count": 10
        }
      ]
    },
    {
      "cell_type": "code",
      "source": [
        "2 ** 3"
      ],
      "metadata": {
        "colab": {
          "base_uri": "https://localhost:8080/"
        },
        "id": "0K_4ko2R4yUL",
        "outputId": "d3067579-c9dc-43b7-f7f5-50bed3f33f23"
      },
      "execution_count": 11,
      "outputs": [
        {
          "output_type": "execute_result",
          "data": {
            "text/plain": [
              "8"
            ]
          },
          "metadata": {},
          "execution_count": 11
        }
      ]
    },
    {
      "cell_type": "markdown",
      "source": [
        "## 문자열에 연산자 사용"
      ],
      "metadata": {
        "id": "x69_KAqe404d"
      }
    },
    {
      "cell_type": "code",
      "source": [
        "\"안녕하세요 \" + \"반갑습니다\""
      ],
      "metadata": {
        "colab": {
          "base_uri": "https://localhost:8080/",
          "height": 35
        },
        "id": "iyy4e8UG43_7",
        "outputId": "d22d0a66-c98f-4d33-d6a1-b0bf36110138"
      },
      "execution_count": 13,
      "outputs": [
        {
          "output_type": "execute_result",
          "data": {
            "text/plain": [
              "'안녕하세요 반갑습니다'"
            ],
            "application/vnd.google.colaboratory.intrinsic+json": {
              "type": "string"
            }
          },
          "metadata": {},
          "execution_count": 13
        }
      ]
    },
    {
      "cell_type": "code",
      "source": [
        "\"안녕하세요 \" * \"반갑습니다\""
      ],
      "metadata": {
        "colab": {
          "base_uri": "https://localhost:8080/",
          "height": 208
        },
        "id": "wzGPEGAV5En3",
        "outputId": "b3251054-9550-41fa-c45b-04703a99b478"
      },
      "execution_count": 14,
      "outputs": [
        {
          "output_type": "error",
          "ename": "TypeError",
          "evalue": "ignored",
          "traceback": [
            "\u001b[0;31m---------------------------------------------------------------------------\u001b[0m",
            "\u001b[0;31mTypeError\u001b[0m                                 Traceback (most recent call last)",
            "\u001b[0;32m<ipython-input-14-3f85e6f35cbd>\u001b[0m in \u001b[0;36m<cell line: 1>\u001b[0;34m()\u001b[0m\n\u001b[0;32m----> 1\u001b[0;31m \u001b[0;34m\"안녕하세요 \"\u001b[0m \u001b[0;34m*\u001b[0m \u001b[0;34m\"반갑습니다\"\u001b[0m\u001b[0;34m\u001b[0m\u001b[0;34m\u001b[0m\u001b[0m\n\u001b[0m",
            "\u001b[0;31mTypeError\u001b[0m: can't multiply sequence by non-int of type 'str'"
          ]
        }
      ]
    },
    {
      "cell_type": "code",
      "source": [
        "\"안녕하세요 \" * 2"
      ],
      "metadata": {
        "colab": {
          "base_uri": "https://localhost:8080/",
          "height": 35
        },
        "id": "_mQejabc5KMT",
        "outputId": "579eb905-6433-4f74-f531-4a1a6dac480e"
      },
      "execution_count": 15,
      "outputs": [
        {
          "output_type": "execute_result",
          "data": {
            "text/plain": [
              "'안녕하세요 안녕하세요 '"
            ],
            "application/vnd.google.colaboratory.intrinsic+json": {
              "type": "string"
            }
          },
          "metadata": {},
          "execution_count": 15
        }
      ]
    },
    {
      "cell_type": "markdown",
      "source": [
        "# 함수(print문)"
      ],
      "metadata": {
        "id": "O-KtB-jl4R5U"
      }
    },
    {
      "cell_type": "markdown",
      "source": [
        "- 에코 기능 = 여러 줄의 명령 중 가장 마지막 것만 출력\n",
        "- print() 함수 = 파라미터 전부 출력"
      ],
      "metadata": {
        "id": "uIC10yd85emR"
      }
    },
    {
      "cell_type": "code",
      "source": [
        "print(123 + 100)\n",
        "123 - 100\n",
        "print(3 / 3)\n",
        "3 * 4\n",
        "2 ** 3\n",
        "\"안녕하세요 \" + \"반갑습니다\"\n",
        "\"안녕하세요 \" * 3"
      ],
      "metadata": {
        "colab": {
          "base_uri": "https://localhost:8080/",
          "height": 71
        },
        "id": "XWs-f5AF4Reu",
        "outputId": "2fdcfff9-cb80-4b0e-8f19-e5224faa1ef6"
      },
      "execution_count": 16,
      "outputs": [
        {
          "output_type": "stream",
          "name": "stdout",
          "text": [
            "223\n",
            "1.0\n"
          ]
        },
        {
          "output_type": "execute_result",
          "data": {
            "text/plain": [
              "'안녕하세요 안녕하세요 안녕하세요 '"
            ],
            "application/vnd.google.colaboratory.intrinsic+json": {
              "type": "string"
            }
          },
          "metadata": {},
          "execution_count": 16
        }
      ]
    },
    {
      "cell_type": "markdown",
      "source": [
        "# 들여쓰기"
      ],
      "metadata": {
        "id": "kb_oyLVc4UkJ"
      }
    },
    {
      "cell_type": "markdown",
      "source": [
        "## 함수 만들기"
      ],
      "metadata": {
        "id": "vMex-HZm6Ml1"
      }
    },
    {
      "cell_type": "code",
      "source": [
        "def calculate(x, y) :\n",
        "    # 함수 생성 시 들여쓰기 필수\n",
        "    print(x / y + x)\n",
        "calculate(10, 20)"
      ],
      "metadata": {
        "colab": {
          "base_uri": "https://localhost:8080/"
        },
        "id": "6k3BLJyH6O-a",
        "outputId": "91a0d500-899e-41d5-f166-29c16b39ce27"
      },
      "execution_count": 19,
      "outputs": [
        {
          "output_type": "stream",
          "name": "stdout",
          "text": [
            "10.5\n"
          ]
        }
      ]
    },
    {
      "cell_type": "markdown",
      "source": [
        "# 주석(문서화)"
      ],
      "metadata": {
        "id": "EiG_w6Ff4XTA"
      }
    },
    {
      "cell_type": "markdown",
      "source": [
        "- 협업 용이\n",
        "- 스스로 다시 봤을 때 이해하기 쉬움\n",
        "- 한 줄에서 '#' 이후는 모두 주석\n",
        "- 여러 줄 주석 사용 시 따옴표 3개 사용"
      ],
      "metadata": {
        "id": "xd5j6Uh7-oO1"
      }
    },
    {
      "cell_type": "markdown",
      "source": [
        "# 변수의 필요성 (원뿔 부피 계산)"
      ],
      "metadata": {
        "id": "aQRC5Jzo-USO"
      }
    },
    {
      "cell_type": "code",
      "source": [
        "# 변수가 없을 때: 이해하기 어려움, 수정 어려움, 실수 많음\n",
        "\n",
        "# 반지름 = 40, 높이 = 30\n",
        "# 부피 구하기\n",
        "print(1/3 * 3.14 * 40 ** 2 * 30)"
      ],
      "metadata": {
        "colab": {
          "base_uri": "https://localhost:8080/"
        },
        "id": "Z6OzXqY8AwCC",
        "outputId": "0faed139-4aca-4abf-ff79-3f82532ae911"
      },
      "execution_count": 40,
      "outputs": [
        {
          "output_type": "stream",
          "name": "stdout",
          "text": [
            "50239.99999999999\n"
          ]
        }
      ]
    },
    {
      "cell_type": "code",
      "source": [
        "# 변수 있을 때: 이해하기 쉬움, 수정 쉬움, 실수 적음\n",
        "\n",
        "# 반지름 = 40, 높이 = 30\n",
        "반지름 = 40\n",
        "높이 = 30\n",
        "\n",
        "# 부피 구하기\n",
        "부피 = 1/3 * 3.14 * 반지름 ** 2 * 높이\n",
        "\n",
        "print(부피)"
      ],
      "metadata": {
        "colab": {
          "base_uri": "https://localhost:8080/"
        },
        "id": "GVQlfTkj_0xU",
        "outputId": "2592d247-ebdb-4462-bae3-2f5e45dd116a"
      },
      "execution_count": 39,
      "outputs": [
        {
          "output_type": "stream",
          "name": "stdout",
          "text": [
            "50239.99999999999\n"
          ]
        }
      ]
    },
    {
      "cell_type": "markdown",
      "source": [
        "# 특수 산술연산자(//, %)"
      ],
      "metadata": {
        "id": "2SQ-NBFK-Xe3"
      }
    },
    {
      "cell_type": "code",
      "source": [
        "5 / 3"
      ],
      "metadata": {
        "colab": {
          "base_uri": "https://localhost:8080/"
        },
        "id": "00n_1Zf8BZmY",
        "outputId": "33af8166-d414-43b2-96c0-41c69800ebc5"
      },
      "execution_count": 41,
      "outputs": [
        {
          "output_type": "execute_result",
          "data": {
            "text/plain": [
              "1.6666666666666667"
            ]
          },
          "metadata": {},
          "execution_count": 41
        }
      ]
    },
    {
      "cell_type": "code",
      "source": [
        "5 // 3 # 정수 몫만 구하는 특수 산술연산자"
      ],
      "metadata": {
        "colab": {
          "base_uri": "https://localhost:8080/"
        },
        "id": "fnfM4YBtBa3Z",
        "outputId": "8cdb8a81-b74e-4e99-ed34-be567e38acd9"
      },
      "execution_count": 43,
      "outputs": [
        {
          "output_type": "execute_result",
          "data": {
            "text/plain": [
              "1"
            ]
          },
          "metadata": {},
          "execution_count": 43
        }
      ]
    },
    {
      "cell_type": "code",
      "source": [
        "5 % 3 # 나머지 연산자"
      ],
      "metadata": {
        "colab": {
          "base_uri": "https://localhost:8080/"
        },
        "id": "b_IDtx7lBb_R",
        "outputId": "cbe098e3-14d2-4e3a-fa24-381a8ed3f72e"
      },
      "execution_count": 44,
      "outputs": [
        {
          "output_type": "execute_result",
          "data": {
            "text/plain": [
              "2"
            ]
          },
          "metadata": {},
          "execution_count": 44
        }
      ]
    },
    {
      "cell_type": "markdown",
      "source": [
        "# 파이썬 내장 함수 (max, round, abs, pow)"
      ],
      "metadata": {
        "id": "8IwZ4jVpBpCv"
      }
    },
    {
      "cell_type": "code",
      "source": [
        "max(1, 3, 9, 2, 19.8, 5, 3) # 가장 큰 수 출력"
      ],
      "metadata": {
        "colab": {
          "base_uri": "https://localhost:8080/"
        },
        "id": "DPzWj2XcBkv4",
        "outputId": "daf8b264-a8d3-4e5d-b392-151ff2af37d3"
      },
      "execution_count": 46,
      "outputs": [
        {
          "output_type": "execute_result",
          "data": {
            "text/plain": [
              "19.8"
            ]
          },
          "metadata": {},
          "execution_count": 46
        }
      ]
    },
    {
      "cell_type": "code",
      "source": [
        "round(3.14159) # 정수값으로 반올림"
      ],
      "metadata": {
        "colab": {
          "base_uri": "https://localhost:8080/"
        },
        "id": "hSudhlJUCCDZ",
        "outputId": "3ed39883-3bf3-4784-c9db-e5fbebfb070e"
      },
      "execution_count": 49,
      "outputs": [
        {
          "output_type": "execute_result",
          "data": {
            "text/plain": [
              "3.142"
            ]
          },
          "metadata": {},
          "execution_count": 49
        }
      ]
    },
    {
      "cell_type": "code",
      "source": [
        "round(3.14159, 3) #반올림해 3번째 소수까지만 출력"
      ],
      "metadata": {
        "colab": {
          "base_uri": "https://localhost:8080/"
        },
        "id": "F8OdsSpcCWYp",
        "outputId": "4973ba05-5adc-45f4-cdf0-a197448e7059"
      },
      "execution_count": 50,
      "outputs": [
        {
          "output_type": "execute_result",
          "data": {
            "text/plain": [
              "3.142"
            ]
          },
          "metadata": {},
          "execution_count": 50
        }
      ]
    },
    {
      "cell_type": "code",
      "source": [
        "abs(100) # 절댓값 출력"
      ],
      "metadata": {
        "colab": {
          "base_uri": "https://localhost:8080/"
        },
        "id": "o0rf-LlbCX8r",
        "outputId": "6680a3f1-6e9e-480c-ec11-1bac4e5d9232"
      },
      "execution_count": 51,
      "outputs": [
        {
          "output_type": "execute_result",
          "data": {
            "text/plain": [
              "100"
            ]
          },
          "metadata": {},
          "execution_count": 51
        }
      ]
    },
    {
      "cell_type": "code",
      "source": [
        "abs(-100)"
      ],
      "metadata": {
        "colab": {
          "base_uri": "https://localhost:8080/"
        },
        "id": "iKfPs0PECc0s",
        "outputId": "cc79b4ba-ea33-4ef0-a3e4-3bba1bd89d67"
      },
      "execution_count": 52,
      "outputs": [
        {
          "output_type": "execute_result",
          "data": {
            "text/plain": [
              "100"
            ]
          },
          "metadata": {},
          "execution_count": 52
        }
      ]
    },
    {
      "cell_type": "code",
      "source": [
        "pow(2, 3) # 2의 3제곱"
      ],
      "metadata": {
        "colab": {
          "base_uri": "https://localhost:8080/"
        },
        "id": "373snDZ5Cft7",
        "outputId": "fbbc0746-a7a9-4797-9804-e418160dbb25"
      },
      "execution_count": 53,
      "outputs": [
        {
          "output_type": "execute_result",
          "data": {
            "text/plain": [
              "8"
            ]
          },
          "metadata": {},
          "execution_count": 53
        }
      ]
    },
    {
      "cell_type": "code",
      "source": [
        "2 ** 3 # 2의 3제곱"
      ],
      "metadata": {
        "colab": {
          "base_uri": "https://localhost:8080/"
        },
        "id": "RslTiI9LCkHb",
        "outputId": "e919d3b3-3606-41d2-bc77-9c486260b027"
      },
      "execution_count": 54,
      "outputs": [
        {
          "output_type": "execute_result",
          "data": {
            "text/plain": [
              "8"
            ]
          },
          "metadata": {},
          "execution_count": 54
        }
      ]
    },
    {
      "cell_type": "markdown",
      "source": [
        "# 원뿔 부피 계산 프로그램 + 값 입력받기 + print문 활용하기"
      ],
      "metadata": {
        "id": "tQkC-xALBtQZ"
      }
    },
    {
      "cell_type": "markdown",
      "source": [
        "## 상세 코드"
      ],
      "metadata": {
        "id": "kODgt4zyE1kx"
      }
    },
    {
      "cell_type": "code",
      "source": [
        "# input() 함수 = 키보드 입력 받아서 문자열로 반환\n",
        "print(\"반지름을 입력하세요\")\n",
        "반지름 = input()\n",
        "# input() 함수로 받은 문자열을 정수로 변환\n",
        "반지름 = int(반지름)\n",
        "\n",
        "# 높이 입력 받기\n",
        "print(\"높이를 입력하세요\")\n",
        "높이 = input()\n",
        "# 높이 정수로 변환\n",
        "높이 = int(높이)\n",
        "\n",
        "# 부피 공식\n",
        "부피 = 1/3 * 3.14 * 반지름 ** 2 * 높이\n",
        "\n",
        "# 부피 출력\n",
        "print(부피)"
      ],
      "metadata": {
        "colab": {
          "base_uri": "https://localhost:8080/"
        },
        "id": "Ovf3gLoaCs-N",
        "outputId": "4188bb1a-6873-49c0-813f-ba761eb33420"
      },
      "execution_count": 59,
      "outputs": [
        {
          "output_type": "stream",
          "name": "stdout",
          "text": [
            "반지름을 입력하세요\n",
            "10\n",
            "높이를 입력하세요\n",
            "30\n",
            "3139.9999999999995\n"
          ]
        }
      ]
    },
    {
      "cell_type": "markdown",
      "source": [
        "## 짧은 코드"
      ],
      "metadata": {
        "id": "pURr3vhJEwXQ"
      }
    },
    {
      "cell_type": "code",
      "source": [
        "# 반지름 입력 받기\n",
        "print(\"반지름을 입력하세요\")\n",
        "반지름 = int(input())\n",
        "\n",
        "# 높이 입력 받기\n",
        "print(\"높이를 입력하세요\")\n",
        "높이 = int(input())\n",
        "\n",
        "# 부피 공식\n",
        "부피 = 1/3 * 3.14 * 반지름 ** 2 * 높이\n",
        "\n",
        "# 부피 출력\n",
        "print(부피)"
      ],
      "metadata": {
        "colab": {
          "base_uri": "https://localhost:8080/"
        },
        "id": "cR-MZOdnEagV",
        "outputId": "1e1ea2a6-ae93-4f85-844b-73c5e2ca39a5"
      },
      "execution_count": 60,
      "outputs": [
        {
          "output_type": "stream",
          "name": "stdout",
          "text": [
            "반지름을 입력하세요\n",
            "10\n",
            "높이를 입력하세요\n",
            "30\n",
            "3139.9999999999995\n"
          ]
        }
      ]
    },
    {
      "cell_type": "markdown",
      "source": [
        "## input의 prompt 파라미터 사용"
      ],
      "metadata": {
        "id": "d6F9LDAaE57M"
      }
    },
    {
      "cell_type": "code",
      "source": [
        "# 반지름 입력 받기\n",
        "반지름 = int(input(\"반지름을 입력하세요: \"))\n",
        "\n",
        "# 높이 입력 받기\n",
        "높이 = int(input(\"높이를 입력하세요: \"))\n",
        "\n",
        "# 부피 공식\n",
        "부피 = 1/3 * 3.14 * 반지름 ** 2 * 높이\n",
        "\n",
        "# 부피 출력\n",
        "print(\"부피는 \", 부피, \"입니다\")"
      ],
      "metadata": {
        "colab": {
          "base_uri": "https://localhost:8080/"
        },
        "id": "JG_PD97vE9mC",
        "outputId": "d5bc951f-230d-4700-bc8c-465168825e16"
      },
      "execution_count": 62,
      "outputs": [
        {
          "output_type": "stream",
          "name": "stdout",
          "text": [
            "반지름을 입력하세요: 10\n",
            "높이를 입력하세요: 30\n",
            "부피는  3139.9999999999995 입니다\n"
          ]
        }
      ]
    },
    {
      "cell_type": "markdown",
      "source": [
        "## 도전과제: round()로 소숫점 뒷자리 줄이기"
      ],
      "metadata": {
        "id": "UwWWPGtbFVST"
      }
    },
    {
      "cell_type": "code",
      "source": [
        "# 반지름 입력 받기\n",
        "반지름 = int(input(\"반지름을 입력하세요: \"))\n",
        "\n",
        "# 높이 입력 받기\n",
        "높이 = int(input(\"높이를 입력하세요: \"))\n",
        "\n",
        "# 부피 공식\n",
        "부피 = round(1/3 * 3.14 * 반지름 ** 2 * 높이, 3)\n",
        "\n",
        "# 부피 출력\n",
        "print(\"부피는 \", 부피, \"입니다\")"
      ],
      "metadata": {
        "colab": {
          "base_uri": "https://localhost:8080/"
        },
        "id": "4JFpf9zSFaMj",
        "outputId": "9260c48c-85ef-4f1b-993c-c2a335b3a81d"
      },
      "execution_count": 65,
      "outputs": [
        {
          "output_type": "stream",
          "name": "stdout",
          "text": [
            "반지름을 입력하세요: 10\n",
            "높이를 입력하세요: 30\n",
            "부피는  3140.0 입니다\n"
          ]
        }
      ]
    },
    {
      "cell_type": "markdown",
      "source": [
        "# 원뿔 부피 계산 프로그램 + 선택 구조"
      ],
      "metadata": {
        "id": "RGxZPaeGByaT"
      }
    },
    {
      "cell_type": "markdown",
      "source": [
        "## 입력값 유효 검사하기"
      ],
      "metadata": {
        "id": "Sxy4BAFDF2Ft"
      }
    },
    {
      "cell_type": "markdown",
      "source": [
        "- 반지름 > 0 이고\n",
        "- 높이 > 0 인 경우만 부피 계산"
      ],
      "metadata": {
        "id": "yLJH5tocHfJ9"
      }
    },
    {
      "cell_type": "code",
      "source": [
        "# 반지름 입력 받기\n",
        "반지름 = int(input(\"반지름을 입력하세요: \"))\n",
        "\n",
        "# 높이 입력 받기\n",
        "높이 = int(input(\"높이를 입력하세요: \"))\n",
        "\n",
        "if 반지름 > 0 and 높이 > 0 :\n",
        "    # 부피 공식\n",
        "    부피 = round(1/3 * 3.14 * 반지름 ** 2 * 높이, 3)\n",
        "    # 부피 출력\n",
        "    print(\"부피는 \", 부피, \"입니다\")\n",
        "else :\n",
        "    print(\"잘못된 입력입니다\")"
      ],
      "metadata": {
        "colab": {
          "base_uri": "https://localhost:8080/"
        },
        "id": "2eJVeJNIF7qH",
        "outputId": "725a8c88-0ef6-49f7-982b-db3f1c15252e"
      },
      "execution_count": 69,
      "outputs": [
        {
          "output_type": "stream",
          "name": "stdout",
          "text": [
            "반지름을 입력하세요: -10\n",
            "높이를 입력하세요: 0\n",
            "잘못된 입력입니다\n"
          ]
        }
      ]
    },
    {
      "cell_type": "markdown",
      "source": [
        "# list, for, while"
      ],
      "metadata": {
        "id": "6xfUElbaB1i3"
      }
    },
    {
      "cell_type": "markdown",
      "source": [
        "- 과제에서 사용해도 되고 안 해도 됨"
      ],
      "metadata": {
        "id": "AlXGw94mQRFh"
      }
    },
    {
      "cell_type": "markdown",
      "source": [
        "## list\n",
        "- 순서대로 접근 가능\n",
        "- zero based index로 접근"
      ],
      "metadata": {
        "id": "xrOnv7QoP1xc"
      }
    },
    {
      "cell_type": "code",
      "source": [
        "동물원 = [\"원숭이\", \"고양이\", \"호랑이\", \"강아지\", \"기린\"]\n",
        "print(동물원[0])"
      ],
      "metadata": {
        "colab": {
          "base_uri": "https://localhost:8080/"
        },
        "id": "uEg7Q-QpPyUx",
        "outputId": "c61a8d4d-4a3c-4da7-950f-beb8529791f9"
      },
      "execution_count": 71,
      "outputs": [
        {
          "output_type": "stream",
          "name": "stdout",
          "text": [
            "원숭이\n"
          ]
        }
      ]
    },
    {
      "cell_type": "markdown",
      "source": [
        "## 반복문"
      ],
      "metadata": {
        "id": "kzCJXyGNQWAG"
      }
    },
    {
      "cell_type": "markdown",
      "source": [
        "### for"
      ],
      "metadata": {
        "id": "YBwRmHviQY7e"
      }
    },
    {
      "cell_type": "markdown",
      "source": [
        "- 리스트에 순차적으로 적용하기 유리함"
      ],
      "metadata": {
        "id": "6fmWW93FQc6q"
      }
    },
    {
      "cell_type": "code",
      "source": [
        "동물원 = [\"원숭이\", \"고양이\", \"호랑이\", \"강아지\", \"기린\"]\n",
        "\n",
        "for 동물 in 동물원 :\n",
        "    print(동물)"
      ],
      "metadata": {
        "colab": {
          "base_uri": "https://localhost:8080/"
        },
        "id": "BhDBjWcYQiVZ",
        "outputId": "a0ec4113-72b9-4476-b2c9-2dab04d92ad1"
      },
      "execution_count": 72,
      "outputs": [
        {
          "output_type": "stream",
          "name": "stdout",
          "text": [
            "원숭이\n",
            "고양이\n",
            "호랑이\n",
            "강아지\n",
            "기린\n"
          ]
        }
      ]
    },
    {
      "cell_type": "markdown",
      "source": [
        "### while"
      ],
      "metadata": {
        "id": "k7Db498WQayd"
      }
    },
    {
      "cell_type": "markdown",
      "source": [
        "- if문과 유사하게 불리언식 사용"
      ],
      "metadata": {
        "id": "3rVRZbFhQ7UF"
      }
    },
    {
      "cell_type": "code",
      "source": [
        "# while문 첫 실행 위한 초기화문\n",
        "반지름 = 0\n",
        "높이 = 0\n",
        "\n",
        "while 반지름 <= 0 :\n",
        "    # 반지름이 양수가 될 때까지 반지름 입력 받기\n",
        "    반지름 = int(input(\"반지름을 입력하세요: \"))\n",
        "while 높이 <= 0 :\n",
        "    # 높이가 양수가 될 때까지 높이 입력 받기\n",
        "    높이 = int(input(\"높이를 입력하세요: \"))\n",
        "\n",
        "# 부피 공식\n",
        "부피 = round(1/3 * 3.14 * 반지름 ** 2 * 높이, 3)\n",
        "# 부피 출력\n",
        "print(\"부피는 \", 부피, \"입니다\")\n"
      ],
      "metadata": {
        "colab": {
          "base_uri": "https://localhost:8080/"
        },
        "id": "5sJlrWfnQ-PZ",
        "outputId": "5aee8c07-92dd-4fd8-a896-51c96716868c"
      },
      "execution_count": 73,
      "outputs": [
        {
          "output_type": "stream",
          "name": "stdout",
          "text": [
            "반지름을 입력하세요: 0\n",
            "반지름을 입력하세요: -10\n",
            "반지름을 입력하세요: 10\n",
            "높이를 입력하세요: -5\n",
            "높이를 입력하세요: 0\n",
            "높이를 입력하세요: 30\n",
            "부피는  3140.0 입니다\n"
          ]
        }
      ]
    }
  ]
}