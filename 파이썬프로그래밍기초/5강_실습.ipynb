{
  "nbformat": 4,
  "nbformat_minor": 0,
  "metadata": {
    "colab": {
      "provenance": [],
      "include_colab_link": true
    },
    "kernelspec": {
      "name": "python3",
      "display_name": "Python 3"
    },
    "language_info": {
      "name": "python"
    }
  },
  "cells": [
    {
      "cell_type": "markdown",
      "metadata": {
        "id": "view-in-github",
        "colab_type": "text"
      },
      "source": [
        "<a href=\"https://colab.research.google.com/github/parkyena2/googleColab/blob/main/5%EA%B0%95_%EC%8B%A4%EC%8A%B5.ipynb\" target=\"_parent\"><img src=\"https://colab.research.google.com/assets/colab-badge.svg\" alt=\"Open In Colab\"/></a>"
      ]
    },
    {
      "cell_type": "markdown",
      "source": [
        "# 5강 2절"
      ],
      "metadata": {
        "id": "QaMMtoihlN9D"
      }
    },
    {
      "cell_type": "markdown",
      "source": [
        "## 순차 구조"
      ],
      "metadata": {
        "id": "r_vQIeE5VxAX"
      }
    },
    {
      "cell_type": "markdown",
      "source": [
        "### 삼각형 출력하기"
      ],
      "metadata": {
        "id": "zsVGhzcxlSh2"
      }
    },
    {
      "cell_type": "markdown",
      "source": [
        "- 순차 구조에 따라 1번 라인부터 하나씩 출력이 이루어져서 결과 출력\n",
        "- 프로그램 코드는 위에서부터 아래로 = 라인 번호가 증가하는 순서대로 순차적 진행됨"
      ],
      "metadata": {
        "id": "buryYvQjVMbL"
      }
    },
    {
      "cell_type": "code",
      "execution_count": 2,
      "metadata": {
        "id": "Uzg7FWgclGzv",
        "colab": {
          "base_uri": "https://localhost:8080/"
        },
        "outputId": "d5ab144c-ca0b-4ff7-b8e6-15971549830c"
      },
      "outputs": [
        {
          "output_type": "stream",
          "name": "stdout",
          "text": [
            "   *\n",
            "  ***\n",
            " *****\n",
            "*******\n"
          ]
        }
      ],
      "source": [
        "print(\"   *\")\n",
        "print(\"  ***\")\n",
        "print(\" *****\")\n",
        "print(\"*******\")"
      ]
    },
    {
      "cell_type": "markdown",
      "source": [
        "### input() 함수 활용"
      ],
      "metadata": {
        "id": "nejZ4KoqVq5C"
      }
    },
    {
      "cell_type": "markdown",
      "source": [
        "- input() 함수 = 사용자의 입력을 기다렸다 받아들여 이를 코드 내부에서 활용 가능한 값으로 사용"
      ],
      "metadata": {
        "id": "OBoeKxUnV3M_"
      }
    },
    {
      "cell_type": "markdown",
      "source": [
        "#### 아무것도 없이 input()만 작성"
      ],
      "metadata": {
        "id": "8ZdRXJ8vWIxq"
      }
    },
    {
      "cell_type": "code",
      "source": [
        "input()"
      ],
      "metadata": {
        "colab": {
          "base_uri": "https://localhost:8080/",
          "height": 52
        },
        "id": "JhqfTa_8Vqmj",
        "outputId": "e5047221-ecaf-4127-f3f8-ef1b75227906"
      },
      "execution_count": 3,
      "outputs": [
        {
          "name": "stdout",
          "output_type": "stream",
          "text": [
            "hello\n"
          ]
        },
        {
          "output_type": "execute_result",
          "data": {
            "text/plain": [
              "'hello'"
            ],
            "application/vnd.google.colaboratory.intrinsic+json": {
              "type": "string"
            }
          },
          "metadata": {},
          "execution_count": 3
        }
      ]
    },
    {
      "cell_type": "markdown",
      "source": [
        "- 아무 설명 없이 입력창만 출력됨\n",
        "- 값을 입력하면 해당 값이 input()의 반환값이 되어 echo되고 종료"
      ],
      "metadata": {
        "id": "mfzzq0IdWNoe"
      }
    },
    {
      "cell_type": "markdown",
      "source": [
        "#### input()의 활용 - 반환값 저장"
      ],
      "metadata": {
        "id": "S1nGk7z7WaAB"
      }
    },
    {
      "cell_type": "code",
      "source": [
        "rad = input()"
      ],
      "metadata": {
        "colab": {
          "base_uri": "https://localhost:8080/"
        },
        "id": "9k76mYoxWd22",
        "outputId": "68c0bbaa-1672-4990-9a5f-5645af733d34"
      },
      "execution_count": 4,
      "outputs": [
        {
          "name": "stdout",
          "output_type": "stream",
          "text": [
            "30\n"
          ]
        }
      ]
    },
    {
      "cell_type": "markdown",
      "source": [
        "1. r-value인 input() 함수 먼저 실행\n",
        "2. input()의 반환값이 l-value인 변수 rad에 저장됨"
      ],
      "metadata": {
        "id": "FFZVV3EmWjUn"
      }
    },
    {
      "cell_type": "markdown",
      "source": [
        "#### input()의 활용 - 프롬프트 출력"
      ],
      "metadata": {
        "id": "V3pRizUhWywE"
      }
    },
    {
      "cell_type": "code",
      "source": [
        "rad = input(\"반지름의 값을 입력하세요: \")"
      ],
      "metadata": {
        "colab": {
          "base_uri": "https://localhost:8080/"
        },
        "id": "eULuzxK_W10d",
        "outputId": "056d8fde-ad99-45b0-b893-fa9178e5d233"
      },
      "execution_count": 5,
      "outputs": [
        {
          "name": "stdout",
          "output_type": "stream",
          "text": [
            "반지름의 값을 입력하세요: 30\n"
          ]
        }
      ]
    },
    {
      "cell_type": "markdown",
      "source": [
        "- input() 함수의 파라미터로 프롬프트 출력 문구 입력 가능"
      ],
      "metadata": {
        "id": "kSSy-MsyW5if"
      }
    },
    {
      "cell_type": "markdown",
      "source": [
        "## 원뿔 계산 프로그램 개선"
      ],
      "metadata": {
        "id": "o1aoIihhlrBZ"
      }
    },
    {
      "cell_type": "markdown",
      "source": [
        "### 원본 프로그램"
      ],
      "metadata": {
        "id": "3OxvTwUMYxtd"
      }
    },
    {
      "cell_type": "markdown",
      "source": [
        "개선점:\n",
        "- 불친절함\n",
        "- 실행 마다 반지름, 높이에 다른 값을 입력할 수 있는 원뿔 계산기의 형태로 만들고 싶음"
      ],
      "metadata": {
        "id": "MIn5skPmYcj1"
      }
    },
    {
      "cell_type": "code",
      "source": [
        "#반지름, 높이 값 할당\n",
        "rad = 20\n",
        "hei = 30\n",
        "#부피 출력\n",
        "print(1 / 3 * 3.14 * rad ** 2 * hei )\n",
        "#겉넓이 출력\n",
        "print(3.14 * rad ** 2 + 3.14 * rad * hei)"
      ],
      "metadata": {
        "id": "jzJqpbKgluL7"
      },
      "execution_count": null,
      "outputs": []
    },
    {
      "cell_type": "markdown",
      "source": [
        "### 프로그램 개선"
      ],
      "metadata": {
        "id": "jBtFQsTBYsu8"
      }
    },
    {
      "cell_type": "markdown",
      "source": [
        "#### input으로 반지름, 높이 값 입력 받기"
      ],
      "metadata": {
        "id": "B6JHaE0HZVKW"
      }
    },
    {
      "cell_type": "code",
      "source": [
        "#반지름, 높이 값 할당\n",
        "rad = input(\"반지름의 값을 입력하세요: \")\n",
        "hei = input(\"높이의 값을 입력하세요: \")\n",
        "#부피 출력\n",
        "print(1 / 3 * 3.14 * rad ** 2 * hei )\n",
        "#겉넓이 출력\n",
        "print(3.14 * rad ** 2 + 3.14 * rad * hei)"
      ],
      "metadata": {
        "colab": {
          "base_uri": "https://localhost:8080/",
          "height": 266
        },
        "id": "TRMj3qH8Y0-Y",
        "outputId": "8033bbc0-f77f-4fe8-c660-f396ae87b215"
      },
      "execution_count": 7,
      "outputs": [
        {
          "name": "stdout",
          "output_type": "stream",
          "text": [
            "반지름의 값을 입력하세요: 20\n",
            "높이의 값을 입력하세요: 30\n"
          ]
        },
        {
          "output_type": "error",
          "ename": "TypeError",
          "evalue": "ignored",
          "traceback": [
            "\u001b[0;31m---------------------------------------------------------------------------\u001b[0m",
            "\u001b[0;31mTypeError\u001b[0m                                 Traceback (most recent call last)",
            "\u001b[0;32m<ipython-input-7-dd14b411062a>\u001b[0m in \u001b[0;36m<cell line: 5>\u001b[0;34m()\u001b[0m\n\u001b[1;32m      3\u001b[0m \u001b[0mhei\u001b[0m \u001b[0;34m=\u001b[0m \u001b[0minput\u001b[0m\u001b[0;34m(\u001b[0m\u001b[0;34m\"높이의 값을 입력하세요: \"\u001b[0m\u001b[0;34m)\u001b[0m\u001b[0;34m\u001b[0m\u001b[0;34m\u001b[0m\u001b[0m\n\u001b[1;32m      4\u001b[0m \u001b[0;31m#부피 출력\u001b[0m\u001b[0;34m\u001b[0m\u001b[0;34m\u001b[0m\u001b[0m\n\u001b[0;32m----> 5\u001b[0;31m \u001b[0mprint\u001b[0m\u001b[0;34m(\u001b[0m\u001b[0;36m1\u001b[0m \u001b[0;34m/\u001b[0m \u001b[0;36m3\u001b[0m \u001b[0;34m*\u001b[0m \u001b[0;36m3.14\u001b[0m \u001b[0;34m*\u001b[0m \u001b[0mrad\u001b[0m \u001b[0;34m**\u001b[0m \u001b[0;36m2\u001b[0m \u001b[0;34m*\u001b[0m \u001b[0mhei\u001b[0m \u001b[0;34m)\u001b[0m\u001b[0;34m\u001b[0m\u001b[0;34m\u001b[0m\u001b[0m\n\u001b[0m\u001b[1;32m      6\u001b[0m \u001b[0;31m#겉넓이 출력\u001b[0m\u001b[0;34m\u001b[0m\u001b[0;34m\u001b[0m\u001b[0m\n\u001b[1;32m      7\u001b[0m \u001b[0mprint\u001b[0m\u001b[0;34m(\u001b[0m\u001b[0;36m3.14\u001b[0m \u001b[0;34m*\u001b[0m \u001b[0mrad\u001b[0m \u001b[0;34m**\u001b[0m \u001b[0;36m2\u001b[0m \u001b[0;34m+\u001b[0m \u001b[0;36m3.14\u001b[0m \u001b[0;34m*\u001b[0m \u001b[0mrad\u001b[0m \u001b[0;34m*\u001b[0m \u001b[0mhei\u001b[0m\u001b[0;34m)\u001b[0m\u001b[0;34m\u001b[0m\u001b[0;34m\u001b[0m\u001b[0m\n",
            "\u001b[0;31mTypeError\u001b[0m: unsupported operand type(s) for ** or pow(): 'str' and 'int'"
          ]
        }
      ]
    },
    {
      "cell_type": "markdown",
      "source": [
        "- TypeError 발생\n",
        "- 문자열 형태의 input() 반환 값을 산술 계산에 활용할 수 없음"
      ],
      "metadata": {
        "id": "UTjI3J8ybdKJ"
      }
    },
    {
      "cell_type": "markdown",
      "source": [
        "#### 데이터 타입 변환"
      ],
      "metadata": {
        "id": "vrrOeV_cbnYO"
      }
    },
    {
      "cell_type": "markdown",
      "source": [
        "##### 1. input()의 반환값 기본 형태 = 문자열"
      ],
      "metadata": {
        "id": "lQd0_gixbyWz"
      }
    },
    {
      "cell_type": "code",
      "source": [
        "input(\"반지름의 값을 입력하세요: \")"
      ],
      "metadata": {
        "colab": {
          "base_uri": "https://localhost:8080/",
          "height": 52
        },
        "id": "-6pc744ebwS3",
        "outputId": "e1404445-6cb8-4e55-c2dd-5c3216c536d7"
      },
      "execution_count": 8,
      "outputs": [
        {
          "name": "stdout",
          "output_type": "stream",
          "text": [
            "반지름의 값을 입력하세요: 30\n"
          ]
        },
        {
          "output_type": "execute_result",
          "data": {
            "text/plain": [
              "'30'"
            ],
            "application/vnd.google.colaboratory.intrinsic+json": {
              "type": "string"
            }
          },
          "metadata": {},
          "execution_count": 8
        }
      ]
    },
    {
      "cell_type": "markdown",
      "source": [
        "##### 2. int() 함수로 데이터 형태를 정수로 변환할 수 있음"
      ],
      "metadata": {
        "id": "vsydr9dWcJXW"
      }
    },
    {
      "cell_type": "code",
      "source": [
        "rad = input(\"반지름의 값을 입력하세요: \")\n",
        "int(rad)"
      ],
      "metadata": {
        "colab": {
          "base_uri": "https://localhost:8080/"
        },
        "id": "ZPC_9dYUcFLj",
        "outputId": "6f20c4c0-47e4-4ef0-f737-335338f0bcf5"
      },
      "execution_count": 9,
      "outputs": [
        {
          "name": "stdout",
          "output_type": "stream",
          "text": [
            "반지름의 값을 입력하세요: 30\n"
          ]
        },
        {
          "output_type": "execute_result",
          "data": {
            "text/plain": [
              "30"
            ]
          },
          "metadata": {},
          "execution_count": 9
        }
      ]
    },
    {
      "cell_type": "markdown",
      "source": [
        "##### 3. 함수의 중첩: 두 줄의 코드를 한 줄로 축약"
      ],
      "metadata": {
        "id": "3vRgOYrDccCI"
      }
    },
    {
      "cell_type": "code",
      "source": [
        "int(input(\"반지름의 값을 입력하세요: \"))"
      ],
      "metadata": {
        "colab": {
          "base_uri": "https://localhost:8080/"
        },
        "id": "h6YkCr8IcT1I",
        "outputId": "40db1366-ba81-4e91-fd5d-a9a8d357107e"
      },
      "execution_count": 12,
      "outputs": [
        {
          "name": "stdout",
          "output_type": "stream",
          "text": [
            "반지름의 값을 입력하세요: 30\n"
          ]
        },
        {
          "output_type": "execute_result",
          "data": {
            "text/plain": [
              "30"
            ]
          },
          "metadata": {},
          "execution_count": 12
        }
      ]
    },
    {
      "cell_type": "markdown",
      "source": [
        "##### 4. 원뿔 계산 코드 수정"
      ],
      "metadata": {
        "id": "UbvFruBVcSuk"
      }
    },
    {
      "cell_type": "code",
      "source": [
        "#반지름, 높이 값 할당\n",
        "rad = int(input(\"반지름의 값을 입력하세요: \"))\n",
        "hei = int(input(\"높이의 값을 입력하세요: \"))\n",
        "#부피 출력\n",
        "print(1 / 3 * 3.14 * rad ** 2 * hei )\n",
        "#겉넓이 출력\n",
        "print(3.14 * rad ** 2 + 3.14 * rad * hei)"
      ],
      "metadata": {
        "colab": {
          "base_uri": "https://localhost:8080/"
        },
        "id": "MZjPwBDabdgs",
        "outputId": "130e4eff-b7f6-4ad6-ff11-1bce84c8ead9"
      },
      "execution_count": 13,
      "outputs": [
        {
          "output_type": "stream",
          "name": "stdout",
          "text": [
            "반지름의 값을 입력하세요: 30\n",
            "높이의 값을 입력하세요: 20\n",
            "18840.0\n",
            "4710.0\n"
          ]
        }
      ]
    },
    {
      "cell_type": "markdown",
      "source": [
        "#### 불친절함 개선: 설명 추가"
      ],
      "metadata": {
        "id": "fkZQOhM1dPgQ"
      }
    },
    {
      "cell_type": "markdown",
      "source": [
        "출력값의 어느 것이 부피이고 겉넓이인지 구분할 수 없음 <br>\n",
        "-> print 함수에 여러 개 파라미터를 입력해 친절한 보고서 만들기"
      ],
      "metadata": {
        "id": "lFFlOg8RdTcN"
      }
    },
    {
      "cell_type": "code",
      "source": [
        "#반지름, 높이 값 할당\n",
        "rad = int(input(\"반지름의 값을 입력하세요: \"))\n",
        "hei = int(input(\"높이의 값을 입력하세요: \"))\n",
        "#부피 출력\n",
        "print(\"부피의 값은\", 1 / 3 * 3.14 * rad ** 2 * hei, \"입니다.\" )\n",
        "#겉넓이 출력\n",
        "print(\"겉넓이의 값은\", 3.14 * rad ** 2 + 3.14 * rad * hei, \"입니다.\")"
      ],
      "metadata": {
        "colab": {
          "base_uri": "https://localhost:8080/"
        },
        "id": "TN8rZGrXdO8j",
        "outputId": "f824d3a5-6e11-43b6-9e70-d6a7924a3198"
      },
      "execution_count": 14,
      "outputs": [
        {
          "output_type": "stream",
          "name": "stdout",
          "text": [
            "반지름의 값을 입력하세요: 30\n",
            "높이의 값을 입력하세요: 40\n",
            "부피의 값은 37680.0 입니다.\n",
            "겉넓이의 값은 6594.0 입니다.\n"
          ]
        }
      ]
    },
    {
      "cell_type": "markdown",
      "source": [
        "- print() 함수에 복수 파라미터 삽입 시 공백으로 분리됨\n",
        "- 구분자(separater)를 다른 것으로 바꿀 수 있음"
      ],
      "metadata": {
        "id": "uZOyqrMmfKBy"
      }
    },
    {
      "cell_type": "code",
      "source": [
        "#반지름, 높이 값 할당\n",
        "rad = int(input(\"반지름의 값을 입력하세요: \"))\n",
        "hei = int(input(\"높이의 값을 입력하세요: \"))\n",
        "#부피 출력\n",
        "print(\"부피의 값은 \", 1 / 3 * 3.14 * rad ** 2 * hei, \" 입니다.\", sep=\"\")\n",
        "#겉넓이 출력\n",
        "print(\"겉넓이의 값은 \", 3.14 * rad ** 2 + 3.14 * rad * hei, \" 입니다.\", sep=\"\")"
      ],
      "metadata": {
        "colab": {
          "base_uri": "https://localhost:8080/"
        },
        "id": "nFtgI4J6fUKg",
        "outputId": "f86b463c-81d9-4a52-bc29-cc1603b4c7e3"
      },
      "execution_count": 18,
      "outputs": [
        {
          "output_type": "stream",
          "name": "stdout",
          "text": [
            "반지름의 값을 입력하세요: 30\n",
            "높이의 값을 입력하세요: 40\n",
            "부피의 값은 37680.0 입니다.\n",
            "겉넓이의 값은 6594.0 입니다.\n"
          ]
        }
      ]
    }
  ]
}
