{
  "nbformat": 4,
  "nbformat_minor": 0,
  "metadata": {
    "colab": {
      "provenance": [],
      "include_colab_link": true
    },
    "kernelspec": {
      "name": "python3",
      "display_name": "Python 3"
    },
    "language_info": {
      "name": "python"
    }
  },
  "cells": [
    {
      "cell_type": "markdown",
      "metadata": {
        "id": "view-in-github",
        "colab_type": "text"
      },
      "source": [
        "<a href=\"https://colab.research.google.com/github/parkyena2/googleColab/blob/main/4%EA%B0%95_%EC%8B%A4%EC%8A%B5(%EC%9B%90%EB%B3%B8)_ipynb%EC%9D%98_%EC%82%AC%EB%B3%B8.ipynb\" target=\"_parent\"><img src=\"https://colab.research.google.com/assets/colab-badge.svg\" alt=\"Open In Colab\"/></a>"
      ]
    },
    {
      "cell_type": "markdown",
      "source": [
        "# 4강 1절\n",
        "* All data have different types.\n",
        "* When copy & paste code, check quotation marks."
      ],
      "metadata": {
        "id": "8qm2njbqj44L"
      }
    },
    {
      "cell_type": "markdown",
      "source": [
        "##echo\n",
        "input data without command -> print as it is"
      ],
      "metadata": {
        "id": "cjdP5VwN-i7C"
      }
    },
    {
      "cell_type": "code",
      "source": [
        "3.14"
      ],
      "metadata": {
        "colab": {
          "base_uri": "https://localhost:8080/"
        },
        "id": "X9HYmrua-TZy",
        "outputId": "6d81677b-01b9-4fa2-e575-81a0f6d14b60"
      },
      "execution_count": 1,
      "outputs": [
        {
          "output_type": "execute_result",
          "data": {
            "text/plain": [
              "3.14"
            ]
          },
          "metadata": {},
          "execution_count": 1
        }
      ]
    },
    {
      "cell_type": "code",
      "source": [
        "\"Computer Science\""
      ],
      "metadata": {
        "colab": {
          "base_uri": "https://localhost:8080/",
          "height": 35
        },
        "id": "KA2eqlfb-bWI",
        "outputId": "f73a09ad-c6db-46fb-f54a-28d4c1793ff5"
      },
      "execution_count": 2,
      "outputs": [
        {
          "output_type": "execute_result",
          "data": {
            "text/plain": [
              "'Computer Science'"
            ],
            "application/vnd.google.colaboratory.intrinsic+json": {
              "type": "string"
            }
          },
          "metadata": {},
          "execution_count": 2
        }
      ]
    },
    {
      "cell_type": "markdown",
      "source": [
        "##difference of quotation mark with string\n",
        "quotes of common text is not quotes of python string. <br>\n",
        "if you copy & paste from common text like ms word docs, it might not work."
      ],
      "metadata": {
        "id": "rEHCvn9JBblG"
      }
    },
    {
      "cell_type": "code",
      "source": [
        "“Hello World!” #not work"
      ],
      "metadata": {
        "id": "Rupa9hQnfVSx",
        "colab": {
          "base_uri": "https://localhost:8080/",
          "height": 130
        },
        "outputId": "109b0838-3c57-4369-f216-91f699e98928"
      },
      "execution_count": 5,
      "outputs": [
        {
          "output_type": "error",
          "ename": "SyntaxError",
          "evalue": "ignored",
          "traceback": [
            "\u001b[0;36m  File \u001b[0;32m\"<ipython-input-5-356a4a3f4fd5>\"\u001b[0;36m, line \u001b[0;32m1\u001b[0m\n\u001b[0;31m    “Hello World!” #not work\u001b[0m\n\u001b[0m    ^\u001b[0m\n\u001b[0;31mSyntaxError\u001b[0m\u001b[0;31m:\u001b[0m invalid character '“' (U+201C)\n"
          ]
        }
      ]
    },
    {
      "cell_type": "code",
      "source": [
        "\"Hello World!\" #work"
      ],
      "metadata": {
        "colab": {
          "base_uri": "https://localhost:8080/",
          "height": 35
        },
        "id": "Xu7REzyMCPzF",
        "outputId": "7b27e6a5-1ca9-4865-b237-be354e650548"
      },
      "execution_count": 6,
      "outputs": [
        {
          "output_type": "execute_result",
          "data": {
            "text/plain": [
              "'Hello World!'"
            ],
            "application/vnd.google.colaboratory.intrinsic+json": {
              "type": "string"
            }
          },
          "metadata": {},
          "execution_count": 6
        }
      ]
    },
    {
      "cell_type": "markdown",
      "source": [
        "##computing operator practice\n",
        "\n",
        "- The execution of an operator without a variable or a function is an echo.\n",
        "- Python already defined operators to work differently according to the type of data they handle."
      ],
      "metadata": {
        "id": "o2pLN4aKD2eO"
      }
    },
    {
      "cell_type": "markdown",
      "source": [
        "###numerical expression of integers(numbers)"
      ],
      "metadata": {
        "id": "7csbOVSkF2ew"
      }
    },
    {
      "cell_type": "code",
      "source": [
        "12 * 7"
      ],
      "metadata": {
        "colab": {
          "base_uri": "https://localhost:8080/"
        },
        "id": "VPibg3zSD7ol",
        "outputId": "bfb57d87-82fc-4bb6-ba51-6ab703ba3982"
      },
      "execution_count": 7,
      "outputs": [
        {
          "output_type": "execute_result",
          "data": {
            "text/plain": [
              "84"
            ]
          },
          "metadata": {},
          "execution_count": 7
        }
      ]
    },
    {
      "cell_type": "code",
      "source": [
        "(7 + 15) * 2"
      ],
      "metadata": {
        "colab": {
          "base_uri": "https://localhost:8080/"
        },
        "id": "YBezhtyzFcB2",
        "outputId": "95039f32-781f-4b23-ec24-bb0607b378e0"
      },
      "execution_count": 8,
      "outputs": [
        {
          "output_type": "execute_result",
          "data": {
            "text/plain": [
              "44"
            ]
          },
          "metadata": {},
          "execution_count": 8
        }
      ]
    },
    {
      "cell_type": "code",
      "source": [
        "2 ** 10 * 5"
      ],
      "metadata": {
        "colab": {
          "base_uri": "https://localhost:8080/"
        },
        "id": "W8NhOegPFgV2",
        "outputId": "634fe781-ff44-4d97-ff99-8434b13112c6"
      },
      "execution_count": 10,
      "outputs": [
        {
          "output_type": "execute_result",
          "data": {
            "text/plain": [
              "5120"
            ]
          },
          "metadata": {},
          "execution_count": 10
        }
      ]
    },
    {
      "cell_type": "markdown",
      "source": [
        "### numerical expression of strings\n",
        "- The + operator can be used for the concatenation of strings.\n",
        "- The * operator can be used to repeat strings."
      ],
      "metadata": {
        "id": "IIHmeSZYFt8E"
      }
    },
    {
      "cell_type": "markdown",
      "source": [
        "####concatenation of strings by + operator"
      ],
      "metadata": {
        "id": "xqC3t_TuIBqZ"
      }
    },
    {
      "cell_type": "code",
      "source": [
        "\"computer\" + \"science \""
      ],
      "metadata": {
        "colab": {
          "base_uri": "https://localhost:8080/",
          "height": 35
        },
        "id": "mOWpMD8RF9Xg",
        "outputId": "08830e93-ce55-43e5-e9d6-d6b0b81855de"
      },
      "execution_count": 11,
      "outputs": [
        {
          "output_type": "execute_result",
          "data": {
            "text/plain": [
              "'computerscience'"
            ],
            "application/vnd.google.colaboratory.intrinsic+json": {
              "type": "string"
            }
          },
          "metadata": {},
          "execution_count": 11
        }
      ]
    },
    {
      "cell_type": "markdown",
      "source": [
        "####repetition of strings by * operator with a number"
      ],
      "metadata": {
        "id": "VgwsnaDKIIT1"
      }
    },
    {
      "cell_type": "code",
      "source": [
        "\"computer\" * 2"
      ],
      "metadata": {
        "colab": {
          "base_uri": "https://localhost:8080/",
          "height": 35
        },
        "id": "-WacpK3cHuBA",
        "outputId": "7b31391d-3f1e-48b5-b4eb-fe206632112e"
      },
      "execution_count": 15,
      "outputs": [
        {
          "output_type": "execute_result",
          "data": {
            "text/plain": [
              "'computercomputer'"
            ],
            "application/vnd.google.colaboratory.intrinsic+json": {
              "type": "string"
            }
          },
          "metadata": {},
          "execution_count": 15
        }
      ]
    },
    {
      "cell_type": "markdown",
      "source": [
        "##Writing the rows of codes with the print() function\n",
        "- The print() function can print data received as parameters.\n",
        "- It would be better to use the print() function than echo:\n",
        "  - I want to print data in different formats.\n",
        "  - I want to print the rows of data at a time. \n",
        "    - If you print the rows of strings by echo, it will print only the last row."
      ],
      "metadata": {
        "id": "405Zn2H2IS3e"
      }
    },
    {
      "cell_type": "code",
      "source": [
        "print(\"Hello World!\")"
      ],
      "metadata": {
        "colab": {
          "base_uri": "https://localhost:8080/"
        },
        "id": "fKO55voXInE3",
        "outputId": "75fb0d44-49db-4989-8572-8f4261f8da1f"
      },
      "execution_count": 16,
      "outputs": [
        {
          "output_type": "stream",
          "name": "stdout",
          "text": [
            "Hello World!\n"
          ]
        }
      ]
    },
    {
      "cell_type": "code",
      "source": [
        "print(14 * 7)"
      ],
      "metadata": {
        "colab": {
          "base_uri": "https://localhost:8080/"
        },
        "id": "pXWDXg-cKjkA",
        "outputId": "5ec2769d-2a8a-4e45-98c3-f997ee6a4dcd"
      },
      "execution_count": 17,
      "outputs": [
        {
          "output_type": "stream",
          "name": "stdout",
          "text": [
            "98\n"
          ]
        }
      ]
    },
    {
      "cell_type": "code",
      "source": [
        "print(\"Python is fun\")\n",
        "print(\"No I don't think so \")"
      ],
      "metadata": {
        "colab": {
          "base_uri": "https://localhost:8080/"
        },
        "id": "s2egoJsRKthR",
        "outputId": "4465c9d4-e2fc-408c-ddec-d90549c34fdd"
      },
      "execution_count": 18,
      "outputs": [
        {
          "output_type": "stream",
          "name": "stdout",
          "text": [
            "Python is fun\n",
            "No I don't think so\n"
          ]
        }
      ]
    },
    {
      "cell_type": "markdown",
      "source": [
        "###Indentation in Python\n",
        "- The indentation of code has a specific meaning in the python language.\n",
        "- You should NOT use indentation of code in no meaning."
      ],
      "metadata": {
        "id": "zhFIei3wLcn9"
      }
    },
    {
      "cell_type": "code",
      "source": [
        "print(\"Python is fun\")\n",
        "  print(\"No I don't think so \")"
      ],
      "metadata": {
        "colab": {
          "base_uri": "https://localhost:8080/",
          "height": 130
        },
        "id": "GhSCZyTgLcSg",
        "outputId": "569fbfd1-a903-4fb6-cc13-e5dd2695937b"
      },
      "execution_count": 19,
      "outputs": [
        {
          "output_type": "error",
          "ename": "IndentationError",
          "evalue": "ignored",
          "traceback": [
            "\u001b[0;36m  File \u001b[0;32m\"<ipython-input-19-213485b4e5c5>\"\u001b[0;36m, line \u001b[0;32m2\u001b[0m\n\u001b[0;31m    print(\"No I don't think so \")\u001b[0m\n\u001b[0m    ^\u001b[0m\n\u001b[0;31mIndentationError\u001b[0m\u001b[0;31m:\u001b[0m unexpected indent\n"
          ]
        }
      ]
    },
    {
      "cell_type": "markdown",
      "source": [
        "### Writing comments for code\n",
        "- Since markdown text can not be used without The Jupyter Notebook, it is very important to learn how to write comments for code.\n",
        "- A comment can be wrote by writing a sentence after # mark\n",
        "- A rows of comments can be wrote by writing the rows of text in between \"\"\", \"\"\" or ''', '''\n",
        "\n"
      ],
      "metadata": {
        "id": "nr9oDWClMbM3"
      }
    },
    {
      "cell_type": "code",
      "source": [
        "#calculating credit\n",
        "print((4.5 * 2 + 4.0 * 3) / 2)"
      ],
      "metadata": {
        "colab": {
          "base_uri": "https://localhost:8080/"
        },
        "id": "2VE4zwKtMm6M",
        "outputId": "eebb2105-e32a-4d4e-a76d-92a9326480ed"
      },
      "execution_count": 21,
      "outputs": [
        {
          "output_type": "stream",
          "name": "stdout",
          "text": [
            "10.5\n"
          ]
        }
      ]
    },
    {
      "cell_type": "markdown",
      "source": [
        "# 4강 2절"
      ],
      "metadata": {
        "id": "XA4yR0RDjgNl"
      }
    },
    {
      "cell_type": "markdown",
      "source": [
        "##Using the Python variables"
      ],
      "metadata": {
        "id": "8JOOZ2DGT57W"
      }
    },
    {
      "cell_type": "markdown",
      "source": [
        " - The reserved word can not be used for variable name."
      ],
      "metadata": {
        "id": "7Ksb1hX2UCfH"
      }
    },
    {
      "cell_type": "code",
      "source": [
        "class = 30"
      ],
      "metadata": {
        "colab": {
          "base_uri": "https://localhost:8080/",
          "height": 130
        },
        "id": "nGJgdidvUQ7_",
        "outputId": "10280f6e-1b12-4010-f4cd-d5f6b3a7605c"
      },
      "execution_count": 22,
      "outputs": [
        {
          "output_type": "error",
          "ename": "SyntaxError",
          "evalue": "ignored",
          "traceback": [
            "\u001b[0;36m  File \u001b[0;32m\"<ipython-input-22-b1bde459b6bd>\"\u001b[0;36m, line \u001b[0;32m1\u001b[0m\n\u001b[0;31m    class = 30\u001b[0m\n\u001b[0m          ^\u001b[0m\n\u001b[0;31mSyntaxError\u001b[0m\u001b[0;31m:\u001b[0m invalid syntax\n"
          ]
        }
      ]
    },
    {
      "cell_type": "markdown",
      "source": [
        "- The variable name can not be start with a number."
      ],
      "metadata": {
        "id": "wU-WBaNIUWZY"
      }
    },
    {
      "cell_type": "code",
      "source": [
        "1abc = 30"
      ],
      "metadata": {
        "colab": {
          "base_uri": "https://localhost:8080/",
          "height": 130
        },
        "id": "JIw_uGdaUfMJ",
        "outputId": "3a19eac0-894a-4358-a322-d64c3810df07"
      },
      "execution_count": 23,
      "outputs": [
        {
          "output_type": "error",
          "ename": "SyntaxError",
          "evalue": "ignored",
          "traceback": [
            "\u001b[0;36m  File \u001b[0;32m\"<ipython-input-23-14ce0b85d55f>\"\u001b[0;36m, line \u001b[0;32m1\u001b[0m\n\u001b[0;31m    1abc = 30\u001b[0m\n\u001b[0m     ^\u001b[0m\n\u001b[0;31mSyntaxError\u001b[0m\u001b[0;31m:\u001b[0m invalid syntax\n"
          ]
        }
      ]
    },
    {
      "cell_type": "markdown",
      "source": [
        "- The variable name can be start with a character or a underbar."
      ],
      "metadata": {
        "id": "CtcPA5wpUjDs"
      }
    },
    {
      "cell_type": "code",
      "source": [
        "abc = 30\n",
        "_def = 40\n",
        "print(abc)\n",
        "print(_def )"
      ],
      "metadata": {
        "colab": {
          "base_uri": "https://localhost:8080/"
        },
        "id": "g79A0B6PUtiM",
        "outputId": "d53ec2a3-35ee-48d6-ccce-e8246c29097d"
      },
      "execution_count": 25,
      "outputs": [
        {
          "output_type": "stream",
          "name": "stdout",
          "text": [
            "30\n",
            "40\n"
          ]
        }
      ]
    },
    {
      "cell_type": "markdown",
      "source": [
        "###Writing a program to calculate a volume of a cone"
      ],
      "metadata": {
        "id": "d0h3U2kxU-rb"
      }
    },
    {
      "cell_type": "markdown",
      "source": [
        "####A program without variables"
      ],
      "metadata": {
        "id": "yHekbqqMWMhj"
      }
    },
    {
      "cell_type": "code",
      "source": [
        "#radius=20, height=30\n",
        "\n",
        "#print volume of a cone\n",
        "print(1 / 3 * 3.14 * 20 ** 2 * 30 )\n",
        "\n",
        "#print surface area of a cone\n",
        "print(3.14 * 20 ** 2 + 3.14 * 20 * 30)"
      ],
      "metadata": {
        "id": "buMmaXCXjk6D",
        "colab": {
          "base_uri": "https://localhost:8080/"
        },
        "outputId": "74a39899-09f7-4f2d-d83e-05979597a6c6"
      },
      "execution_count": 26,
      "outputs": [
        {
          "output_type": "stream",
          "name": "stdout",
          "text": [
            "12559.999999999998\n",
            "3140.0\n"
          ]
        }
      ]
    },
    {
      "cell_type": "markdown",
      "source": [
        "####A program with variables"
      ],
      "metadata": {
        "id": "x88c__H2WSsm"
      }
    },
    {
      "cell_type": "code",
      "source": [
        "#assign a radius value to variable\n",
        "rad = 20\n",
        "\n",
        "#assign a height value to variable\n",
        "hei = 30\n",
        "\n",
        "#print volume of a cone\n",
        "print(1 / 3 * 3.14 * rad ** 2 * hei)\n",
        "\n",
        "#print surface area of a cone\n",
        "print(3.14 * rad ** 2 + 3.14 * rad * hei)"
      ],
      "metadata": {
        "colab": {
          "base_uri": "https://localhost:8080/"
        },
        "id": "Hu4W7VAwWLs5",
        "outputId": "fbbdc359-b423-4cc4-b0e0-bd4ea7adfe93"
      },
      "execution_count": 27,
      "outputs": [
        {
          "output_type": "stream",
          "name": "stdout",
          "text": [
            "12559.999999999998\n",
            "3140.0\n"
          ]
        }
      ]
    },
    {
      "cell_type": "code",
      "source": [
        "#assign a radius value to variable\n",
        "rad = 40\n",
        "\n",
        "#assign a height value to variable\n",
        "hei = 10\n",
        "\n",
        "#print volume of a cone\n",
        "print(1 / 3 * 3.14 * rad ** 2 * hei)\n",
        "\n",
        "#print surface area of a cone\n",
        "print(3.14 * rad ** 2 + 3.14 * rad * hei)"
      ],
      "metadata": {
        "colab": {
          "base_uri": "https://localhost:8080/"
        },
        "id": "CNK4eYNeXtfU",
        "outputId": "985ccbef-eac5-4aad-d300-818bb1ecdc61"
      },
      "execution_count": 28,
      "outputs": [
        {
          "output_type": "stream",
          "name": "stdout",
          "text": [
            "16746.666666666664\n",
            "6280.0\n"
          ]
        }
      ]
    },
    {
      "cell_type": "markdown",
      "source": [
        "#Lesson 4 - 3: The Arithmetic operator and the Built in function"
      ],
      "metadata": {
        "id": "jWkapj2gY3N_"
      }
    },
    {
      "cell_type": "markdown",
      "source": [
        "##Arithmetic operator"
      ],
      "metadata": {
        "id": "CjNvwIxba6Fh"
      }
    },
    {
      "cell_type": "markdown",
      "source": [
        "### division"
      ],
      "metadata": {
        "id": "GZNlNiagZR_J"
      }
    },
    {
      "cell_type": "code",
      "source": [
        "5 / 2"
      ],
      "metadata": {
        "colab": {
          "base_uri": "https://localhost:8080/"
        },
        "id": "MGon9L5yZMxr",
        "outputId": "b2d427c7-6d53-48f0-ecd7-53701a91f870"
      },
      "execution_count": 29,
      "outputs": [
        {
          "output_type": "execute_result",
          "data": {
            "text/plain": [
              "2.5"
            ]
          },
          "metadata": {},
          "execution_count": 29
        }
      ]
    },
    {
      "cell_type": "markdown",
      "source": [
        "###division - print quotient"
      ],
      "metadata": {
        "id": "uoBuIszDZVae"
      }
    },
    {
      "cell_type": "code",
      "source": [
        "5 // 2"
      ],
      "metadata": {
        "colab": {
          "base_uri": "https://localhost:8080/"
        },
        "id": "ERHUlwBbZN9H",
        "outputId": "7be16cf8-c2f0-43b7-db1e-ce02f9e88c1e"
      },
      "execution_count": 31,
      "outputs": [
        {
          "output_type": "execute_result",
          "data": {
            "text/plain": [
              "2"
            ]
          },
          "metadata": {},
          "execution_count": 31
        }
      ]
    },
    {
      "cell_type": "markdown",
      "source": [
        "###modulo operator\n",
        "- It is mainly used to odd-even check"
      ],
      "metadata": {
        "id": "PZtUmlMdZtqE"
      }
    },
    {
      "cell_type": "code",
      "source": [
        " 25 % 7"
      ],
      "metadata": {
        "colab": {
          "base_uri": "https://localhost:8080/"
        },
        "id": "2TWy8XYbZndT",
        "outputId": "b0821cfd-7ecc-49e7-bb55-8e06614153cc"
      },
      "execution_count": 32,
      "outputs": [
        {
          "output_type": "execute_result",
          "data": {
            "text/plain": [
              "4"
            ]
          },
          "metadata": {},
          "execution_count": 32
        }
      ]
    },
    {
      "cell_type": "code",
      "source": [
        "8.4 % 0.9"
      ],
      "metadata": {
        "colab": {
          "base_uri": "https://localhost:8080/"
        },
        "id": "m5EvF4g-Z0IL",
        "outputId": "d12c842a-65fa-431b-fb4b-07f3ca674df8"
      },
      "execution_count": 33,
      "outputs": [
        {
          "output_type": "execute_result",
          "data": {
            "text/plain": [
              "0.30000000000000016"
            ]
          },
          "metadata": {},
          "execution_count": 33
        }
      ]
    },
    {
      "cell_type": "markdown",
      "source": [
        "#### odd-even check"
      ],
      "metadata": {
        "id": "0u7SyK2DaoFU"
      }
    },
    {
      "cell_type": "code",
      "source": [
        "number = 9\n",
        "number % 2"
      ],
      "metadata": {
        "colab": {
          "base_uri": "https://localhost:8080/"
        },
        "id": "ZIZcOTfdZ5FU",
        "outputId": "acd93f00-f245-41e0-e3e4-32d66e079002"
      },
      "execution_count": 35,
      "outputs": [
        {
          "output_type": "execute_result",
          "data": {
            "text/plain": [
              "1"
            ]
          },
          "metadata": {},
          "execution_count": 35
        }
      ]
    },
    {
      "cell_type": "code",
      "source": [
        "number = 10\n",
        "number % 2"
      ],
      "metadata": {
        "colab": {
          "base_uri": "https://localhost:8080/"
        },
        "id": "in8FnnxiajFY",
        "outputId": "384edaf4-f447-4eed-ab2d-0b09bd013cda"
      },
      "execution_count": 36,
      "outputs": [
        {
          "output_type": "execute_result",
          "data": {
            "text/plain": [
              "0"
            ]
          },
          "metadata": {},
          "execution_count": 36
        }
      ]
    },
    {
      "cell_type": "markdown",
      "source": [
        "##Built in function\n",
        "- It is already defined in the Python language"
      ],
      "metadata": {
        "id": "3EZWSp5VbCT0"
      }
    },
    {
      "cell_type": "markdown",
      "source": [
        "### max()"
      ],
      "metadata": {
        "id": "TUhnedLzbYq5"
      }
    },
    {
      "cell_type": "code",
      "source": [
        "max(2, 3, 4)"
      ],
      "metadata": {
        "colab": {
          "base_uri": "https://localhost:8080/"
        },
        "id": "5Uhr1lJcbKi4",
        "outputId": "20b0b112-52ad-4a26-9f0d-f1ddce36537a"
      },
      "execution_count": 38,
      "outputs": [
        {
          "output_type": "execute_result",
          "data": {
            "text/plain": [
              "4"
            ]
          },
          "metadata": {},
          "execution_count": 38
        }
      ]
    },
    {
      "cell_type": "markdown",
      "source": [
        "###min()"
      ],
      "metadata": {
        "id": "PHevSu7Ybc9I"
      }
    },
    {
      "cell_type": "code",
      "source": [
        "min(2, 3, 4)"
      ],
      "metadata": {
        "colab": {
          "base_uri": "https://localhost:8080/"
        },
        "id": "QNeVlNCKbejf",
        "outputId": "e5d40f5e-58cc-415d-ebb0-62413be20b7c"
      },
      "execution_count": 37,
      "outputs": [
        {
          "output_type": "execute_result",
          "data": {
            "text/plain": [
              "2"
            ]
          },
          "metadata": {},
          "execution_count": 37
        }
      ]
    },
    {
      "cell_type": "markdown",
      "source": [
        "###round()"
      ],
      "metadata": {
        "id": "ff546RAYblI0"
      }
    },
    {
      "cell_type": "code",
      "source": [
        "round(3.14) "
      ],
      "metadata": {
        "colab": {
          "base_uri": "https://localhost:8080/"
        },
        "id": "uBlL8lhObf-8",
        "outputId": "dfdcc162-70d6-4259-f2bd-fad3c554546d"
      },
      "execution_count": 39,
      "outputs": [
        {
          "output_type": "execute_result",
          "data": {
            "text/plain": [
              "3"
            ]
          },
          "metadata": {},
          "execution_count": 39
        }
      ]
    },
    {
      "cell_type": "markdown",
      "source": [
        "###abs()"
      ],
      "metadata": {
        "id": "WD7wr7N1brIC"
      }
    },
    {
      "cell_type": "code",
      "source": [
        "abs(-3)"
      ],
      "metadata": {
        "colab": {
          "base_uri": "https://localhost:8080/"
        },
        "id": "SDkPYrejbtH_",
        "outputId": "dc953f73-2b24-4c17-de32-850069b4dd50"
      },
      "execution_count": 40,
      "outputs": [
        {
          "output_type": "execute_result",
          "data": {
            "text/plain": [
              "3"
            ]
          },
          "metadata": {},
          "execution_count": 40
        }
      ]
    },
    {
      "cell_type": "markdown",
      "source": [
        "###pow()"
      ],
      "metadata": {
        "id": "aRa3Nijsbxye"
      }
    },
    {
      "cell_type": "code",
      "source": [
        "pow(2, 3)"
      ],
      "metadata": {
        "colab": {
          "base_uri": "https://localhost:8080/"
        },
        "id": "cSEgwUZvbz3E",
        "outputId": "7f228f11-c8dd-4e5a-af28-05bc7f8e2381"
      },
      "execution_count": 42,
      "outputs": [
        {
          "output_type": "execute_result",
          "data": {
            "text/plain": [
              "8"
            ]
          },
          "metadata": {},
          "execution_count": 42
        }
      ]
    }
  ]
}
