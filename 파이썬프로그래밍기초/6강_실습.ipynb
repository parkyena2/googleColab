{
  "nbformat": 4,
  "nbformat_minor": 0,
  "metadata": {
    "colab": {
      "provenance": [],
      "include_colab_link": true
    },
    "kernelspec": {
      "name": "python3",
      "display_name": "Python 3"
    },
    "language_info": {
      "name": "python"
    }
  },
  "cells": [
    {
      "cell_type": "markdown",
      "metadata": {
        "id": "view-in-github",
        "colab_type": "text"
      },
      "source": [
        "<a href=\"https://colab.research.google.com/github/parkyena2/googleColab/blob/main/6%EA%B0%95_%EC%8B%A4%EC%8A%B5.ipynb\" target=\"_parent\"><img src=\"https://colab.research.google.com/assets/colab-badge.svg\" alt=\"Open In Colab\"/></a>"
      ]
    },
    {
      "cell_type": "markdown",
      "source": [
        "# 6장 1절"
      ],
      "metadata": {
        "id": "hckgpz65oDBv"
      }
    },
    {
      "cell_type": "markdown",
      "source": [
        "## 비교 연산자를 사용해 참/거짓 파악하기"
      ],
      "metadata": {
        "id": "4kXE-ahLt4er"
      }
    },
    {
      "cell_type": "markdown",
      "source": [
        "### 비교 연산자의 결과 = 불리언 타입(True, False)으로 출력"
      ],
      "metadata": {
        "id": "peqNm6amuGwe"
      }
    },
    {
      "cell_type": "code",
      "source": [
        "3 > 6"
      ],
      "metadata": {
        "colab": {
          "base_uri": "https://localhost:8080/"
        },
        "id": "Do0eVExXt7ze",
        "outputId": "6ea36d4b-a3ce-42c8-e720-c8ebb8117c5f"
      },
      "execution_count": 1,
      "outputs": [
        {
          "output_type": "execute_result",
          "data": {
            "text/plain": [
              "False"
            ]
          },
          "metadata": {},
          "execution_count": 1
        }
      ]
    },
    {
      "cell_type": "code",
      "source": [
        "3 < 6"
      ],
      "metadata": {
        "colab": {
          "base_uri": "https://localhost:8080/"
        },
        "id": "KeveMluyuCQg",
        "outputId": "d7b35f43-7f4d-4d51-c9e9-ce9d9d95dfee"
      },
      "execution_count": 2,
      "outputs": [
        {
          "output_type": "execute_result",
          "data": {
            "text/plain": [
              "True"
            ]
          },
          "metadata": {},
          "execution_count": 2
        }
      ]
    },
    {
      "cell_type": "code",
      "source": [
        "3 == 6"
      ],
      "metadata": {
        "colab": {
          "base_uri": "https://localhost:8080/"
        },
        "id": "BjUwjzOvuMc3",
        "outputId": "ac0f02cb-9b6e-4280-b2f0-e60fa4c1e501"
      },
      "execution_count": 3,
      "outputs": [
        {
          "output_type": "execute_result",
          "data": {
            "text/plain": [
              "False"
            ]
          },
          "metadata": {},
          "execution_count": 3
        }
      ]
    },
    {
      "cell_type": "markdown",
      "source": [
        "### 등호와 비교 연산자(==)는 다름"
      ],
      "metadata": {
        "id": "TsWXlcp3uWej"
      }
    },
    {
      "cell_type": "code",
      "source": [
        "rad = 10\n",
        "\n",
        "rad == 10"
      ],
      "metadata": {
        "colab": {
          "base_uri": "https://localhost:8080/"
        },
        "id": "loEu9L0juTGi",
        "outputId": "3d577ff4-1a82-445c-ddc0-3f5301561f2d"
      },
      "execution_count": 4,
      "outputs": [
        {
          "output_type": "execute_result",
          "data": {
            "text/plain": [
              "True"
            ]
          },
          "metadata": {},
          "execution_count": 4
        }
      ]
    },
    {
      "cell_type": "markdown",
      "source": [
        "### 비교 연산 결과(불리언 타입) 저장하기"
      ],
      "metadata": {
        "id": "BMY851tjujT7"
      }
    },
    {
      "cell_type": "code",
      "source": [
        "light_on = 3 > 6\n",
        "print(light_on)"
      ],
      "metadata": {
        "colab": {
          "base_uri": "https://localhost:8080/"
        },
        "id": "GlteJbMKula_",
        "outputId": "6e371934-0a0d-4b73-ec02-cee440ff13ec"
      },
      "execution_count": 6,
      "outputs": [
        {
          "output_type": "stream",
          "name": "stdout",
          "text": [
            "False\n"
          ]
        }
      ]
    },
    {
      "cell_type": "code",
      "source": [
        "suf = 10\n",
        "vol = 20\n",
        "isStop = suf == vol\n",
        "print(isStop)"
      ],
      "metadata": {
        "colab": {
          "base_uri": "https://localhost:8080/"
        },
        "id": "9gd1uBIVuvfc",
        "outputId": "d40b6943-27d4-4c68-a015-b63f93c6f15f"
      },
      "execution_count": 7,
      "outputs": [
        {
          "output_type": "stream",
          "name": "stdout",
          "text": [
            "False\n"
          ]
        }
      ]
    },
    {
      "cell_type": "markdown",
      "source": [
        "## 선택 구조 if 활용하기"
      ],
      "metadata": {
        "id": "Egi7bJ1BvE_J"
      }
    },
    {
      "cell_type": "markdown",
      "source": [
        "### 비교 연산으로 유효값 검사하기"
      ],
      "metadata": {
        "id": "ygNAfKuDu8vs"
      }
    },
    {
      "cell_type": "markdown",
      "source": [
        "if = 조건에 맞을 때에만 실행되는 제어 구조 제공"
      ],
      "metadata": {
        "id": "Anvv4_ePvwQu"
      }
    },
    {
      "cell_type": "markdown",
      "source": [
        "#### 반지름 값 = 양수일 때에만 계산"
      ],
      "metadata": {
        "id": "GSbla-2Gv56f"
      }
    },
    {
      "cell_type": "code",
      "execution_count": 9,
      "metadata": {
        "id": "ZW1w8qQHoAm3",
        "colab": {
          "base_uri": "https://localhost:8080/"
        },
        "outputId": "df9ba012-c0dd-487c-c4c4-4a039859982e"
      },
      "outputs": [
        {
          "name": "stdout",
          "output_type": "stream",
          "text": [
            "반지름을 입력하세요:-20\n",
            "높이를 입력하세요:30\n"
          ]
        }
      ],
      "source": [
        "#반지름 사용자 입력\n",
        "rad = int(input(\"반지름을 입력하세요:\"))\n",
        "#높이 사용자 입력\n",
        "hei = int(input(\"높이를 입력하세요:\"))\n",
        "\n",
        "if rad > 0 :\n",
        "    #부피&겉넓이 계산\n",
        "    vol = 1/3 * 3.14 * rad ** 2 * hei\n",
        "    suf = 3.14 * rad ** 2 + 3.14 * rad * hei\n",
        "    print(\"원뿔의 부피는\" ,vol, \"입니다.\")\n",
        "    print(\"원뿔의 겉넓이는\" ,suf, \"입니다\")"
      ]
    },
    {
      "cell_type": "markdown",
      "source": [
        "- if rad > 0 -> execute line 7~11\n",
        "- else rad <= 0 -> not execute line 7~11"
      ],
      "metadata": {
        "id": "gIxdfGagpB53"
      }
    },
    {
      "cell_type": "markdown",
      "source": [
        "# 6강 2절"
      ],
      "metadata": {
        "id": "cquz2vj9oGml"
      }
    },
    {
      "cell_type": "markdown",
      "source": [
        "## 논리연산자"
      ],
      "metadata": {
        "id": "8s5cuJaey9a2"
      }
    },
    {
      "cell_type": "markdown",
      "source": [
        "- 여러 개 명제를 결합할 때 사용 -> 좀 더 복잡한 조건 만들 수 있음\n",
        "- 괄호를 활용해 우선순위 지정 가능"
      ],
      "metadata": {
        "id": "NApJq7LIy_6D"
      }
    },
    {
      "cell_type": "code",
      "source": [
        "temp = 20\n",
        "fruit = \"apple\"\n",
        "\n",
        "print(temp >= 27 and fruit == \"pear\")\n",
        "print(temp >= 27 or fruit == \"pear\")\n",
        "print(not temp >= 27)"
      ],
      "metadata": {
        "colab": {
          "base_uri": "https://localhost:8080/"
        },
        "id": "gs8eZ-gKywCI",
        "outputId": "f4dd5ab5-6ede-4c55-db5b-7e39d80f0fad"
      },
      "execution_count": 11,
      "outputs": [
        {
          "output_type": "stream",
          "name": "stdout",
          "text": [
            "False\n",
            "False\n",
            "True\n"
          ]
        }
      ]
    },
    {
      "cell_type": "markdown",
      "source": [
        "### 유효값 검사 개선"
      ],
      "metadata": {
        "id": "WFlBgJntzfUv"
      }
    },
    {
      "cell_type": "markdown",
      "source": [
        "반지름, 높이 모두 유효값 검사"
      ],
      "metadata": {
        "id": "ciqj1LtjzjYo"
      }
    },
    {
      "cell_type": "code",
      "source": [
        "#반지름 사용자 입력\n",
        "rad = int(input(\"반지름을 입력하세요:\"))\n",
        "#높이 사용자 입력\n",
        "hei = int(input(\"높이를 입력하세요:\"))\n",
        "\n",
        "if rad > 0 and hei > 0  :\n",
        "    #부피&겉넓이 계산\n",
        "    vol = 1/3 * 3.14 * rad ** 2 * hei\n",
        "    suf = 3.14 * rad ** 2 + 3.14 * rad * hei\n",
        "    print(\"원뿔의 부피는\" ,vol, \"입니다.\")\n",
        "    print(\"원뿔의 겉넓이는\" ,suf, \"입니다\")"
      ],
      "metadata": {
        "colab": {
          "base_uri": "https://localhost:8080/"
        },
        "id": "8sG9tYm6zpO0",
        "outputId": "822a7f8c-f21c-4291-b00c-4b023e094b38"
      },
      "execution_count": 13,
      "outputs": [
        {
          "name": "stdout",
          "output_type": "stream",
          "text": [
            "반지름을 입력하세요:20\n",
            "높이를 입력하세요:-30\n"
          ]
        }
      ]
    },
    {
      "cell_type": "markdown",
      "source": [
        "불친절함 개선 불가: 결과 출력하지 않는 경우에 대한 설명 출력 필요"
      ],
      "metadata": {
        "id": "Ta5qXTql0AG5"
      }
    },
    {
      "cell_type": "markdown",
      "source": [
        "# 6강 3절"
      ],
      "metadata": {
        "id": "KmOQKp_a19Uk"
      }
    },
    {
      "cell_type": "markdown",
      "source": [
        "## 이분 구조: else를 이용한 원뿔 프로그램 개선"
      ],
      "metadata": {
        "id": "tXkxA4c-2AXl"
      }
    },
    {
      "cell_type": "markdown",
      "source": [
        "불친절함 개선: 결과 출력하지 않는 경우 유효값 입력 요청하는 설명 출력"
      ],
      "metadata": {
        "id": "it6XjJr_2L3n"
      }
    },
    {
      "cell_type": "code",
      "source": [
        "#반지름 사용자 입력\n",
        "rad = int(input(\"반지름을 입력하세요:\"))\n",
        "#높이 사용자 입력\n",
        "hei = int(input(\"높이를 입력하세요:\"))\n",
        "\n",
        "if rad > 0 and hei > 0  :\n",
        "    #부피&겉넓이 계산\n",
        "    vol = 1/3 * 3.14 * rad ** 2 * hei\n",
        "    suf = 3.14 * rad ** 2 + 3.14 * rad * hei\n",
        "    print(\"원뿔의 부피는\" ,vol, \"입니다.\")\n",
        "    print(\"원뿔의 겉넓이는\" ,suf, \"입니다.\")\n",
        "else :\n",
        "    print(\"반지름과 높이의 값을 모두 양수로 입력해주세요.\")"
      ],
      "metadata": {
        "colab": {
          "base_uri": "https://localhost:8080/"
        },
        "id": "YtjmpuRC2FS9",
        "outputId": "b9587eb8-3595-444b-9726-233f611cb31d"
      },
      "execution_count": 15,
      "outputs": [
        {
          "output_type": "stream",
          "name": "stdout",
          "text": [
            "반지름을 입력하세요:20\n",
            "높이를 입력하세요:-30\n",
            "반지름과 높이의 값을 모두 양수로 입력해주세요.\n"
          ]
        }
      ]
    },
    {
      "cell_type": "markdown",
      "source": [
        "## 중첩 구조: if문 안에 또 다른 if문"
      ],
      "metadata": {
        "id": "pcJWd_GG2jW-"
      }
    },
    {
      "cell_type": "markdown",
      "source": [
        "### 세 가지 숫자 중 가장 큰 수 찾는 프로그램"
      ],
      "metadata": {
        "id": "_2ZlVieZpKuT"
      }
    },
    {
      "cell_type": "markdown",
      "source": [
        "#### 편법 쓰기: 내장함수 활용"
      ],
      "metadata": {
        "id": "36A_aZV93Aya"
      }
    },
    {
      "cell_type": "code",
      "source": [
        "# A, B, C 사용자 입력\n",
        "A = int(input(\"A 입력: \"))\n",
        "B = int(input(\"B 입력: \"))\n",
        "C = int(input(\"C 입력: \"))\n",
        "\n",
        "# A, B, C 중 가장 큰 수 출력\n",
        "max(A, B, C)"
      ],
      "metadata": {
        "id": "SuPkvKRSoJBE",
        "colab": {
          "base_uri": "https://localhost:8080/"
        },
        "outputId": "76e2b397-463b-42a6-bc31-74058dc8de75"
      },
      "execution_count": 16,
      "outputs": [
        {
          "name": "stdout",
          "output_type": "stream",
          "text": [
            "A 입력: 10\n",
            "B 입력: 20\n",
            "C 입력: 30\n"
          ]
        },
        {
          "output_type": "execute_result",
          "data": {
            "text/plain": [
              "30"
            ]
          },
          "metadata": {},
          "execution_count": 16
        }
      ]
    },
    {
      "cell_type": "markdown",
      "source": [
        "#### 중첩 if문 활용: max()와 동일 기능하는 코드 직접 작성하기\n",
        "\n"
      ],
      "metadata": {
        "id": "CTdpNuYv3HeJ"
      }
    },
    {
      "cell_type": "code",
      "source": [
        "# A, B, C 사용자 입력\n",
        "A = int(input(\"A 입력: \"))\n",
        "B = int(input(\"B 입력: \"))\n",
        "C = int(input(\"C 입력: \"))\n",
        "\n",
        "# A, B, C 중 가장 큰 수 출력\n",
        "if A > B :\n",
        "    if A > C :\n",
        "        print(A)\n",
        "    else :\n",
        "        print(C)\n",
        "else :\n",
        "    if B > C :\n",
        "        print(B)\n",
        "    else :\n",
        "        print(C)"
      ],
      "metadata": {
        "colab": {
          "base_uri": "https://localhost:8080/"
        },
        "id": "BZ_Hxe8U3J1q",
        "outputId": "97abf3c1-7c39-4345-8d4b-08edde19b38f"
      },
      "execution_count": 17,
      "outputs": [
        {
          "output_type": "stream",
          "name": "stdout",
          "text": [
            "A 입력: 10\n",
            "B 입력: 20\n",
            "C 입력: 30\n",
            "30\n"
          ]
        }
      ]
    }
  ]
}
