{
  "nbformat": 4,
  "nbformat_minor": 0,
  "metadata": {
    "colab": {
      "provenance": [],
      "collapsed_sections": [
        "ic-yWCnTDJ1R",
        "HE0bC7RhqTMm",
        "o7WIbt1IDaEy",
        "k8Rv88phGmza",
        "i0GMuObFGtq2",
        "TnIL6bXbODft",
        "a9fM0C5kIRI4",
        "AP8cQ1sgMJD3",
        "5GsuDRpBOjGL",
        "YeaQzmgIPq6H",
        "RR9Y2zHlQJoz",
        "VHiOhAB0RY3z",
        "djal44vwS5Ci",
        "dK4BQgwXTcrr",
        "OBFnYITzTfBc",
        "k8MH_hk-UNQo",
        "VvIzWavPVSdk",
        "_MDZ2xB9WDYC",
        "7j7jEbarWVIs",
        "m4fBvz_-XSJF",
        "DSBpaSZrYIbg",
        "MuS96G3yZmA2",
        "lVxzEqHnaNdb",
        "49RXrPq7bSbZ",
        "TV0aYRNUcR0P",
        "AJNY7GMlgwsc",
        "f9c5HyLog9uP",
        "ikQEOiTmh1wm",
        "aopB7OlIj8A-",
        "_gQ7_GAslXxT",
        "V2_TiCCIkG1H",
        "A60R1XrFmo9m",
        "_07cxXG4nTmR",
        "6WE3GhT-oNxt",
        "c7GvgpmnqAYM",
        "PkWD6YiJJdce",
        "OWpTKCDC9QZX",
        "hjs5eUOj9wzQ",
        "kbwhNwXiKrMI",
        "-at8rEeTK0eI",
        "iPK_v7WPENBz"
      ],
      "authorship_tag": "ABX9TyP5KBB95R0dozr1bAPOEPtU",
      "include_colab_link": true
    },
    "kernelspec": {
      "name": "python3",
      "display_name": "Python 3"
    },
    "language_info": {
      "name": "python"
    }
  },
  "cells": [
    {
      "cell_type": "markdown",
      "metadata": {
        "id": "view-in-github",
        "colab_type": "text"
      },
      "source": [
        "<a href=\"https://colab.research.google.com/github/parkyena2/googleColab/blob/main/dataScienceIntroduction.ipynb\" target=\"_parent\"><img src=\"https://colab.research.google.com/assets/colab-badge.svg\" alt=\"Open In Colab\"/></a>"
      ]
    },
    {
      "cell_type": "markdown",
      "source": [
        "# 데이터 불러오기"
      ],
      "metadata": {
        "id": "ic-yWCnTDJ1R"
      }
    },
    {
      "cell_type": "code",
      "source": [
        "pip install yahoo_fin"
      ],
      "metadata": {
        "colab": {
          "base_uri": "https://localhost:8080/"
        },
        "id": "eCjBD-ck1mNx",
        "outputId": "5032d3ec-4199-45ef-ce10-4f04abd41253"
      },
      "execution_count": null,
      "outputs": [
        {
          "output_type": "stream",
          "name": "stdout",
          "text": [
            "Looking in indexes: https://pypi.org/simple, https://us-python.pkg.dev/colab-wheels/public/simple/\n",
            "Collecting yahoo_fin\n",
            "  Downloading yahoo_fin-0.8.9.1-py3-none-any.whl (10 kB)\n",
            "Requirement already satisfied: requests in /usr/local/lib/python3.9/dist-packages (from yahoo_fin) (2.27.1)\n",
            "Requirement already satisfied: pandas in /usr/local/lib/python3.9/dist-packages (from yahoo_fin) (1.4.4)\n",
            "Collecting feedparser\n",
            "  Downloading feedparser-6.0.10-py3-none-any.whl (81 kB)\n",
            "\u001b[2K     \u001b[90m━━━━━━━━━━━━━━━━━━━━━━━━━━━━━━━━━━━━━━━━\u001b[0m \u001b[32m81.1/81.1 kB\u001b[0m \u001b[31m3.0 MB/s\u001b[0m eta \u001b[36m0:00:00\u001b[0m\n",
            "\u001b[?25hCollecting requests-html\n",
            "  Downloading requests_html-0.10.0-py3-none-any.whl (13 kB)\n",
            "Collecting sgmllib3k\n",
            "  Downloading sgmllib3k-1.0.0.tar.gz (5.8 kB)\n",
            "  Preparing metadata (setup.py) ... \u001b[?25l\u001b[?25hdone\n",
            "Requirement already satisfied: numpy>=1.18.5 in /usr/local/lib/python3.9/dist-packages (from pandas->yahoo_fin) (1.22.4)\n",
            "Requirement already satisfied: python-dateutil>=2.8.1 in /usr/local/lib/python3.9/dist-packages (from pandas->yahoo_fin) (2.8.2)\n",
            "Requirement already satisfied: pytz>=2020.1 in /usr/local/lib/python3.9/dist-packages (from pandas->yahoo_fin) (2022.7.1)\n",
            "Requirement already satisfied: idna<4,>=2.5 in /usr/local/lib/python3.9/dist-packages (from requests->yahoo_fin) (3.4)\n",
            "Requirement already satisfied: urllib3<1.27,>=1.21.1 in /usr/local/lib/python3.9/dist-packages (from requests->yahoo_fin) (1.26.15)\n",
            "Requirement already satisfied: certifi>=2017.4.17 in /usr/local/lib/python3.9/dist-packages (from requests->yahoo_fin) (2022.12.7)\n",
            "Requirement already satisfied: charset-normalizer~=2.0.0 in /usr/local/lib/python3.9/dist-packages (from requests->yahoo_fin) (2.0.12)\n",
            "Collecting parse\n",
            "  Downloading parse-1.19.0.tar.gz (30 kB)\n",
            "  Preparing metadata (setup.py) ... \u001b[?25l\u001b[?25hdone\n",
            "Collecting pyppeteer>=0.0.14\n",
            "  Downloading pyppeteer-1.0.2-py3-none-any.whl (83 kB)\n",
            "\u001b[2K     \u001b[90m━━━━━━━━━━━━━━━━━━━━━━━━━━━━━━━━━━━━━━━━\u001b[0m \u001b[32m83.4/83.4 kB\u001b[0m \u001b[31m9.3 MB/s\u001b[0m eta \u001b[36m0:00:00\u001b[0m\n",
            "\u001b[?25hCollecting w3lib\n",
            "  Downloading w3lib-2.1.1-py3-none-any.whl (21 kB)\n",
            "Collecting fake-useragent\n",
            "  Downloading fake_useragent-1.1.3-py3-none-any.whl (50 kB)\n",
            "\u001b[2K     \u001b[90m━━━━━━━━━━━━━━━━━━━━━━━━━━━━━━━━━━━━━━━━\u001b[0m \u001b[32m50.5/50.5 kB\u001b[0m \u001b[31m1.6 MB/s\u001b[0m eta \u001b[36m0:00:00\u001b[0m\n",
            "\u001b[?25hCollecting bs4\n",
            "  Downloading bs4-0.0.1.tar.gz (1.1 kB)\n",
            "  Preparing metadata (setup.py) ... \u001b[?25l\u001b[?25hdone\n",
            "Collecting pyquery\n",
            "  Downloading pyquery-2.0.0-py3-none-any.whl (22 kB)\n",
            "Collecting websockets<11.0,>=10.0\n",
            "  Downloading websockets-10.4-cp39-cp39-manylinux_2_5_x86_64.manylinux1_x86_64.manylinux_2_17_x86_64.manylinux2014_x86_64.whl (106 kB)\n",
            "\u001b[2K     \u001b[90m━━━━━━━━━━━━━━━━━━━━━━━━━━━━━━━━━━━━━━━\u001b[0m \u001b[32m106.5/106.5 kB\u001b[0m \u001b[31m9.1 MB/s\u001b[0m eta \u001b[36m0:00:00\u001b[0m\n",
            "\u001b[?25hRequirement already satisfied: importlib-metadata>=1.4 in /usr/local/lib/python3.9/dist-packages (from pyppeteer>=0.0.14->requests-html->yahoo_fin) (6.1.0)\n",
            "Requirement already satisfied: tqdm<5.0.0,>=4.42.1 in /usr/local/lib/python3.9/dist-packages (from pyppeteer>=0.0.14->requests-html->yahoo_fin) (4.65.0)\n",
            "Requirement already satisfied: appdirs<2.0.0,>=1.4.3 in /usr/local/lib/python3.9/dist-packages (from pyppeteer>=0.0.14->requests-html->yahoo_fin) (1.4.4)\n",
            "Collecting pyee<9.0.0,>=8.1.0\n",
            "  Downloading pyee-8.2.2-py2.py3-none-any.whl (12 kB)\n",
            "Requirement already satisfied: six>=1.5 in /usr/local/lib/python3.9/dist-packages (from python-dateutil>=2.8.1->pandas->yahoo_fin) (1.16.0)\n",
            "Requirement already satisfied: beautifulsoup4 in /usr/local/lib/python3.9/dist-packages (from bs4->requests-html->yahoo_fin) (4.11.2)\n",
            "Requirement already satisfied: importlib-resources>=5.0 in /usr/local/lib/python3.9/dist-packages (from fake-useragent->requests-html->yahoo_fin) (5.12.0)\n",
            "Requirement already satisfied: lxml>=2.1 in /usr/local/lib/python3.9/dist-packages (from pyquery->requests-html->yahoo_fin) (4.9.2)\n",
            "Collecting cssselect>=1.2.0\n",
            "  Downloading cssselect-1.2.0-py2.py3-none-any.whl (18 kB)\n",
            "Requirement already satisfied: zipp>=0.5 in /usr/local/lib/python3.9/dist-packages (from importlib-metadata>=1.4->pyppeteer>=0.0.14->requests-html->yahoo_fin) (3.15.0)\n",
            "Requirement already satisfied: soupsieve>1.2 in /usr/local/lib/python3.9/dist-packages (from beautifulsoup4->bs4->requests-html->yahoo_fin) (2.4)\n",
            "Building wheels for collected packages: bs4, parse, sgmllib3k\n",
            "  Building wheel for bs4 (setup.py) ... \u001b[?25l\u001b[?25hdone\n",
            "  Created wheel for bs4: filename=bs4-0.0.1-py3-none-any.whl size=1270 sha256=a589deab76d71b741cadcc990551dfd9efb38292e4fd93522019b364a39bcd12\n",
            "  Stored in directory: /root/.cache/pip/wheels/73/2b/cb/099980278a0c9a3e57ff1a89875ec07bfa0b6fcbebb9a8cad3\n",
            "  Building wheel for parse (setup.py) ... \u001b[?25l\u001b[?25hdone\n",
            "  Created wheel for parse: filename=parse-1.19.0-py3-none-any.whl size=24589 sha256=edf2dc5e7c32ec884c5e11793af5aa94c247262e933c160abe7922a00d52ef5e\n",
            "  Stored in directory: /root/.cache/pip/wheels/d6/9c/58/ee3ba36897e890f3ad81e9b730791a153fce20caa4a8a474df\n",
            "  Building wheel for sgmllib3k (setup.py) ... \u001b[?25l\u001b[?25hdone\n",
            "  Created wheel for sgmllib3k: filename=sgmllib3k-1.0.0-py3-none-any.whl size=6065 sha256=291b77d736cce34467a70ae30cb869767fa61638963bdde3ed9de19f9bf2eedd\n",
            "  Stored in directory: /root/.cache/pip/wheels/65/7a/a7/78c287f64e401255dff4c13fdbc672fed5efbfd21c530114e1\n",
            "Successfully built bs4 parse sgmllib3k\n",
            "Installing collected packages: sgmllib3k, pyee, parse, websockets, w3lib, feedparser, cssselect, pyquery, pyppeteer, fake-useragent, bs4, requests-html, yahoo_fin\n",
            "Successfully installed bs4-0.0.1 cssselect-1.2.0 fake-useragent-1.1.3 feedparser-6.0.10 parse-1.19.0 pyee-8.2.2 pyppeteer-1.0.2 pyquery-2.0.0 requests-html-0.10.0 sgmllib3k-1.0.0 w3lib-2.1.1 websockets-10.4 yahoo_fin-0.8.9.1\n"
          ]
        }
      ]
    },
    {
      "cell_type": "code",
      "source": [
        "import yahoo_fin.stock_info as si\n",
        "import numpy as np\n",
        "import pandas as pd\n",
        "import matplotlib.pyplot as plt\n",
        "import IPython\n",
        "from datetime import datetime\n",
        "import statsmodels.api as sm\n",
        "from statsmodels.formula.api import ols\n",
        "import pickle\n",
        "from pandas.plotting import scatter_matrix\n",
        "from dateutil.relativedelta import relativedelta\n",
        "from sklearn.decomposition import PCA"
      ],
      "metadata": {
        "id": "ShvRRXsW1r1z"
      },
      "execution_count": null,
      "outputs": []
    },
    {
      "cell_type": "code",
      "source": [
        "ticker = \"googl\"\n",
        "# get_earnings_history(기업) = 기업 분기별 이익 불러오는 함수\n",
        "earning_list = si.get_earnings_history(ticker)"
      ],
      "metadata": {
        "id": "64b2cRPF3JYY",
        "colab": {
          "base_uri": "https://localhost:8080/",
          "height": 134
        },
        "outputId": "6acae5da-e8c0-4e4a-857a-f9370a3b2aca"
      },
      "execution_count": null,
      "outputs": [
        {
          "output_type": "error",
          "ename": "SyntaxError",
          "evalue": "ignored",
          "traceback": [
            "\u001b[0;36m  File \u001b[0;32m\"<ipython-input-7-388ac9a8e28f>\"\u001b[0;36m, line \u001b[0;32m2\u001b[0m\n\u001b[0;31m    get_earnings_history(기업) = 기업 분기별 이익 불러오는 함수\u001b[0m\n\u001b[0m    ^\u001b[0m\n\u001b[0;31mSyntaxError\u001b[0m\u001b[0;31m:\u001b[0m cannot assign to function call\n"
          ]
        }
      ]
    },
    {
      "cell_type": "code",
      "source": [
        "# get_earnings_history(기업) 반환값 = 리스트 형태\n",
        "# type() 명령어 = 어떤 데이터(변수)의 타입 검사\n",
        "type(earning_list)"
      ],
      "metadata": {
        "id": "QgPGVveC4Rat"
      },
      "execution_count": null,
      "outputs": []
    },
    {
      "cell_type": "code",
      "source": [
        "# 파이썬 인덱스 = 0부터 시작\n",
        "# :2 = 0 ~ 2의 바로 앞까지 범위 = 0, 1\n",
        "earning_list[:2]"
      ],
      "metadata": {
        "id": "cPkaGKin4Uta"
      },
      "execution_count": null,
      "outputs": []
    },
    {
      "cell_type": "markdown",
      "source": [
        "* companyshortname = 회사 이름\n",
        "  * (Alphabet Inc = 구글 대주주)\n",
        "* epsactual = 실제 해당 분기에 발생한 이익 값\n",
        "  * (None = 관측되지 않음)\n",
        "  * (아직 발표되지 않음)\n",
        "* epsestimate = 해당 분기 발생 이익 값 예측\n",
        "  * (epsactual 발표 전 분석가들이 추측한 값)\n",
        "* epssurprisepct = 추측 값(epsetimate)과 비교해 실제 관측 값(epsactual)이 보인 차이(percent)\n",
        "  * (실제 관측 값 epsactual이 None이므로 관측 불가 = 이 값도 None)"
      ],
      "metadata": {
        "id": "4MrawJq1Ad47"
      }
    },
    {
      "cell_type": "markdown",
      "source": [
        "# **Pandas를 이용한 데이터 가공**"
      ],
      "metadata": {
        "id": "HE0bC7RhqTMm"
      }
    },
    {
      "cell_type": "markdown",
      "source": [
        "# 데이터 프레임 생성"
      ],
      "metadata": {
        "id": "o7WIbt1IDaEy"
      }
    },
    {
      "cell_type": "markdown",
      "source": [
        "## 1. 리스트로부터 데이터 프레임 생성"
      ],
      "metadata": {
        "id": "k8Rv88phGmza"
      }
    },
    {
      "cell_type": "code",
      "source": [
        "# 리스트로부터 데이터 프레임 생성\n",
        "# pd.DataFrame() 함수의 parameter로 data=earning_list를 넘겨 줌\n",
        "# 반환값 -> earning_df에 저장\n",
        "earning_df = pd.DataFrame(data=earning_list)"
      ],
      "metadata": {
        "id": "dvni_DhI4-Pu",
        "outputId": "25343c3f-1c9b-48a3-fca3-9fa8e0361703",
        "colab": {
          "base_uri": "https://localhost:8080/",
          "height": 243
        }
      },
      "execution_count": null,
      "outputs": [
        {
          "output_type": "error",
          "ename": "NameError",
          "evalue": "ignored",
          "traceback": [
            "\u001b[0;31m---------------------------------------------------------------------------\u001b[0m",
            "\u001b[0;31mNameError\u001b[0m                                 Traceback (most recent call last)",
            "\u001b[0;32m<ipython-input-5-3f3241fed646>\u001b[0m in \u001b[0;36m<cell line: 4>\u001b[0;34m()\u001b[0m\n\u001b[1;32m      2\u001b[0m \u001b[0;31m# pd.DataFrame() 함수의 parameter로 data=earning_list를 넘겨 줌\u001b[0m\u001b[0;34m\u001b[0m\u001b[0;34m\u001b[0m\u001b[0m\n\u001b[1;32m      3\u001b[0m \u001b[0;31m# 반환값 -> earning_df에 저장\u001b[0m\u001b[0;34m\u001b[0m\u001b[0;34m\u001b[0m\u001b[0m\n\u001b[0;32m----> 4\u001b[0;31m \u001b[0mearning_df\u001b[0m \u001b[0;34m=\u001b[0m \u001b[0mpd\u001b[0m\u001b[0;34m.\u001b[0m\u001b[0mDataFrame\u001b[0m\u001b[0;34m(\u001b[0m\u001b[0mdata\u001b[0m\u001b[0;34m=\u001b[0m\u001b[0mearning_list\u001b[0m\u001b[0;34m)\u001b[0m\u001b[0;34m\u001b[0m\u001b[0;34m\u001b[0m\u001b[0m\n\u001b[0m",
            "\u001b[0;31mNameError\u001b[0m: name 'earning_list' is not defined"
          ]
        }
      ]
    },
    {
      "cell_type": "code",
      "source": [
        "# head() = 데이터 프레임의 시작부를 보여 줌\n",
        "earning_df.head()"
      ],
      "metadata": {
        "id": "d3t1qXLV5s9e",
        "outputId": "7d7641b8-602d-463a-ec64-b17821dc7ebc",
        "colab": {
          "base_uri": "https://localhost:8080/",
          "height": 225
        }
      },
      "execution_count": null,
      "outputs": [
        {
          "output_type": "error",
          "ename": "NameError",
          "evalue": "ignored",
          "traceback": [
            "\u001b[0;31m---------------------------------------------------------------------------\u001b[0m",
            "\u001b[0;31mNameError\u001b[0m                                 Traceback (most recent call last)",
            "\u001b[0;32m<ipython-input-6-a85e62008f8c>\u001b[0m in \u001b[0;36m<cell line: 2>\u001b[0;34m()\u001b[0m\n\u001b[1;32m      1\u001b[0m \u001b[0;31m# head() = 데이터 프레임의 시작부를 보여 줌\u001b[0m\u001b[0;34m\u001b[0m\u001b[0;34m\u001b[0m\u001b[0m\n\u001b[0;32m----> 2\u001b[0;31m \u001b[0mearning_df\u001b[0m\u001b[0;34m.\u001b[0m\u001b[0mhead\u001b[0m\u001b[0;34m(\u001b[0m\u001b[0;34m)\u001b[0m\u001b[0;34m\u001b[0m\u001b[0;34m\u001b[0m\u001b[0m\n\u001b[0m",
            "\u001b[0;31mNameError\u001b[0m: name 'earning_df' is not defined"
          ]
        }
      ]
    },
    {
      "cell_type": "markdown",
      "source": [
        "데이터 프레임 구조:\n",
        "<br>\n",
        "* 최상단에 column 이름들 위치\n",
        "* dictionary -> 데이터 생성했으므로\n",
        "  * key = column 이름\n",
        "  * value = column 값\n",
        "* 좌측에 0부터 시작하는 index 매겨짐\n",
        "  * index 이용해 데이터 선택 가능"
      ],
      "metadata": {
        "id": "o2MCFWtfEWAj"
      }
    },
    {
      "cell_type": "code",
      "source": [
        "# dataFrame.to_csv('path', index=저장여부)\n",
        "# (가공한) 데이터 프레임을 csv 파일로 저장\n",
        "# pandas 제공\n",
        "earning_df.to_csv('earning.csv', index=False)"
      ],
      "metadata": {
        "id": "J7MJmgbz6RoU"
      },
      "execution_count": null,
      "outputs": []
    },
    {
      "cell_type": "markdown",
      "source": [
        "* csv 파일 = 값들을 콤마로 분리한 파일 형태\n",
        "  * 흔히 생각하는 엑셀 파일과 유사한 텍스트 파일 형식\n",
        "* to_csv() 함수의 parameter로 index=False 옵션을 주지 않으면 인덱스 값까지 csv 파일에 저장됨\n",
        "  * 인덱스 값은 의미 있는 데이터 값이 아닌\n",
        "  * 데이터 구조 생성 시 자동으로 매겨지는 값이므로\n",
        "  * 굳이 파일에 저장할 필요 없음 = 일반적으로 저장 안함"
      ],
      "metadata": {
        "id": "CbtwzZE8FzaJ"
      }
    },
    {
      "cell_type": "markdown",
      "source": [
        "## 2. csv 파일로부터 데이터 프레임 생성"
      ],
      "metadata": {
        "id": "i0GMuObFGtq2"
      }
    },
    {
      "cell_type": "code",
      "source": [
        "# 주어진 csv 파일을 읽어 들여 데이터 프레임 생성\n",
        "# pd.read_csv('path')\n",
        "earning_df_from_csv = pd.read_csv('earning.csv')\n",
        "earning_df_from_csv.head()"
      ],
      "metadata": {
        "id": "8L47iNWcAX-P"
      },
      "execution_count": null,
      "outputs": []
    },
    {
      "cell_type": "markdown",
      "source": [
        "* 값을 읽어 올 때 기본 구분자seperator = 콤마(,)\n",
        "  * sep=\",\"\n",
        "  * 다른 구분자를 쓸 경우 parameter로 sep=\"구분자\" 사용\n",
        "* 앞서 저장할 때 None이었던 값 -> NaN으로 바뀌어 저장된 것을 확인할 수 있음\n",
        "* 엑셀 파일도 읽어 올 수 있음\n",
        "  * pd.read_excel('path')"
      ],
      "metadata": {
        "id": "P4OZ2YuOHOWU"
      }
    },
    {
      "cell_type": "markdown",
      "source": [
        "## 3. NumPy 배열로부터 데이터 프레임 생성"
      ],
      "metadata": {
        "id": "TnIL6bXbODft"
      }
    },
    {
      "cell_type": "markdown",
      "source": [
        "### 데이터 프레임 값들을 NumPy 배열로 추출"
      ],
      "metadata": {
        "id": "a9fM0C5kIRI4"
      }
    },
    {
      "cell_type": "markdown",
      "source": [
        "* NumPy 배열로부터 데이터 프레임 생성에 앞서\n",
        "* NumPy 배열 생성"
      ],
      "metadata": {
        "id": "9-JmWu_eOYty"
      }
    },
    {
      "cell_type": "code",
      "source": [
        "# .values attribute로 컬럼명 제외한 값들만 반환받아 변수 earning_array에 저장\n",
        "earning_array = earning_df.values\n",
        "# earning_array 범위 지정\n",
        "earning_array[:2]"
      ],
      "metadata": {
        "id": "ygOS33rgBP5U"
      },
      "execution_count": null,
      "outputs": []
    },
    {
      "cell_type": "markdown",
      "source": [
        "* NumPy = 데이터를 배열로 다루는 라이브러리\n",
        "  * 데이터 프레임 값들을 NumPy 배열로 추출하기 앞서\n",
        "  * 데이터 프레임을 배열로 변환해야 함\n",
        "* .values attribute\n",
        "  * 객체의 values 속성(attribute)에 접근\n",
        "  * 타 언어에서는 attribute -> property라고도 함\n",
        "* array 범위 지정하는 방법: 일차원적으로 파이썬 list와 동일\n",
        "  * 대괄호 [ ]와 콜론 : 사용해 지정 가능\n",
        "* 출력 결과 values attribute로 저장한 값이 일종의 array임을 알 수 있음\n",
        "  * 단순한 값들의 나열이므로.\n",
        "  * 데이터 프레임 = 2차원 배열 형태였으므로 nest된 배열의 형태\n",
        "    * 리스트에 리스트가 nest된 이중 리스트"
      ],
      "metadata": {
        "id": "IqHWGGScI0hH"
      }
    },
    {
      "cell_type": "markdown",
      "source": [
        "### 만들어진 NumPy 배열로부터 데이터 프레임 생성"
      ],
      "metadata": {
        "id": "AP8cQ1sgMJD3"
      }
    },
    {
      "cell_type": "code",
      "source": [
        "# 사용 함수 = pd.DataFrame() -> 앞과 동일\n",
        "# NumPy 배열에는 column 이름이 없으므로 columns= 파라미터 사용해 열 이름 지정\n",
        "  # 데이터 프레임에서 열 이름 = dataFrame.columns.values\n",
        "earning_df_from_array = pd.DataFrame(data=earning_array, columns=earning_df.columns.values)\n",
        "# 테스트 출력\n",
        "earning_df_from_array.head()"
      ],
      "metadata": {
        "id": "WTKVdVaXCaTT",
        "cellView": "code"
      },
      "execution_count": null,
      "outputs": []
    },
    {
      "cell_type": "markdown",
      "source": [
        "# 데이터 선택과 샘플링"
      ],
      "metadata": {
        "id": "adb15UNzONEG"
      }
    },
    {
      "cell_type": "markdown",
      "source": [
        "## 데이터 프레임의 특정 열 column 선택\n",
        "\n"
      ],
      "metadata": {
        "id": "5GsuDRpBOjGL"
      }
    },
    {
      "cell_type": "code",
      "source": [
        "earning_cols = earning_df[[\"startdatetime\", \"epsactual\"]]\n",
        "earning_cols.head()"
      ],
      "metadata": {
        "id": "4WQkVCNVDnOa"
      },
      "execution_count": null,
      "outputs": []
    },
    {
      "cell_type": "markdown",
      "source": [
        "* 두 개의 열 startdatetime, epsactual 선택\n",
        "  * dataFrame[지정 조건] 형태로 특정 범위 기본 선택:\n",
        "  * 원하는 column들 이름을 리스트 형태로 제공"
      ],
      "metadata": {
        "id": "LyDp6U97Opy1"
      }
    },
    {
      "cell_type": "markdown",
      "source": [
        "### 시리즈 Series"
      ],
      "metadata": {
        "id": "YeaQzmgIPq6H"
      }
    },
    {
      "cell_type": "code",
      "source": [
        "earning_df[\"epsactual\"]"
      ],
      "metadata": {
        "id": "Fc2bykmFFks2"
      },
      "execution_count": null,
      "outputs": []
    },
    {
      "cell_type": "markdown",
      "source": [
        "* 열을 한 개만 지정한 경우 return되는 데이터 타입 = 시리즈Series\n",
        "  * 일차원 배열 형태의 데이터 타입\n",
        "  * 좌측 숫자 = 인덱스"
      ],
      "metadata": {
        "id": "U0JW3RFJPQg_"
      }
    },
    {
      "cell_type": "code",
      "source": [
        "type(earning_df[\"epsactual\"]), type(earning_df[[\"startdatetime\", \"epsactual\"]])"
      ],
      "metadata": {
        "id": "n2bvsou_GAQH"
      },
      "execution_count": null,
      "outputs": []
    },
    {
      "cell_type": "markdown",
      "source": [
        "* 데이터 프레임에서\n",
        "  * 한 개 열만 선택한 경우:\n",
        "    * 반환 데이터 타입 = 시리즈\n",
        "  * 두 개 이상 열 선택한 경우:\n",
        "    * 반환 데이터 타입 = 데이터 프레임"
      ],
      "metadata": {
        "id": "7vUwxkn7PynK"
      }
    },
    {
      "cell_type": "markdown",
      "source": [
        "## 데이터 프레임의 특정 행 row 선택"
      ],
      "metadata": {
        "id": "RR9Y2zHlQJoz"
      }
    },
    {
      "cell_type": "markdown",
      "source": [
        "* 파이썬 list에서의 범위 지정과 유사하게 동작"
      ],
      "metadata": {
        "id": "C-r4Fo0XQXFQ"
      }
    },
    {
      "cell_type": "markdown",
      "source": [
        "### 암묵적 implicit 데이터 선택"
      ],
      "metadata": {
        "id": "VHiOhAB0RY3z"
      }
    },
    {
      "cell_type": "markdown",
      "source": [
        "* index 값에 기반하는 것이 아닌\n",
        "* 데이터 프레임의 행 순서에 기반"
      ],
      "metadata": {
        "id": "xup6R7GzRrpV"
      }
    },
    {
      "cell_type": "code",
      "source": [
        "[1, 2, 3, 4, 5][1:3]"
      ],
      "metadata": {
        "id": "679Y7uTiTohB"
      },
      "execution_count": null,
      "outputs": []
    },
    {
      "cell_type": "markdown",
      "source": [
        "* 1, 2, 3, 4, 5를 원소로 가진 list의 범위를\n",
        "* 1:3으로 지정"
      ],
      "metadata": {
        "id": "SjQCHr_sQgnw"
      }
    },
    {
      "cell_type": "code",
      "source": [
        "earning_rows = earning_df[1:3]\n",
        "earning_rows"
      ],
      "metadata": {
        "id": "ukEIh-rrUUyh"
      },
      "execution_count": null,
      "outputs": []
    },
    {
      "cell_type": "markdown",
      "source": [
        "* earning_df 데이터 프레임의 1:3 범위 행 선택\n",
        "  * 1, 2행 return"
      ],
      "metadata": {
        "id": "NR-0AgvZQ3kH"
      }
    },
    {
      "cell_type": "code",
      "source": [
        "earning_df_new_index = pd.DataFrame(\n",
        "    data=earning_array,\n",
        "    columns=earning_df.columns.values,\n",
        "    index=range(1, len(earning_df) + 1)\n",
        ")\n",
        "earning_df_new_index.head()"
      ],
      "metadata": {
        "id": "wGdGADhaUcdE"
      },
      "execution_count": null,
      "outputs": []
    },
    {
      "cell_type": "markdown",
      "source": [
        "* index 값을 1부터 시작하도록 새로 매겨도"
      ],
      "metadata": {
        "id": "xK5uSaeSSIMz"
      }
    },
    {
      "cell_type": "code",
      "source": [
        "earning_df_new_index[1:3]"
      ],
      "metadata": {
        "id": "8cW2CW-eWOgO"
      },
      "execution_count": null,
      "outputs": []
    },
    {
      "cell_type": "markdown",
      "source": [
        "* 1, 2번 인덱스를 선택하지 않고\n",
        "* 여전히 0번째부터 세어 1, 2번째 행 출력\n",
        "<br>\n",
        "\n",
        "-> **암묵적 데이터 선택**"
      ],
      "metadata": {
        "id": "rq8bGAf4SK8k"
      }
    },
    {
      "cell_type": "markdown",
      "source": [
        "#### iloc을 이용한 데이터 선택"
      ],
      "metadata": {
        "id": "djal44vwS5Ci"
      }
    },
    {
      "cell_type": "markdown",
      "source": [
        "* iloc = implicit location\n",
        "* 대괄호를 사용한 방식과 정확히 일치하는 암묵적 데이터 선택 방법"
      ],
      "metadata": {
        "id": "DzyUo-36TLxD"
      }
    },
    {
      "cell_type": "code",
      "source": [
        "earning_df_new_index.iloc[1:3]"
      ],
      "metadata": {
        "id": "yt0GIrpIWuRO"
      },
      "execution_count": null,
      "outputs": []
    },
    {
      "cell_type": "markdown",
      "source": [
        "### 명시적 데이터 선택"
      ],
      "metadata": {
        "id": "dK4BQgwXTcrr"
      }
    },
    {
      "cell_type": "markdown",
      "source": [
        "* index에 기반한 데이터 선택"
      ],
      "metadata": {
        "id": "t3uEmXJmTldq"
      }
    },
    {
      "cell_type": "markdown",
      "source": [
        "#### loc를 사용한 데이터 선택"
      ],
      "metadata": {
        "id": "OBFnYITzTfBc"
      }
    },
    {
      "cell_type": "code",
      "source": [
        "earning_df_new_index.loc[1:3]"
      ],
      "metadata": {
        "id": "mza_i8RnXLTV"
      },
      "execution_count": null,
      "outputs": []
    },
    {
      "cell_type": "markdown",
      "source": [
        "* 지정한 인덱스에 따라 데이터 선택\n",
        "* 콜론 : 범위 지정 방식도 파이썬에서의 일반적 사용 방식과 다름\n",
        "  * 1:3 = 1, 2, 3 index 모두를 선택"
      ],
      "metadata": {
        "id": "dzXrCVqDTp4V"
      }
    },
    {
      "cell_type": "markdown",
      "source": [
        "## 데이터 프레임에서 행과 열 범위 동시 지정해 선택"
      ],
      "metadata": {
        "id": "k8MH_hk-UNQo"
      }
    },
    {
      "cell_type": "code",
      "source": [
        "earning_df_new_index.iloc[1:4,[2,5]]"
      ],
      "metadata": {
        "id": "gp-Yall1X0fT"
      },
      "execution_count": null,
      "outputs": []
    },
    {
      "cell_type": "code",
      "source": [
        "earning_df_new_index.loc[1:3,[\"startdatetime\", \"epsactual\"]]"
      ],
      "metadata": {
        "id": "MIvQ0l9mRl2_"
      },
      "execution_count": null,
      "outputs": []
    },
    {
      "cell_type": "markdown",
      "source": [
        "## 조건에 의한 데이터 선택"
      ],
      "metadata": {
        "id": "VvIzWavPVSdk"
      }
    },
    {
      "cell_type": "code",
      "source": [
        "earning_df[earning_df[\"epsactual\"] > 20]"
      ],
      "metadata": {
        "id": "c26laJ8eSBLt"
      },
      "execution_count": null,
      "outputs": []
    },
    {
      "cell_type": "markdown",
      "source": [
        "### 두 개 이상 조건 사용하기"
      ],
      "metadata": {
        "id": "_MDZ2xB9WDYC"
      }
    },
    {
      "cell_type": "markdown",
      "source": [
        "* 각각의 조건을 소괄호로 묶고 &로 연결"
      ],
      "metadata": {
        "id": "qr1HFmKuWIsG"
      }
    },
    {
      "cell_type": "code",
      "source": [
        "earning_df[(earning_df[\"epsactual\"] > 2) &\n",
        "           (earning_df[\"startdatetime\"] < \"2021-01-01\")]"
      ],
      "metadata": {
        "id": "6XZvCmwTSqAx"
      },
      "execution_count": null,
      "outputs": []
    },
    {
      "cell_type": "markdown",
      "source": [
        "### 조건에 맞는 인덱스 추출: np.where()"
      ],
      "metadata": {
        "id": "7j7jEbarWVIs"
      }
    },
    {
      "cell_type": "code",
      "source": [
        "index = np.where((earning_df[\"epsactual\"] > 20) &\n",
        "                 (earning_df[\"startdatetime\"] > \"2021-01-01\"))\n",
        "index"
      ],
      "metadata": {
        "id": "qrcQHbqqTUnB"
      },
      "execution_count": null,
      "outputs": []
    },
    {
      "cell_type": "code",
      "source": [
        "earning_df.loc[index]"
      ],
      "metadata": {
        "id": "ieuD9zdEUU9j"
      },
      "execution_count": null,
      "outputs": []
    },
    {
      "cell_type": "markdown",
      "source": [
        "### sample(): 데이터 프레임의 행들을 랜덤 추출"
      ],
      "metadata": {
        "id": "m4fBvz_-XSJF"
      }
    },
    {
      "cell_type": "code",
      "source": [
        "len(earning_df.sample(n=5))"
      ],
      "metadata": {
        "id": "gYEYPzweUzJf"
      },
      "execution_count": null,
      "outputs": []
    },
    {
      "cell_type": "markdown",
      "source": [
        "* 샘플 수 -> n= 값으로 지정\n",
        "  * n=5 -> 5개 행만 랜덤 추출\n",
        "* len = 데이터 길이를 반환하는 파이썬 함수"
      ],
      "metadata": {
        "id": "SM83StUCXbr3"
      }
    },
    {
      "cell_type": "code",
      "source": [
        "len(earning_df.sample(frac=0.5)), len(earning_df)"
      ],
      "metadata": {
        "id": "3TYisB1eVhvZ"
      },
      "execution_count": null,
      "outputs": []
    },
    {
      "cell_type": "markdown",
      "source": [
        "* frac = fraction(비율)\n",
        "  * 전체 = 1로 봤을 때의 비율을 parameter로 사용\n",
        "  * frac(0.5) = 0.5 만큼의 비율 = 전체의 약 50%"
      ],
      "metadata": {
        "id": "LusY6YywXfd3"
      }
    },
    {
      "cell_type": "markdown",
      "source": [
        "## earning_df에서 실제로 분석에 사용될 열만 선택하기"
      ],
      "metadata": {
        "id": "JK2ruT1EXA5b"
      }
    },
    {
      "cell_type": "code",
      "source": [
        "earning_df = earning_df[[\"startdatetime\",\n",
        "                         \"epsactual\",\n",
        "                         \"epssurprisepct\"]]\n",
        "earning_df.head()"
      ],
      "metadata": {
        "id": "7nvoXEy6VntT"
      },
      "execution_count": null,
      "outputs": []
    },
    {
      "cell_type": "markdown",
      "source": [
        "# 누락 데이터의 처리"
      ],
      "metadata": {
        "id": "DSBpaSZrYIbg"
      }
    },
    {
      "cell_type": "markdown",
      "source": [
        "* 데이터 누락missing = 관측 값이 존재하지 않는 경우\n",
        "* 데이터 프레임에서 NaN으로 표시\n",
        "  * 데이터의 특정 값이 NaN으로 표기돼 있을 시 연산 적용이 불가능한 경우 존재: 누락 데이터 처리 필요\n",
        "* 누락된 데이터 채움 = **imputation**\n",
        "  * 기본값 = 디폴트값 = 0 등으로 채우기\n",
        "  * 해당 열의 평균 또는 중간 값으로 채우기\n",
        "  * NaN이 존재하는 행의 다른 값들로 NaN의 값을 추정하는 모델을 만들어 모델의 예측 값으로 채우기"
      ],
      "metadata": {
        "id": "-FkvLU8SYajw"
      }
    },
    {
      "cell_type": "markdown",
      "source": [
        "## fillna(): NaN인 부분을 주어진 값으로 채우기"
      ],
      "metadata": {
        "id": "MuS96G3yZmA2"
      }
    },
    {
      "cell_type": "code",
      "source": [
        "earning_fillna = earning_df.fillna(\n",
        "    {'epsactual': 30.69,\n",
        "     'epssurprisepct': 12.25})\n",
        "earning_fillna.head()"
      ],
      "metadata": {
        "id": "KYIRSR3HWKUe"
      },
      "execution_count": null,
      "outputs": []
    },
    {
      "cell_type": "markdown",
      "source": [
        "* fillna의 parameter로 dictionary 값 전달\n",
        "  * key(column명)에 해당하는 value(NaN 값을 대체할 값) 전달"
      ],
      "metadata": {
        "id": "3MOMiHMxZz7E"
      }
    },
    {
      "cell_type": "code",
      "source": [
        "earning_df.fillna?"
      ],
      "metadata": {
        "id": "RxRcFJ9zYxxN"
      },
      "execution_count": null,
      "outputs": []
    },
    {
      "cell_type": "markdown",
      "source": [
        "## dropna(): NaN 값 포함한 행들 삭제"
      ],
      "metadata": {
        "id": "lVxzEqHnaNdb"
      }
    },
    {
      "cell_type": "markdown",
      "source": [
        "* 다루는 데이터가 대량일 경우(충분히 많은 경우) 일부 NaN 값이 존재하는 행을 삭제해도 문제되지 않을 수 있음\n",
        "* dataFrame.dropna() 함수로 NaN 값 포함하는 행 모두 삭제하고 NaN 값 없는 데이터만 반환 받아 사용"
      ],
      "metadata": {
        "id": "bdcj9pw7auw0"
      }
    },
    {
      "cell_type": "code",
      "source": [
        "earning_sample = earning_df.dropna()\n",
        "len(earning_sample), len(earning_df)"
      ],
      "metadata": {
        "id": "xCUABobDYbiP"
      },
      "execution_count": null,
      "outputs": []
    },
    {
      "cell_type": "code",
      "source": [
        "earning_sample.head()"
      ],
      "metadata": {
        "id": "Pwqwx9nKaumB"
      },
      "execution_count": null,
      "outputs": []
    },
    {
      "cell_type": "markdown",
      "source": [
        "## 인덱스의 재설정: reset_index()"
      ],
      "metadata": {
        "id": "49RXrPq7bSbZ"
      }
    },
    {
      "cell_type": "markdown",
      "source": [
        "* 기존 인덱스를 무시하고 0부터 1씩 증가하는 인덱스를 재설정\n",
        "* dropna() 함수 등으로 특정 행 삭제 후 공백이 생기게 되는 인덱스를 재설정할 때 주로 사용"
      ],
      "metadata": {
        "id": "vlNpH0P-bcqd"
      }
    },
    {
      "cell_type": "code",
      "source": [
        "earning_sample = earning_sample.reset_index(drop=True)\n",
        "earning_sample.head()"
      ],
      "metadata": {
        "id": "SzNlej0ebO-B"
      },
      "execution_count": null,
      "outputs": []
    },
    {
      "cell_type": "markdown",
      "source": [
        "* drop=True 옵션이 없으면 (drop=False)\n",
        "  * 기존 인덱스 값 -> 새로운 컬럼으로 생성\n",
        "* 일반적으로 인덱스값은 컬럼으로 보존할 만큼 유의미한 정보를 주는 데이터가 아니기 때문에\n",
        "  * 기존 인덱스 값을 버리고 새로운 인덱스 값만 남김"
      ],
      "metadata": {
        "id": "o3vQ0IAQb0ez"
      }
    },
    {
      "cell_type": "markdown",
      "source": [
        "# 중복 데이터의 제거"
      ],
      "metadata": {
        "id": "TV0aYRNUcR0P"
      }
    },
    {
      "cell_type": "markdown",
      "source": [
        "* 같은 값이 중복될 경우 제거하는 편이 좋음\n",
        "  * 서로 다른 행이 중복 = 하나의 객체에 대한 인스턴스가 여러 번 관측, 기록됐을 가능성 존재\n",
        "  * 이와 같이 오류로 인한 중복 데이터를 모델 생성 또는 분석에 사용 시 문제 발생 가능"
      ],
      "metadata": {
        "id": "SG09jvH5gP_2"
      }
    },
    {
      "cell_type": "markdown",
      "source": [
        "## 중복 데이터 생성"
      ],
      "metadata": {
        "id": "AJNY7GMlgwsc"
      }
    },
    {
      "cell_type": "markdown",
      "source": [
        "* 현재 데이터에 중복 데이터가 존재하지 않으므로\n",
        "* 중복 데이터 제거 예시를 위해 임의로 중복 데이터 생성"
      ],
      "metadata": {
        "id": "qxyWYsrhgzXs"
      }
    },
    {
      "cell_type": "markdown",
      "source": [
        "### pd.concat(): 데이터 붙이기"
      ],
      "metadata": {
        "id": "f9c5HyLog9uP"
      }
    },
    {
      "cell_type": "code",
      "source": [
        "earning_dup = pd.concat([earning_sample[:1],\n",
        "                         earning_sample]).reset_index(drop=True)\n",
        "earning_dup.head()"
      ],
      "metadata": {
        "id": "78jVcglGby-X"
      },
      "execution_count": null,
      "outputs": []
    },
    {
      "cell_type": "markdown",
      "source": [
        "* pd.concat() 함수의 parameter로 붙일 데이터 프레임의 리스트를 전달\n",
        "1. earning_sample 데이터 프레임의 0번째 행을\n",
        "2. earning_sample 데이터 프레임과 붙여\n",
        "3. 0번째 행이 중복되는 데이터 프레임 생성\n",
        "4. reset_index() 함수로 인덱스 재설정"
      ],
      "metadata": {
        "id": "e8ZdkyWdg7Li"
      }
    },
    {
      "cell_type": "markdown",
      "source": [
        "## drop_duplicates(): 중복 데이터 제거"
      ],
      "metadata": {
        "id": "ikQEOiTmh1wm"
      }
    },
    {
      "cell_type": "code",
      "source": [
        "earning_dup.drop_duplicates(subset=[\"startdatetime\"],\n",
        "                            keep=\"first\", inplace=True)\n",
        "earning_dup.head()"
      ],
      "metadata": {
        "id": "7pSCv0TUe9EJ"
      },
      "execution_count": null,
      "outputs": []
    },
    {
      "cell_type": "markdown",
      "source": [
        "* 행의 컬럼 전체가 중복되는 경우가 아닌\n",
        "* 특정 컬럼 값들만 중복되는 경우도 중복 데이터로 간주할 수 있음\n",
        "  * subset= 파라미터로 지정 -> 특정 컬럼 부분집합만 겹쳐도 중복 행으로 간주\n",
        "* keep= 파라미터:\n",
        "  * 중복 행 삭제 시 남길 행 선택\n",
        "  * first, last 등\n",
        "* **inplace= 파라미터:**\n",
        "  * 데이터 프레임 가공 시 매우 많이 등장하는 옵션\n",
        "  * inplace=False\n",
        "    * 함수를 적용한 결과 데이터 프레임을 반환하고\n",
        "    * 반환된 데이터 프레임을 새 변수명으로 저장\n",
        "    * 이 경우 기존 데이터 프레임, 반환된 데이터 프레임 모두 메모리 공간을 차지하게 됨 = 낭비 심함\n",
        "  * inplace=True\n",
        "    * 함수 적용 결과 반환된 데이터 프레임이 기존 데이터 프레임 대체\n",
        "    * 즉: 함수가 대상 데이터 프레임 자체를 변형\n",
        "    * 결과적으로 컴퓨터 메모리 절약"
      ],
      "metadata": {
        "id": "RI5jYem2iEcs"
      }
    },
    {
      "cell_type": "markdown",
      "source": [
        "# 데이터 연산"
      ],
      "metadata": {
        "id": "aopB7OlIj8A-"
      }
    },
    {
      "cell_type": "markdown",
      "source": [
        "## split() 함수: 문자열 자르기"
      ],
      "metadata": {
        "id": "_gQ7_GAslXxT"
      }
    },
    {
      "cell_type": "code",
      "source": [
        "earning_sample.dtypes"
      ],
      "metadata": {
        "id": "qEsW13xNhyPP"
      },
      "execution_count": null,
      "outputs": []
    },
    {
      "cell_type": "code",
      "source": [
        "\"2021-10-26T00:00:00.000Z\".split(\"T\")"
      ],
      "metadata": {
        "id": "oH2ZPPgImBBu"
      },
      "execution_count": null,
      "outputs": []
    },
    {
      "cell_type": "code",
      "source": [
        "\"2021-10-26T00:00:00.000Z\".split(\"T\")[0]"
      ],
      "metadata": {
        "id": "SpW2lbgxnF4r"
      },
      "execution_count": null,
      "outputs": []
    },
    {
      "cell_type": "markdown",
      "source": [
        "## apply(): 데이터 프레임의 모든 행 / 열에 함수 적용"
      ],
      "metadata": {
        "id": "V2_TiCCIkG1H"
      }
    },
    {
      "cell_type": "markdown",
      "source": [
        "* axis=1 -> 모든 행에 함수 적용\n",
        "* axis=0 -> 모든 열에 함수 적용"
      ],
      "metadata": {
        "id": "QpTgPPnVkL7u"
      }
    },
    {
      "cell_type": "code",
      "source": [
        "earning_sample[\"date\"] = earning_sample.apply(\n",
        "    lambda row: row[\"startdatetime\"].split(\"T\")[0], axis=1)\n",
        "earning_sample.head()"
      ],
      "metadata": {
        "id": "Yehw4OBynKqz"
      },
      "execution_count": null,
      "outputs": []
    },
    {
      "cell_type": "markdown",
      "source": [
        "* lambda 함수 = 익명함수, 무명함수\n",
        "  * lambda = 굳이 이름을 부여할 필요 없는 일회성 함수 선언 위한 키워드\n",
        "  * lambda *parameter*: *command*"
      ],
      "metadata": {
        "id": "AjWcQMIPlqoV"
      }
    },
    {
      "cell_type": "code",
      "source": [
        "earning_sample[\"date\"] = pd.to_datetime(earning_sample[\"date\"],\n",
        "                                        format=\"%Y-%m-%d\")"
      ],
      "metadata": {
        "id": "YVMMRXGDpsES"
      },
      "execution_count": null,
      "outputs": []
    },
    {
      "cell_type": "code",
      "source": [
        "earning_sample.dtypes"
      ],
      "metadata": {
        "id": "oyIbthJXr85h"
      },
      "execution_count": null,
      "outputs": []
    },
    {
      "cell_type": "markdown",
      "source": [
        "* apply(), split() 함수로 분리한 \"date\" 컬럼의 데이터 포맷 변경"
      ],
      "metadata": {
        "id": "l3Ogt00EpLl1"
      }
    },
    {
      "cell_type": "markdown",
      "source": [
        "### apply(): 데이터 프레임 뿐만 아니라 Series 타입에도 적용 가능"
      ],
      "metadata": {
        "id": "A60R1XrFmo9m"
      }
    },
    {
      "cell_type": "markdown",
      "source": [
        "* 이 경우 axis 필요 없음"
      ],
      "metadata": {
        "id": "WRL7MyqtnNK4"
      }
    },
    {
      "cell_type": "code",
      "source": [
        "earning_sample[\"startdatetime\"].apply(\n",
        "    lambda startdatetime: startdatetime.split(\"T\")[0])"
      ],
      "metadata": {
        "id": "niyO9QYbw4cr"
      },
      "execution_count": null,
      "outputs": []
    },
    {
      "cell_type": "markdown",
      "source": [
        "## map(): Series의 모든 값들에 대해 함수 적용"
      ],
      "metadata": {
        "id": "_07cxXG4nTmR"
      }
    },
    {
      "cell_type": "markdown",
      "source": [
        "* apply()와 차이:\n",
        "  * apply() = 데이터 프레임, 시리즈에 모두 사용 가능\n",
        "  * map() = 시리즈에 사용 가능"
      ],
      "metadata": {
        "id": "IDLv5Bj1nrr9"
      }
    },
    {
      "cell_type": "code",
      "source": [
        "earning_sample[\"startdatetime\"].map(\n",
        "    lambda startdatetime: startdatetime.split(\"T\")[0])"
      ],
      "metadata": {
        "id": "3gh8_1esr_4b"
      },
      "execution_count": null,
      "outputs": []
    },
    {
      "cell_type": "markdown",
      "source": [
        "## applymap(): 데이터 프레임 안 모든 값들에 함수 적용"
      ],
      "metadata": {
        "id": "6WE3GhT-oNxt"
      }
    },
    {
      "cell_type": "code",
      "source": [
        "(pd.DataFrame({\"a\": [1, 2], \"b\": [3, 4]})\n",
        "  .applymap(lambda x: x + 1))"
      ],
      "metadata": {
        "id": "F9Z3IZrKvaJV"
      },
      "execution_count": null,
      "outputs": []
    },
    {
      "cell_type": "markdown",
      "source": [
        "* 이 경우 lambda의 parameter = 데이터 프레임의 개별 값들\n",
        "  * apply()에서의 lambda parameter = 데이터 프레임의 행들"
      ],
      "metadata": {
        "id": "xqNsE5NtoduB"
      }
    },
    {
      "cell_type": "markdown",
      "source": [
        "# **NumPy를 이용한 데이터 가공**"
      ],
      "metadata": {
        "id": "c7GvgpmnqAYM"
      }
    },
    {
      "cell_type": "markdown",
      "source": [
        "# 구글의 주가 데이터 불러오기"
      ],
      "metadata": {
        "id": "8iIGSM_yRH0i"
      }
    },
    {
      "cell_type": "code",
      "source": [
        "price = si.get_data(ticker)\n",
        "type(price)"
      ],
      "metadata": {
        "id": "DpOELte0yD_2"
      },
      "execution_count": null,
      "outputs": []
    },
    {
      "cell_type": "markdown",
      "source": [
        "* earning(list 타입)과 달리 데이터 프레임 타입\n",
        "  * 데이터 프레임으로 변환 및 생성 과정 없이 바로 가공 가능"
      ],
      "metadata": {
        "id": "RrhPLLFWRUX_"
      }
    },
    {
      "cell_type": "code",
      "source": [
        "type?"
      ],
      "metadata": {
        "id": "MNyhGI_QzgG8"
      },
      "execution_count": null,
      "outputs": []
    },
    {
      "cell_type": "code",
      "source": [
        "price.head()"
      ],
      "metadata": {
        "id": "PiSgNdVtz8R0"
      },
      "execution_count": null,
      "outputs": []
    },
    {
      "cell_type": "markdown",
      "source": [
        "* 인덱스 = 해당 주가의 날짜\n",
        "* open = 그날 시가 (시작가)\n",
        "* close = 그날 종가 (종료가)\n",
        "* high = 그날 가장 높게 거래된 가격\n",
        "* low = 그날 가장 낮게 거래된 가격\n",
        "* volume = 거래량\n",
        "* ticker = 구글 (주식회사)"
      ],
      "metadata": {
        "id": "MDB_0tF3RhsA"
      }
    },
    {
      "cell_type": "markdown",
      "source": [
        "# 데이터 정렬"
      ],
      "metadata": {
        "id": "3Gt2-VgBRPLL"
      }
    },
    {
      "cell_type": "markdown",
      "source": [
        "* 오름차순 정렬: 데이터가 커지는 순서대로 정렬\n",
        "* 내림차순 정렬: 데이터가 작아지는 순서대로 정렬"
      ],
      "metadata": {
        "id": "QuFwZ7SgSRX_"
      }
    },
    {
      "cell_type": "markdown",
      "source": [
        "## sort_index(): 인덱스 기준 정렬"
      ],
      "metadata": {
        "id": "9PaFcMegSJLs"
      }
    },
    {
      "cell_type": "code",
      "source": [
        "price_sort_index = price.sort_index(ascending=False)\n",
        "price_sort_index.head()"
      ],
      "metadata": {
        "id": "3CPuKNSX0jwW"
      },
      "execution_count": null,
      "outputs": []
    },
    {
      "cell_type": "markdown",
      "source": [
        "* 최근부터 과거 날짜로 내림차순 정렬: ascending=False"
      ],
      "metadata": {
        "id": "2JII4BVjSi6h"
      }
    },
    {
      "cell_type": "markdown",
      "source": [
        "## sort_values(): 값을 기준으로 정렬"
      ],
      "metadata": {
        "id": "AN8iiS1zSscd"
      }
    },
    {
      "cell_type": "code",
      "source": [
        "price_sort_values = price.sort_values(by='close', ascending=False)\n",
        "price_sort_values.head()"
      ],
      "metadata": {
        "id": "l51d_Kif10PZ"
      },
      "execution_count": null,
      "outputs": []
    },
    {
      "cell_type": "markdown",
      "source": [
        "* by='정렬기준 컬럼'\n",
        "* ascending=False: 내림차순 정렬"
      ],
      "metadata": {
        "id": "Yybcq-nRS3hx"
      }
    },
    {
      "cell_type": "markdown",
      "source": [
        "# 관심 질문 수립하기"
      ],
      "metadata": {
        "id": "R8cpj92kTc_9"
      }
    },
    {
      "cell_type": "markdown",
      "source": [
        "데이터 분석 = 관심있는 질문의 답을 구하는 것\n",
        "1. 분석 전에 질문을 수립하고\n",
        "2. 질문에 대한 답을 구하기 위해\n",
        "3. 데이터를 어떻게 수집하고 분석할지 계획하는 것이 중요"
      ],
      "metadata": {
        "id": "6z0vAjTrkt48"
      }
    },
    {
      "cell_type": "markdown",
      "source": [
        "분석 중에도\n",
        "* 데이터 수집단계(시작)부터 계획을 세우는 데 관여할 수 있는 실험과 분석이 가능한 경우가 있고\n",
        "* **이미 발생한 데이터 관측값들에 대해 관심 질문을 던지고 답을 구하는** - 관찰 연구에 해당하는 분석이 있음"
      ],
      "metadata": {
        "id": "qIFg_Qg_k4-f"
      }
    },
    {
      "cell_type": "markdown",
      "source": [
        "관심 질문:\n",
        "* (구글의) 주당순이익(EPS, earning per share)과 주가는 선형적 관계를 갖는가?\n",
        "  * 주당순이익: 기업의 주식 한 주당 기업이 버는 이익\n",
        "    * 벌어들인 이익 ÷ 총 주식 수 = EPS (이익/주)\n",
        "  * 선형적 관계: 주당순이익이 증가하면 주가도 그에 정비례해 증가하는지?"
      ],
      "metadata": {
        "id": "VFs7U3i5k9h4"
      }
    },
    {
      "cell_type": "markdown",
      "source": [
        "관심 질문에 답하기 위해:\n",
        "* **주당순이익이 발표된 달의 다음 한 달 동안 종가 평균**(주가)을 구해서 비교해보기\n",
        "  * 주당순이익은 이미 주어져 있으므로 주당순이익과 비교할 주가 정의 필요\n",
        "    * 주당순이익이 발표된 당일 또는 다음날 주가를 사용할지?\n",
        "    * 시가와 종가 중 어느 것을 사용할지?\n",
        "  * 주당순이익이 발표되고 - 발표된 정보가 주식 시장에 반영되는 데에 시간이 필요하다는 가정으로 주가 정의\n",
        "* 데이터를 월별로 묶어 평균 구해야 함\n",
        "  * 매달 종가 평균 값을 구해야 하므로\n",
        "  * 종가값들을 월별로 묶어 월별 평균 구해야 함\n",
        "* groupby와 agg 함수 (aggregate: 집계) 사용\n",
        "  * 월별 그룹화 = groupby 함수\n",
        "  * 평균 구하기(집계) = agg 함수"
      ],
      "metadata": {
        "id": "7AQ8yOzOlCtI"
      }
    },
    {
      "cell_type": "markdown",
      "source": [
        "# 그룹과 집계"
      ],
      "metadata": {
        "id": "iJMPe1khTUor"
      }
    },
    {
      "cell_type": "markdown",
      "source": [
        "## month 컬럼 생성"
      ],
      "metadata": {
        "id": "kgvd3dPed6Cc"
      }
    },
    {
      "cell_type": "code",
      "source": [
        "price[\"month\"] = price.index.map(\n",
        "    lambda date: date.strftime(\"%Y\") + \"-\" + date.strftime(\"%m\"))\n",
        "price.head()"
      ],
      "metadata": {
        "id": "Op6BUfWm2UFP"
      },
      "execution_count": null,
      "outputs": []
    },
    {
      "cell_type": "markdown",
      "source": [
        "## groupby() & agg(): 월별 그룹화해 시가평균, 종가평균 구하기"
      ],
      "metadata": {
        "id": "Uuit0DE-eDrC"
      }
    },
    {
      "cell_type": "code",
      "source": [
        "price_mean = (price\n",
        "              .groupby(by=\"month\")[[\"open\", \"close\"]]\n",
        "              .agg(open_mean=(\"open\", \"mean\"),\n",
        "                   close_mean=(\"close\", \"mean\"))\n",
        "              .reset_index())\n",
        "price_mean.head()"
      ],
      "metadata": {
        "id": "mWD8j7405M08"
      },
      "execution_count": null,
      "outputs": []
    },
    {
      "cell_type": "markdown",
      "source": [
        "* groupby(by=\"month\")[[\"open\", \"close\"]]\n",
        "  * month 컬럼 **기준**으로\n",
        "  * open, close 컬럼을 그룹화\n",
        "* agg( : 집계 함수 적용\n",
        "  * open_mean=(\"open\", \"mean\"),\n",
        "    * 시가 평균 산출:\n",
        "    1. open 컬럼에 대해\n",
        "    2. mean 함수 적용 후\n",
        "    3. 새로운 컬럼 open_mean 으로 표시\n",
        "  * close_mean=(\"close\", \"mean\"))\n",
        "    * 종가 평균 산출\n",
        "    1. close 컬럼에 대해\n",
        "    2. mean 함수 적용 후\n",
        "    3. 새로운 컬럼 close_mean 으로 표시\n",
        "* reset_index()\n",
        "  * 인덱스 값 재설정\n",
        "\n",
        "-> 결과 월단위로 그룹화된 시가와 종가에 대해 평균 산출됨"
      ],
      "metadata": {
        "id": "trUYUjfpeIzp"
      }
    },
    {
      "cell_type": "markdown",
      "source": [
        "### agg에 딕셔너리를 넘기는 경우"
      ],
      "metadata": {
        "id": "vo58BjsHihKG"
      }
    },
    {
      "cell_type": "code",
      "source": [
        "price_mean = (price\n",
        "              .groupby(by=\"month\")\n",
        "              .agg({\"open\": \"mean\", \"close\": \"mean\"})\n",
        "              .reset_index())\n",
        "price_mean.head()"
      ],
      "metadata": {
        "id": "B8EZ7EMjBVEQ"
      },
      "execution_count": null,
      "outputs": []
    },
    {
      "cell_type": "markdown",
      "source": [
        "* 이전 코드와 같은 집계, 다른 문법\n",
        "* 새로운 이름의 컬럼을 생성하지 않고\n",
        "* 기존 컬럼과 같은 컬럼명으로 집계한 평균값 표시\n",
        "* agg() 함수의 파라미터로 딕셔너리 전달\n",
        "  * key = 집계 대상 컬럼\n",
        "  * value = 컬럼에 적용할 집계 함수"
      ],
      "metadata": {
        "id": "F9zpzvX7hjHb"
      }
    },
    {
      "cell_type": "markdown",
      "source": [
        "### rename(): axis=1 옵션 사용해 열 이름 변경"
      ],
      "metadata": {
        "id": "hZXN5ioSivkA"
      }
    },
    {
      "cell_type": "code",
      "source": [
        "price_mean.rename(\n",
        "    {\"open\": \"open_mean\", \"close\": \"close_mean\"},\n",
        "    axis=1,\n",
        "    inplace=True)\n",
        "price_mean.head()"
      ],
      "metadata": {
        "id": "l77pv7ohDRT4"
      },
      "execution_count": null,
      "outputs": []
    },
    {
      "cell_type": "markdown",
      "source": [
        "* 데이터 프레임 다룰 때 컬럼 이름 변경하는 연산이 흔함\n",
        "* 인자 1 = 딕셔너리\n",
        "  * key = 기존 컬럼명\n",
        "  * value = 바꿀 컬럼명\n",
        "* axis=1 옵션을 사용해 열 이름 변경\n",
        "* inplace=True\n",
        "  * 변경한 내용을 원본 데이터 프레임에 그대로 적용"
      ],
      "metadata": {
        "id": "nLw48zW4irvp"
      }
    },
    {
      "cell_type": "markdown",
      "source": [
        "### agg에 인자로 줄 수 있는 함수들:"
      ],
      "metadata": {
        "id": "NaOExpkNjfPB"
      }
    },
    {
      "cell_type": "markdown",
      "source": [
        "* mean = 평균\n",
        "* sum = 합계\n",
        "* min = 최소값\n",
        "* max = 최대값\n",
        "* median = 중간값\n",
        "* std = 표준편차\n",
        "* var = 분산\n",
        "* count = 그룹에 속한 샘플 수"
      ],
      "metadata": {
        "id": "mg6gnwkIjq3n"
      }
    },
    {
      "cell_type": "code",
      "source": [
        "(price\n",
        " .groupby(by=\"month\")\n",
        " .agg({\"open\": \"min\", \"close\": \"max\"})\n",
        " .reset_index()\n",
        " .head())"
      ],
      "metadata": {
        "id": "DGhRBkyvEWaH"
      },
      "execution_count": null,
      "outputs": []
    },
    {
      "cell_type": "markdown",
      "source": [
        "## agg() 없이 바로 집계함수 적용하기"
      ],
      "metadata": {
        "id": "14IN7eGjj_tn"
      }
    },
    {
      "cell_type": "code",
      "source": [
        "(price\n",
        " .groupby(by=\"month\")[[\"open\", \"close\"]]\n",
        " .mean()\n",
        " .reset_index()\n",
        " .head())"
      ],
      "metadata": {
        "id": "oKp_Hi1HFzhN"
      },
      "execution_count": null,
      "outputs": []
    },
    {
      "cell_type": "code",
      "source": [
        "(price\n",
        " .groupby(by=\"month\")[[\"open\", \"close\"]]\n",
        " .max()\n",
        " .reset_index()\n",
        " .head())"
      ],
      "metadata": {
        "id": "oyipg0QqaBm8"
      },
      "execution_count": null,
      "outputs": []
    },
    {
      "cell_type": "markdown",
      "source": [
        "## reset_index() 호출하지 않는 경우: 인덱스 = groupby()에 사용된 값"
      ],
      "metadata": {
        "id": "fng_qvhVkQDw"
      }
    },
    {
      "cell_type": "code",
      "source": [
        "price.groupby(by=\"month\")[[\"open\", \"close\"]].mean().head()"
      ],
      "metadata": {
        "id": "u6Tufh6san_r"
      },
      "execution_count": null,
      "outputs": []
    },
    {
      "cell_type": "markdown",
      "source": [
        "# 시계열 데이터의 처리"
      ],
      "metadata": {
        "id": "QIwOE8zVkhBV"
      }
    },
    {
      "cell_type": "markdown",
      "source": [
        "* 특정 분기의 주당순이익이 아닌\n",
        "* 지난 1년간 주당순이익 합 사용\n",
        "  * 특정 분기에 따른 **계절적 영향 배제**하고 기업 이익 고려\n",
        "* 분기당 1번씩 주당순이익 발표\n",
        "  * 최근 4개의 주당순이익 값을 한 칸씩 이동하며 계산"
      ],
      "metadata": {
        "id": "cTcbMGhbm5Cj"
      }
    },
    {
      "cell_type": "markdown",
      "source": [
        "* 특정 크기 윈도를 한 칸씩 이동시키며 원하는 계산 적용\n",
        "  * 시계열 데이터에서 자주 필요할 수 있음\n",
        "\n",
        "-> **Pandas의 rolling() 함수로 수행**"
      ],
      "metadata": {
        "id": "t0QUY2wonLh1"
      }
    },
    {
      "cell_type": "markdown",
      "source": [
        "## rolling(): 윈도window를 이동시키며 함수 적용"
      ],
      "metadata": {
        "id": "5gQjFtEYnc9G"
      }
    },
    {
      "cell_type": "code",
      "source": [
        "roll = earning_sample[\"epsactual\"].rolling(window=4)\n",
        "earning_sample[\"eps_ttm\"] = roll.sum().shift(-3)\n",
        "earning_sample.head()"
      ],
      "metadata": {
        "id": "DdPzK_88bOzT"
      },
      "execution_count": null,
      "outputs": []
    },
    {
      "cell_type": "markdown",
      "source": [
        "* earning 데이터의 epsactual = 실제 해당 분기에 발표된 주당순이익 값\n",
        "* eps_ttm = 1년치 epsactual 값의 합\n",
        "  * 해당 행부터 시작해 4개의 epsactual 값을 합한 값\n",
        "  * ttm = Trailing to Twelve Months"
      ],
      "metadata": {
        "id": "WNcPAqXYo75u"
      }
    },
    {
      "cell_type": "code",
      "source": [
        "roll.sum().head()"
      ],
      "metadata": {
        "id": "U02YZS3xgIa6"
      },
      "execution_count": null,
      "outputs": []
    },
    {
      "cell_type": "markdown",
      "source": [
        "* shift(-3) 하는 이유:\n",
        "  * roll.sum()은 4개 epsactual 값의 합이므로 0행이 아닌 3행부터 저장됨\n",
        "  * 0~3행은 NaN 값이 되므로\n",
        "  * 위로 3칸 끌어 올려 줌"
      ],
      "metadata": {
        "id": "7KKQzpl9qy8p"
      }
    },
    {
      "cell_type": "markdown",
      "source": [
        "## differencing: 인접한 두 값의 차이 계산"
      ],
      "metadata": {
        "id": "8qy6nCEdq7lk"
      }
    },
    {
      "cell_type": "markdown",
      "source": [
        "* filtering이라고도 함\n",
        "* 시계열 데이터에 흔히 적용하는 연산 중 하나\n",
        "  * 시계열 데이터에 존재하는 계절성을 없애 용이한 모델링 수행할 수 있는 경우가 있음\n",
        "* 두 값 사이 차를 계산한 결과가 새로운 정보를 주는 경우 있음"
      ],
      "metadata": {
        "id": "OfY5jkb2rI0G"
      }
    },
    {
      "cell_type": "code",
      "source": [
        "earning_sample[\"eps_ttm_diff\"] = (\n",
        "    earning_sample[\"eps_ttm\"]\n",
        "    .rolling(window=2)\n",
        "    .apply(np.diff)\n",
        "    .shift(-1) * (-1))\n",
        "earning_sample.head()"
      ],
      "metadata": {
        "id": "gWAQTSAhgP0n"
      },
      "execution_count": null,
      "outputs": []
    },
    {
      "cell_type": "markdown",
      "source": [
        "* rolling(window=2)로 생성된 2칸짜리 윈도에 대해\n",
        "* apply(np.diff) 연산으로 differencing 수행\n",
        "* shift(-1)로 한 행 위로 끌어 올려 줌\n",
        "* 뒤쪽 값에서 앞쪽 값을 빼기 때문에 음수값 나옴 -> (-1) 곱해 줌"
      ],
      "metadata": {
        "id": "ztKgMKCFrIwS"
      }
    },
    {
      "cell_type": "markdown",
      "source": [
        "# 데이터 프레임의 병합"
      ],
      "metadata": {
        "id": "Pez6V96Qs-CP"
      }
    },
    {
      "cell_type": "markdown",
      "source": [
        "## merge: 데이터 프레임 병합"
      ],
      "metadata": {
        "id": "Py__vZl2tHVB"
      }
    },
    {
      "cell_type": "markdown",
      "source": [
        "* 데이터베이스 테이블의 조인join에 해당하는 연산\n",
        "* 서로 다른 테이블에 존재하는 값들의 비교, 또는 묶어 모델을 생성하기 위해 테이블들을 합칠 필요가 있음\n",
        "* 각각의 테이블에 존재하는 서로 공통되는 값들을 기준으로 병합 가능"
      ],
      "metadata": {
        "id": "O77BSuH5tbHp"
      }
    },
    {
      "cell_type": "code",
      "source": [
        "earning_sample[\"month\"] = (\n",
        "    earning_sample[\"date\"]\n",
        "    .map(lambda date:\n",
        "         ((date + relativedelta(months=1)).strftime(\"%Y\") +\n",
        "          \"-\" +\n",
        "          (date + relativedelta(months=1)).strftime(\"%m\"))))\n",
        "earning_sample.head()"
      ],
      "metadata": {
        "id": "amVSTX9Di9Sk"
      },
      "execution_count": null,
      "outputs": []
    },
    {
      "cell_type": "markdown",
      "source": [
        "* merge할 테이블과 공통 컬럼 = month 생성"
      ],
      "metadata": {
        "id": "2lGdFTv9uc-2"
      }
    },
    {
      "cell_type": "code",
      "source": [
        "earning_sample = (\n",
        "    earning_sample[(earning_sample[\"date\"] >= \"2015-01-01\") &\n",
        "                   (earning_sample[\"date\"] <= \"2019-12-31\")])\n",
        "earning_sample.head()"
      ],
      "metadata": {
        "id": "g_PTaoa2hnZW"
      },
      "execution_count": null,
      "outputs": []
    },
    {
      "cell_type": "markdown",
      "source": [
        "* 기존 데이터에서 날짜 기준으로 범위 한정해 일부만 추출\n",
        "  * 분석 시 교재와 같은 결과를 보기 위함"
      ],
      "metadata": {
        "id": "1dcCszQPumel"
      }
    },
    {
      "cell_type": "markdown",
      "source": [
        "### merge 방식 1: how=\"left\""
      ],
      "metadata": {
        "id": "OCKuC8TWvNnu"
      }
    },
    {
      "cell_type": "markdown",
      "source": [
        "두 데이터 프레임 중 왼쪽 인자에 해당하는 데이터 프레임 기준으로 병합\n",
        "* 왼쪽 데이터 프레임의 값들은 모두 살리고\n",
        "* 오른쪽 데이터 프레임의 값들 중 왼쪽 데이터 프레임의 month값과 일치하는 행들만 가져옴\n",
        "* 왼쪽 데이터 프레임의 month 값과 일치하는 오른쪽 데이터 프레임의 행이 없으면 NaN 값으로 채움"
      ],
      "metadata": {
        "id": "dw1715QCvRp3"
      }
    },
    {
      "cell_type": "code",
      "source": [
        "price_earning = pd.merge(\n",
        "    earning_sample, price_mean, on=\"month\", how=\"left\")\n",
        "price_earning.head()"
      ],
      "metadata": {
        "id": "BNVNYBaRqQl0"
      },
      "execution_count": null,
      "outputs": []
    },
    {
      "cell_type": "markdown",
      "source": [
        "* pd.merge(왼쪽df, 오른쪽df, 기준컬럼, merge방식)"
      ],
      "metadata": {
        "id": "k4epRKmMvkyP"
      }
    },
    {
      "cell_type": "markdown",
      "source": [
        "### merge 방식 2: how=\"right\""
      ],
      "metadata": {
        "id": "ob8TDA6DywEp"
      }
    },
    {
      "cell_type": "code",
      "source": [
        "pd.merge(\n",
        "    earning_sample,\n",
        "    price_mean,\n",
        "    on=\"month\",\n",
        "    how=\"right\").head()"
      ],
      "metadata": {
        "id": "hh5Z6gVUwJK-"
      },
      "execution_count": null,
      "outputs": []
    },
    {
      "cell_type": "markdown",
      "source": [
        "### merge 방식 3: how=\"inner\""
      ],
      "metadata": {
        "id": "_0LxHQwGzD06"
      }
    },
    {
      "cell_type": "markdown",
      "source": [
        "* 두 데이터 프레임에 공통적으로 존재하는 값들(값들의 교집합)을 키로 병합 수행"
      ],
      "metadata": {
        "id": "8onPh1LDzJnA"
      }
    },
    {
      "cell_type": "code",
      "source": [
        "set(earning_sample[\"month\"]).issubset(set(price_mean[\"month\"]))"
      ],
      "metadata": {
        "id": "npv2Af3Xw1Xl"
      },
      "execution_count": null,
      "outputs": []
    },
    {
      "cell_type": "code",
      "source": [
        "(len(pd.merge(earning_sample, price_mean,\n",
        "              on=\"month\", how=\"left\")) ==\n",
        " len(pd.merge(earning_sample, price_mean,\n",
        "              on=\"month\", how=\"inner\")))"
      ],
      "metadata": {
        "id": "6Pa3IMcoy0bZ"
      },
      "execution_count": null,
      "outputs": []
    },
    {
      "cell_type": "markdown",
      "source": [
        "### merge 방식 4: how=\"outer\""
      ],
      "metadata": {
        "id": "iK-u2iLJzOW5"
      }
    },
    {
      "cell_type": "markdown",
      "source": [
        "* 두 데이터 프레임에 존재하는 값들의 합집합을 키로 병합 수행"
      ],
      "metadata": {
        "id": "mNPcXcJbzSOn"
      }
    },
    {
      "cell_type": "markdown",
      "source": [
        "# 데이터 분석"
      ],
      "metadata": {
        "id": "VJJX5kD-z0m8"
      }
    },
    {
      "cell_type": "markdown",
      "source": [
        "* 간단한 회귀분석 모델 만들기"
      ],
      "metadata": {
        "id": "v5j8zfF0z-qy"
      }
    },
    {
      "cell_type": "markdown",
      "source": [
        "## 분석에 사용할 컬럼만 선택"
      ],
      "metadata": {
        "id": "oOZ5osAT0YZI"
      }
    },
    {
      "cell_type": "code",
      "source": [
        "price_earning = price_earning[[\"month\", \"eps_ttm\", \"eps_ttm_diff\",\n",
        "                               \"epssurprisepct\", \"close_mean\"]]\n",
        "price_earning.head()"
      ],
      "metadata": {
        "id": "tVVnJMH7zacU"
      },
      "execution_count": null,
      "outputs": []
    },
    {
      "cell_type": "markdown",
      "source": [
        "## 데이터 프레임 저장"
      ],
      "metadata": {
        "id": "p2-_IBK90elH"
      }
    },
    {
      "cell_type": "code",
      "source": [
        "price_earning.to_csv(\"price_earning.csv\", index=False)"
      ],
      "metadata": {
        "id": "CT90d93l2dxY"
      },
      "execution_count": null,
      "outputs": []
    },
    {
      "cell_type": "markdown",
      "source": [
        "## describe(): 데이터 프레임 각 열에 대한 기초통계 출력"
      ],
      "metadata": {
        "id": "Jp_GvLbF0j5z"
      }
    },
    {
      "cell_type": "code",
      "source": [
        "price_earning.describe()"
      ],
      "metadata": {
        "id": "_4caVj022sLu"
      },
      "execution_count": null,
      "outputs": []
    },
    {
      "cell_type": "markdown",
      "source": [
        "## 산점도 행렬 scatter plot matrix 만들기: 데이터 프레임의 열 사이 관계를 그래프로 표시"
      ],
      "metadata": {
        "id": "IzZLwfEX01mm"
      }
    },
    {
      "cell_type": "code",
      "source": [
        "import matplotlib.pyplot as plt\n",
        "from pandas.plotting import scatter_matrix"
      ],
      "metadata": {
        "id": "2QtZdiBT1Dcd"
      },
      "execution_count": null,
      "outputs": []
    },
    {
      "cell_type": "code",
      "source": [
        "plt.rcParams.update({'font.size': 14})"
      ],
      "metadata": {
        "id": "MqaBa5DH3V5H"
      },
      "execution_count": null,
      "outputs": []
    },
    {
      "cell_type": "code",
      "source": [
        "scatter_matrix(price_earning[[\"eps_ttm\", \"eps_ttm_diff\",\n",
        "                              \"epssurprisepct\", \"close_mean\"]],\n",
        "               alpha = 0.8, figsize = (8, 8), diagonal=\"hist\")\n",
        "plt.show()"
      ],
      "metadata": {
        "id": "lxy_3fvx3uqY"
      },
      "execution_count": null,
      "outputs": []
    },
    {
      "cell_type": "markdown",
      "source": [
        "* month 컬럼을 제외한 컬럼들 사이 관계 표시\n",
        "* alpha = 투명도\n",
        "* figsize = 표시될 이미지 크기\n",
        "* diagonal=\"hist\"\n",
        "  * 산점도 행렬의 대각선에 히스토그램 표시"
      ],
      "metadata": {
        "id": "DNY-fn4K1XWz"
      }
    },
    {
      "cell_type": "markdown",
      "source": [
        "## corr(): 상관 계수 correlation 구하기"
      ],
      "metadata": {
        "id": "4ZOAAHoB2l1r"
      }
    },
    {
      "cell_type": "code",
      "source": [
        "corr = price_earning[[\"eps_ttm\", \"eps_ttm_diff\",\n",
        "                      \"epssurprisepct\", \"close_mean\"]].corr()\n",
        "corr"
      ],
      "metadata": {
        "id": "VFfPBrYN5bSM"
      },
      "execution_count": null,
      "outputs": []
    },
    {
      "cell_type": "markdown",
      "source": [
        "## 선형 회귀 linear regression 모델"
      ],
      "metadata": {
        "id": "Uq87puF93U2s"
      }
    },
    {
      "cell_type": "markdown",
      "source": [
        "* 변수들 사이에 선형적 관계가 있는지 분석하기 위해 활용하는 모델"
      ],
      "metadata": {
        "id": "MuxOOx_L5UgV"
      }
    },
    {
      "cell_type": "markdown",
      "source": [
        "### ols(): R과 유사한 형태로 선형 회귀 모델 생성"
      ],
      "metadata": {
        "id": "ad8OENLb3bn0"
      }
    },
    {
      "cell_type": "markdown",
      "source": [
        "* ols = ordinary least squares"
      ],
      "metadata": {
        "id": "XRW8RXpn3hbz"
      }
    },
    {
      "cell_type": "code",
      "source": [
        "import statsmodels.api as sm\n",
        "from statsmodels.formula.api import ols"
      ],
      "metadata": {
        "id": "w2mzSbgr3l11"
      },
      "execution_count": null,
      "outputs": []
    },
    {
      "cell_type": "markdown",
      "source": [
        "* statsmodels\n",
        "  * 파이썬에서도 R과 유사한 형태로 선형회귀 모델 생성하기 위해 사용하는 패키지\n",
        "* 패키지에서 ols 함수 import"
      ],
      "metadata": {
        "id": "TCwLxux55j3R"
      }
    },
    {
      "cell_type": "code",
      "source": [
        "model = ols(\n",
        "    \"close_mean ~ eps_ttm + eps_ttm_diff + epssurprisepct\",\n",
        "    data=price_earning\n",
        "    ).fit()\n",
        "model.summary()"
      ],
      "metadata": {
        "id": "F99rp5Qb-IiK"
      },
      "execution_count": null,
      "outputs": []
    },
    {
      "cell_type": "markdown",
      "source": [
        "* close_mean = y = 반응변수\n",
        "* eps_ttm, eps_ttm_diff, epssurprisepct = x = 예측변수\n",
        "\n",
        "-> y와 x 사이에 선형적 관계가 있는지 분석: fit()으로 모델 생성\n",
        "<br>\n",
        "-> R에서와 똑같이 summary() 함수 사용해 요약 결과 표시"
      ],
      "metadata": {
        "id": "UyzW1XCU533C"
      }
    },
    {
      "cell_type": "markdown",
      "source": [
        "eps_ttm에 대한 t-test의 p-value가 0에 가까운 값이면 close_mean과 강한 선형적 연관관계 가짐\n",
        "* 일반적으로 p-value의 의미:\n",
        "  * 귀무가설이 참이라고 가정했을 때\n",
        "  * 제시된 t 또는 그보다 극단적인 값을 관측할 확률\n",
        "* 여기서 귀무가설: coef=0\n",
        "  * = x들이 y와 선형적 관계 없음\n",
        "  * 0 가설, null hypothesis라고도 함\n",
        "\n",
        "-> x와 y가 선형적 관계가 없다면 지금 보는 통계값이나 그보다 극단적인 값을 관측할 확률이 0에 가까움\n",
        "<br>\n",
        "-> eps_ttm에 대해 귀무가설이 참이라고 보기 어려움\n",
        "<br>\n",
        "-> **eps_ttm에 대해 귀무가설 기각**\n",
        "<br>\n",
        "-> 나머지 x들은 귀무가설 기각 어려움 = y와 선형적 관계를 갖는다고 보기 어려움"
      ],
      "metadata": {
        "id": "vgfTgKiD6k51"
      }
    },
    {
      "cell_type": "markdown",
      "source": [
        "결론: eps_ttm만이 close_mean과 강한 선형적 관계 갖는다"
      ],
      "metadata": {
        "id": "IkDXQgQ08xgh"
      }
    },
    {
      "cell_type": "markdown",
      "source": [
        "### eps_ttm만을 예측변수 predictor variable로 포함하는 모델 생성"
      ],
      "metadata": {
        "id": "m0-JaJlu87uf"
      }
    },
    {
      "cell_type": "code",
      "source": [
        "model = ols(\"close_mean ~ eps_ttm\", data=price_earning).fit()\n",
        "model.summary()"
      ],
      "metadata": {
        "id": "QyZCO5wZFO9o"
      },
      "execution_count": null,
      "outputs": []
    },
    {
      "cell_type": "markdown",
      "source": [
        "* R-squared, Adj. R-squared:\n",
        "  * x의 값이 y의 변동을 얼마나 설명하는지\n",
        "  * Adj. R-squred는 x를 많이 사용하면 패널티를 주는 방식이므로 이전보다 약간 증가함\n",
        "  * 이전 값과 큰 변동이 없음 = eps_ttm만으로도 close_mean의 변동을 충분히 설명할 수 있음"
      ],
      "metadata": {
        "id": "EZ9fY-di96YH"
      }
    },
    {
      "cell_type": "markdown",
      "source": [
        "### 잔차 residual 분석"
      ],
      "metadata": {
        "id": "fwORdSuZ-rbI"
      }
    },
    {
      "cell_type": "markdown",
      "source": [
        "* ols()를 사용해 만든 선형회귀 모델은 아무 상황에나 적용할 수 있는 것은 아님\n",
        "* 주어진 데이터가 어떤 가정들을 만족할 때 적용 가능\n",
        "\n",
        "-> 잔차분석을 통해 선형회귀 모델의 가정들을 데이터가 만족하는지 분석 가능\n",
        "<br>\n",
        "-> 이를 위해 residual plot 그려야 함"
      ],
      "metadata": {
        "id": "REBrITLg-yxT"
      }
    },
    {
      "cell_type": "markdown",
      "source": [
        "residual 정의:\n",
        "* y의 actual value - y의 fitted value(어떤 x에 대해 모델이 y를 예측한 값 = x)"
      ],
      "metadata": {
        "id": "AilW8yfjA8b-"
      }
    },
    {
      "cell_type": "code",
      "source": [
        "pickle.dump(model, open(\"model.pickle\", \"wb\"))"
      ],
      "metadata": {
        "id": "IilKXJ4dIB2j"
      },
      "execution_count": null,
      "outputs": []
    },
    {
      "cell_type": "code",
      "source": [
        "# x = model에서 fittedvalues에 액세스해 얻어 옴\n",
        "fitted = model.fittedvalues\n",
        "# y = residual 값들 얻어 옴\n",
        "resid = model.resid\n",
        "fig, ax = plt.subplots(figsize=(10, 7))\n",
        "# scatter plot 그리기\n",
        "ax.scatter(fitted, resid)\n",
        "# y=0 선 긋기\n",
        "ax.axhline(y=0, color='black', linestyle='solid')\n",
        "ax.set(xlabel=\"Fitted Value\", ylabel=\"Residual\", title=\"Residual vs Fits Plot\")\n",
        "plt.show()"
      ],
      "metadata": {
        "id": "00rKnYRiK76H"
      },
      "execution_count": null,
      "outputs": []
    },
    {
      "cell_type": "markdown",
      "source": [
        "y=0을 중심으로 점들이 비슷한 간격으로 분산돼 있으면:\n",
        "<br>\n",
        "회귀분석의 조건 중\n",
        "* 등분산성 equality of variance과\n",
        "* 선형성 linearity 만족\n",
        "\n",
        "<-> 반대로 점들이 균일하게 퍼져있지 않고 강한 패턴이나 증감하는 경향 등 규칙성을 보일 때: 이러한 가정을 위반함"
      ],
      "metadata": {
        "id": "4HQGOjS6CAYb"
      }
    },
    {
      "cell_type": "code",
      "source": [
        "# resid 값 얻어 오기\n",
        "residuals = model.resid\n",
        "# probability plot 생성\n",
        "pplot = sm.ProbPlot(residuals)\n",
        "fig = pplot.ppplot(line=\"45\")\n",
        "plt.show()"
      ],
      "metadata": {
        "id": "vCbic7ruMGj7"
      },
      "execution_count": null,
      "outputs": []
    },
    {
      "cell_type": "markdown",
      "source": [
        "회귀분석 조건 중 정규성normality 확인: normal probability plot을 통해 가능\n",
        "* residual 점들이 정규분포를 따른다고 가정했을 때의 라인에 점들이 가깝게 위치해 있으면 정규성 가정 만족"
      ],
      "metadata": {
        "id": "xEHL2tPNC291"
      }
    },
    {
      "cell_type": "markdown",
      "source": [
        "## 결론"
      ],
      "metadata": {
        "id": "bTOqKP4ADf9d"
      }
    },
    {
      "cell_type": "markdown",
      "source": [
        "* 간단하게 가공한 데이터로 회귀분석 모델을 만들고\n",
        "* 구글의 주당순이익(1년간 주당순이익의 합)이 다음 주당순이익이 발표된 다음달의 종가평균과 선형적 관계를 갖는가?\n",
        "\n",
        "-> 선형회귀 모델 생성:\n",
        "* 선형적 관계 갖지 않음"
      ],
      "metadata": {
        "id": "OuP7cWX7Dh9f"
      }
    },
    {
      "cell_type": "markdown",
      "source": [
        "## 주의"
      ],
      "metadata": {
        "id": "odszMTU6EAXd"
      }
    },
    {
      "cell_type": "markdown",
      "source": [
        "* 모델 생성 시 시장 금리 등 외부적 변수들을 고려하지 않고\n",
        "* 기간도 5년 정도로 한정\n",
        "* 일부 변수만으로 매우 단순한 모델을 생성해 질문에 답하기 위한 분석을 했으므로\n",
        "* 엄밀히 말하면 이러한 법칙이 성립한다고 보기 어려움"
      ],
      "metadata": {
        "id": "_OrxvrCsEBw4"
      }
    },
    {
      "cell_type": "markdown",
      "source": [
        "# numpy 라이브러리로 데이터 가공하기"
      ],
      "metadata": {
        "id": "9yy9F24xElk9"
      }
    },
    {
      "cell_type": "markdown",
      "source": [
        "## NumPy란:"
      ],
      "metadata": {
        "id": "vKyal3ysE0jU"
      }
    },
    {
      "cell_type": "markdown",
      "source": [
        "* Pandas = 데이터를 데이터베이스 테이블과 유사한 데이터 프레임에 담아 다룰 수 있게 해 주는 라이브러리인 반면\n",
        "* NumPy = 데이터를 행렬, 벡터로 표현하는 배열에 담아 다룰 수 있게 해 주는 라이브러리\n",
        "  * 1차원 = 벡터\n",
        "  * 2차원 = 행렬\n",
        "  * 3차원 이상 = 배열 (tensor)\n",
        "  * **선형대수 linear algebra 관련 연산 가능**"
      ],
      "metadata": {
        "id": "pvpUS5JcE3yY"
      }
    },
    {
      "cell_type": "markdown",
      "source": [
        "## NumPy 배열의 생성"
      ],
      "metadata": {
        "id": "rzSc-XEEGudX"
      }
    },
    {
      "cell_type": "code",
      "source": [
        "arr = np.array([[1, 2],\n",
        "                [2, 1]])"
      ],
      "metadata": {
        "id": "RGeUNNIKN1F-"
      },
      "execution_count": null,
      "outputs": []
    },
    {
      "cell_type": "markdown",
      "source": [
        "* 리스트들의 리스트로 이차원 배열 표현해 직접 생성"
      ],
      "metadata": {
        "id": "ADBFqRhLGylM"
      }
    },
    {
      "cell_type": "code",
      "source": [
        "X = price_earning[[\"eps_ttm\",\n",
        "                   \"eps_ttm_diff\",\n",
        "                   \"epssurprisepct\"]].values\n",
        "y = price_earning[[\"close_mean\"]].values\n",
        "type(X), type(y)"
      ],
      "metadata": {
        "id": "A0uPEZ4vR8EM"
      },
      "execution_count": null,
      "outputs": []
    },
    {
      "cell_type": "markdown",
      "source": [
        "* 데이터 프레임의 values attribute에 접근해 얻어 냄\n",
        "* ndarray = n dimentional array"
      ],
      "metadata": {
        "id": "PrWUzM_qG2D6"
      }
    },
    {
      "cell_type": "markdown",
      "source": [
        "## .shape: 배열의 크기 구하기"
      ],
      "metadata": {
        "id": "cXR83dCqHbSp"
      }
    },
    {
      "cell_type": "markdown",
      "source": [
        "* 행렬 곱 등 선형대수 연산 시 배열의 크기를 알아야 하는 경우 존재"
      ],
      "metadata": {
        "id": "ferFjnx7HjjU"
      }
    },
    {
      "cell_type": "code",
      "source": [
        "arr.shape, X.shape, y.shape"
      ],
      "metadata": {
        "id": "vdavfAcrSUEw"
      },
      "execution_count": null,
      "outputs": []
    },
    {
      "cell_type": "markdown",
      "source": [
        "## transpose(): 전치행렬 구하기"
      ],
      "metadata": {
        "id": "4R9i9dhrISzt"
      }
    },
    {
      "cell_type": "code",
      "source": [
        "X_t = X.transpose()\n",
        "X_t.shape"
      ],
      "metadata": {
        "id": "fRtnjxbN1JI5"
      },
      "execution_count": null,
      "outputs": []
    },
    {
      "cell_type": "markdown",
      "source": [
        "## 배열의 합과 차: 원소들의 합과 차로 계산"
      ],
      "metadata": {
        "id": "DFjINScvIsAo"
      }
    },
    {
      "cell_type": "code",
      "source": [
        "arr + np.array([[1, 0],\n",
        "                [0,1]])"
      ],
      "metadata": {
        "id": "tInlx7Ch1zzC"
      },
      "execution_count": null,
      "outputs": []
    },
    {
      "cell_type": "code",
      "source": [
        "arr - np.array([[1, 0],\n",
        "               [0, 1]])"
      ],
      "metadata": {
        "id": "jd9dwStu7P4U"
      },
      "execution_count": null,
      "outputs": []
    },
    {
      "cell_type": "markdown",
      "source": [
        "## 대응되는 원소들끼리의 곱과 나누기"
      ],
      "metadata": {
        "id": "XCSx9I8zI3uX"
      }
    },
    {
      "cell_type": "code",
      "source": [
        "arr * np.array([[1, 0],\n",
        "                [0, 1]])"
      ],
      "metadata": {
        "id": "aYKhk77w7eAW"
      },
      "execution_count": null,
      "outputs": []
    },
    {
      "cell_type": "code",
      "source": [
        "arr / np.array([[2, 1],\n",
        "                [1, 2]])"
      ],
      "metadata": {
        "id": "GnCmveMp72zh"
      },
      "execution_count": null,
      "outputs": []
    },
    {
      "cell_type": "markdown",
      "source": [
        "## matmul(): 행렬의 곱"
      ],
      "metadata": {
        "id": "98qNEZQaI-fo"
      }
    },
    {
      "cell_type": "code",
      "source": [
        "np.matmul(arr, np.array([[1, 0],\n",
        "                         [0, 1]]))"
      ],
      "metadata": {
        "id": "TdFmNCa576xW"
      },
      "execution_count": null,
      "outputs": []
    },
    {
      "cell_type": "markdown",
      "source": [
        "## numpy 연산으로 직접 statsmodel의 파라미터 계산해보기"
      ],
      "metadata": {
        "id": "x_C0uTXfJNhC"
      }
    },
    {
      "cell_type": "markdown",
      "source": [
        "### (𝑿ᵀ𝐗)^(-1)𝐗ᵀ𝐲"
      ],
      "metadata": {
        "id": "PkWD6YiJJdce"
      }
    },
    {
      "cell_type": "markdown",
      "source": [
        "### np.ones(): 모든 원소가 1로만 이루어진 배열 만들기"
      ],
      "metadata": {
        "id": "VEs_U74hMI3K"
      }
    },
    {
      "cell_type": "code",
      "source": [
        "np.ones((5, 1))"
      ],
      "metadata": {
        "id": "1eT68HFw8Y5h"
      },
      "execution_count": null,
      "outputs": []
    },
    {
      "cell_type": "markdown",
      "source": [
        "* 파라미터로 shape 지정"
      ],
      "metadata": {
        "id": "wVIgMyKCMTX-"
      }
    },
    {
      "cell_type": "markdown",
      "source": [
        "### np.concatenate(): 배열에 배열 붙이기"
      ],
      "metadata": {
        "id": "B_RsG0m6Mbcn"
      }
    },
    {
      "cell_type": "code",
      "source": [
        "X = np.concatenate((np.ones((X.shape[0], 1)), X), axis=1)\n",
        "X"
      ],
      "metadata": {
        "id": "obAnAr8-9frX"
      },
      "execution_count": null,
      "outputs": []
    },
    {
      "cell_type": "markdown",
      "source": [
        "1. 인자 1-1: 붙일 배열을 np.ones()로 생성\n",
        "2. 인자 1-2: 붙일 배열 X\n",
        "3. 인자 2: axis=1 -> 열과 열처럼 붙임"
      ],
      "metadata": {
        "id": "VsF9sJtKMf65"
      }
    },
    {
      "cell_type": "markdown",
      "source": [
        "### X의 전치행렬과 역행렬, 행렬 곱을 이용해 coef 계산"
      ],
      "metadata": {
        "id": "s4fGFPwyNK76"
      }
    },
    {
      "cell_type": "code",
      "source": [
        "X_t = X.transpose()\n",
        "X_t_X = np.matmul(X_t, X)\n",
        "X_t_X_inv = np.linalg.inv(X_t_X)\n",
        "X_t_X_inv_X_t = np.matmul(X_t_X_inv, X_t)\n",
        "coef = np.matmul(X_t_X_inv_X_t, y)\n",
        "coef"
      ],
      "metadata": {
        "id": "HgUtjfOg-qSQ"
      },
      "execution_count": null,
      "outputs": []
    },
    {
      "cell_type": "markdown",
      "source": [
        "* NumPy의 np.linalg 패키지 함수 np.linalg.inv() 함수로 역행렬 구할 수 있음\n",
        "* ols()로 모델 생성하고 summary()로 출력한 coef와 동일 값 구해짐"
      ],
      "metadata": {
        "id": "3I1UFDcMNTbW"
      }
    },
    {
      "cell_type": "markdown",
      "source": [
        "### 라이브러리 없이 파라미터를 계산할 줄 알아야 하는 이유:"
      ],
      "metadata": {
        "id": "YaJKJTHfOaHJ"
      }
    },
    {
      "cell_type": "markdown",
      "source": [
        "* 기존 라이브러리에서 지원하지 않는 나만의 아이디어 구현 시 사용\n",
        "* 기존 라이브러리가 제공하는 추상화에 문제가 있을 경우 디버깅 필요\n",
        "* 모델이 제대로 동작하지 않을 때 원인을 분석, 파악, 수정해야 함\n",
        "\n",
        "-> 라이브러리 내부에서 무슨 일이 일어나는지 깊이 이해해야 할 필요 있음\n",
        "<br>\n",
        "-> 모델 및 분석 라이브러리를 사용하지 않고 NumPy 등의 기본 연산만 제공하는 라이브러리를 사용해 직접 구현하고 개념들을 깊이 이해해야 함"
      ],
      "metadata": {
        "id": "u49kR7SJOg3Q"
      }
    },
    {
      "cell_type": "markdown",
      "source": [
        "## 열과 행에 대한 집계"
      ],
      "metadata": {
        "id": "GPJdjTbTPYjn"
      }
    },
    {
      "cell_type": "markdown",
      "source": [
        "### np.mean, np.var"
      ],
      "metadata": {
        "id": "WDvEp2hIPdYD"
      }
    },
    {
      "cell_type": "code",
      "source": [
        "X = price_earning[[\"eps_ttm\",\n",
        "                   \"eps_ttm_diff\",\n",
        "                   \"epssurprisepct\"]].values\n",
        "np.mean(X, axis=0), np.var(X, axis=0)"
      ],
      "metadata": {
        "id": "-iJ6c8p7_qRV"
      },
      "execution_count": null,
      "outputs": []
    },
    {
      "cell_type": "markdown",
      "source": [
        "* axis=0 -> 열에 대해 함수 적용\n",
        "* axis=1 -> 행에 대해 함수 적용"
      ],
      "metadata": {
        "id": "YqlX1ccBPq6M"
      }
    },
    {
      "cell_type": "code",
      "source": [
        "np.mean(X[:, 0]), np.mean(X[:, 1]), np.mean(X[:, 2])"
      ],
      "metadata": {
        "id": "vIRIDOGdBGtc"
      },
      "execution_count": null,
      "outputs": []
    },
    {
      "cell_type": "markdown",
      "source": [
        "* 범위 지정 시 콜론 : -> 전부 다 \n",
        "\n",
        "-> 각 열에 대해 mean() 적용한 결과와 axis=0 사용해 mean() 적용한 결과가 동일"
      ],
      "metadata": {
        "id": "MF8JZoo-QAmm"
      }
    },
    {
      "cell_type": "markdown",
      "source": [
        "## broadcasting"
      ],
      "metadata": {
        "id": "m5bcY9VFQXcx"
      }
    },
    {
      "cell_type": "markdown",
      "source": [
        "* NumPy의 중요 규칙 중 하나\n",
        "* 크기가 다른 두 배열 사이에 이항 연산 binary operation이 일어날 때, 특정 규칙 적용해 연산 가능하도록 해 주는 기능"
      ],
      "metadata": {
        "id": "dCrd28xyQbE4"
      }
    },
    {
      "cell_type": "code",
      "source": [
        "arr = np.array([[1, 2],\n",
        "                [2, 1]])\n",
        "arr + 1"
      ],
      "metadata": {
        "id": "fMbsWUv7C4Es"
      },
      "execution_count": null,
      "outputs": []
    },
    {
      "cell_type": "markdown",
      "source": [
        "### broadcasting의 활용 - centering: X의 각 원소에서 열의 평균값만큼 차감"
      ],
      "metadata": {
        "id": "PLY1l4xRRAFw"
      }
    },
    {
      "cell_type": "code",
      "source": [
        "X_mean = np.mean(X, axis=0)\n",
        "X_mean.shape, X.shape"
      ],
      "metadata": {
        "id": "JgO1CoKbFwtc"
      },
      "execution_count": null,
      "outputs": []
    },
    {
      "cell_type": "code",
      "source": [
        "X_center = X - X_mean\n",
        "X_center.shape"
      ],
      "metadata": {
        "id": "WWJt_nmdF8L2"
      },
      "execution_count": null,
      "outputs": []
    },
    {
      "cell_type": "markdown",
      "source": [
        "* 결과적으로 센터링 수행"
      ],
      "metadata": {
        "id": "-aIZePAjRYqE"
      }
    },
    {
      "cell_type": "markdown",
      "source": [
        "### broadcasting의 활용 - 표준화 standardization: 센터링된 X의 각 원소를 표준편차로 나누기"
      ],
      "metadata": {
        "id": "OTLEpsD4WByw"
      }
    },
    {
      "cell_type": "code",
      "source": [
        "np.std(X, axis=0)"
      ],
      "metadata": {
        "id": "rL8FuHYJGqB-"
      },
      "execution_count": null,
      "outputs": []
    },
    {
      "cell_type": "markdown",
      "source": [
        "* 각 열의 표준편차 계산"
      ],
      "metadata": {
        "id": "tuR-f7jXWWfE"
      }
    },
    {
      "cell_type": "code",
      "source": [
        "A = X_center / np.std(X, axis=0)\n",
        "A.shape"
      ],
      "metadata": {
        "id": "EzkyxT1GIf9K"
      },
      "execution_count": null,
      "outputs": []
    },
    {
      "cell_type": "markdown",
      "source": [
        "* 많은 머신러닝, 딥러닝 작업 이전에 표준화 작업 거침"
      ],
      "metadata": {
        "id": "Wpenw0_IWdEr"
      }
    },
    {
      "cell_type": "markdown",
      "source": [],
      "metadata": {
        "id": "sT-orObmsGDu"
      }
    },
    {
      "cell_type": "code",
      "source": [
        "U, S, V_t = np.linalg.svd(A)\n",
        "S"
      ],
      "metadata": {
        "id": "HUwYQZfIIl1e"
      },
      "execution_count": null,
      "outputs": []
    },
    {
      "cell_type": "code",
      "source": [
        "V = V_t.transpose()\n",
        "V"
      ],
      "metadata": {
        "id": "n40aNWvvJ_HG"
      },
      "execution_count": null,
      "outputs": []
    },
    {
      "cell_type": "code",
      "source": [
        "transformed = np.matmul(A, V)\n",
        "transformed[:2]"
      ],
      "metadata": {
        "id": "dzEVbcAeKFK0"
      },
      "execution_count": null,
      "outputs": []
    },
    {
      "cell_type": "code",
      "source": [
        "pca = PCA(n_components=3)\n",
        "pca.fit(A)"
      ],
      "metadata": {
        "id": "RliKLwQvKNHM"
      },
      "execution_count": null,
      "outputs": []
    },
    {
      "cell_type": "code",
      "source": [
        "pca.singular_values_"
      ],
      "metadata": {
        "id": "pMUe5sHVLDtO"
      },
      "execution_count": null,
      "outputs": []
    },
    {
      "cell_type": "code",
      "source": [
        "pca.components_"
      ],
      "metadata": {
        "id": "gMldLaofLHJl"
      },
      "execution_count": null,
      "outputs": []
    },
    {
      "cell_type": "code",
      "source": [
        "pca.transform(A)[:2]"
      ],
      "metadata": {
        "id": "hmtkhYTGLM3Y"
      },
      "execution_count": null,
      "outputs": []
    },
    {
      "cell_type": "markdown",
      "source": [
        "# Matplot 라이브러리를 이용해 여러 가지 그래프 그리기"
      ],
      "metadata": {
        "id": "nxA_-NxiW9WF"
      }
    },
    {
      "cell_type": "markdown",
      "source": [
        "## 데이터 분석 과정에서 시각화의 중요성"
      ],
      "metadata": {
        "id": "ojoTGMq-X6cK"
      }
    },
    {
      "cell_type": "markdown",
      "source": [
        "* 분석 주제가 되는 질문의 답을 구하기 위해 statistic(통계량)을 사용해 가설을 검정하는 것 외에도\n",
        "* 시각화를 통한 이해가 데이터 분석의 중요한 한 축 담당:\n",
        "  * 전반적 경향의 직관적 이해 도움\n",
        "  * 단일 수치에 의한 판단이 야기할 수 있는 오류를 잡아 줌\n",
        "\n",
        "-> 가설 검정(기각/안함 두 결과만 존재)보다도 시각화를 통해 좀 더 풍부한 정보"
      ],
      "metadata": {
        "id": "dvYst2eSX-Z5"
      }
    },
    {
      "cell_type": "markdown",
      "source": [
        "## Matplotlib"
      ],
      "metadata": {
        "id": "RMDTWPehnYIN"
      }
    },
    {
      "cell_type": "markdown",
      "source": [
        "* 도표graph 생성을 위한 파이썬의 대표적(기본적) 라이브러리"
      ],
      "metadata": {
        "id": "bPWKYsCEnc0Y"
      }
    },
    {
      "cell_type": "markdown",
      "source": [
        "필수 개념:\n",
        "* figure: 여러 개의 하위 도표를 포함할 수 있는 캔버스 또는 컨테이너 역할을 하는 객체\n",
        "* axe: 우리가 실제로 생각하는 개별 도표\n",
        "\n",
        "-> figure 하나가 여러 개 axe들을 포함할 수 있음"
      ],
      "metadata": {
        "id": "sRjFdN3bnii2"
      }
    },
    {
      "cell_type": "markdown",
      "source": [
        "#### pickle 라이브러리"
      ],
      "metadata": {
        "id": "UPBWPC-bpnxm"
      }
    },
    {
      "cell_type": "markdown",
      "source": [
        "* 파이썬의 메모리 상의 객체를 파일시스템에 저장하거나\n",
        "* 다시 메모리 상으로 불러올 때 사용\n",
        "* pandas(텍스트 파일로 내보내고 불러옴)와 달리 바이너리 파일로 내보내고 불러옴"
      ],
      "metadata": {
        "id": "uzwlxbbNprUC"
      }
    },
    {
      "cell_type": "markdown",
      "source": [
        "### 불러오기"
      ],
      "metadata": {
        "id": "nzjmBUpqpb6j"
      }
    },
    {
      "cell_type": "code",
      "source": [
        "import yahoo_fin.stock_info as si\n",
        "import numpy as np\n",
        "import pandas as pd\n",
        "import matplotlib.pyplot as plt\n",
        "import pickle"
      ],
      "metadata": {
        "id": "Ra_CfHzMO8nA"
      },
      "execution_count": null,
      "outputs": []
    },
    {
      "cell_type": "code",
      "source": [
        "price_earning = pd.read_csv(\"price_earning.csv\")"
      ],
      "metadata": {
        "id": "EowwvVHBPzG9"
      },
      "execution_count": null,
      "outputs": []
    },
    {
      "cell_type": "markdown",
      "source": [
        "## 데이터 정렬"
      ],
      "metadata": {
        "id": "5jB3hRB4sMsf"
      }
    },
    {
      "cell_type": "code",
      "source": [
        "price_earning.sort_values(by=\"month\",\n",
        "                          ascending=True,\n",
        "                          inplace=True)\n",
        "price_earning.reset_index(drop=True, inplace=True)\n",
        "price_earning.head()"
      ],
      "metadata": {
        "id": "T9nTGJlHP6DI"
      },
      "execution_count": null,
      "outputs": []
    },
    {
      "cell_type": "markdown",
      "source": [
        "편의를 위해 과거에서 현재 순으로 데이터 정렬"
      ],
      "metadata": {
        "id": "lGoom8oOsRuI"
      }
    },
    {
      "cell_type": "markdown",
      "source": [
        "## scatter() 함수: 산점도 그리기"
      ],
      "metadata": {
        "id": "DJ4dmhaFsjvZ"
      }
    },
    {
      "cell_type": "markdown",
      "source": [
        "* axe 객체 = 하나의 도표에 해당하는 역할 담당"
      ],
      "metadata": {
        "id": "HzMUxIYkspNy"
      }
    },
    {
      "cell_type": "code",
      "source": [
        "# figure 생성하며 크기 등 기본 사항 정해줄 수 있음\n",
        "fig = plt.figure(figsize=(10, 5))\n",
        "# figure 먼저 생성하고 axe 생성 -> axe가 figure에 속한 객체로서 생성됨\n",
        "ax = plt.axes()\n",
        "# 실제 그래프 그리기 위해 ax 객체에 scatter() 함수 호출\n",
        "ax.scatter(price_earning[\"month\"], price_earning[\"close_mean\"])\n",
        "# set() 함수 호출해 레이블과 타이틀 설정\n",
        "ax.set(xlabel='month', ylabel='price', title='Google Price')\n",
        "# set_xticks() 함수 호출해 x축에 표시할 tick들을 지정\n",
        "ax.set_xticks(price_earning[\"month\"][np.arange(0, len(price_earning), step=3)])\n",
        "# 플롯 표시\n",
        "plt.show()"
      ],
      "metadata": {
        "id": "a0uyWnurQKcc"
      },
      "execution_count": null,
      "outputs": []
    },
    {
      "cell_type": "code",
      "source": [
        "np.arange(0, len(price_earning), step=3)"
      ],
      "metadata": {
        "id": "MyLJNmY8sy4v"
      },
      "execution_count": null,
      "outputs": []
    },
    {
      "cell_type": "markdown",
      "source": [
        "### scatter 함수의 파라미터:"
      ],
      "metadata": {
        "id": "FnQvy81CxizF"
      }
    },
    {
      "cell_type": "code",
      "source": [
        "plt.style.use('seaborn-whitegrid')"
      ],
      "metadata": {
        "id": "oYhzeRslxQVR"
      },
      "execution_count": null,
      "outputs": []
    },
    {
      "cell_type": "markdown",
      "source": [
        "* 그래프에 격자 추가\n",
        "* 한 번 plt.style.use() 함수 호출해 스타일 적용 후\n",
        "* 일일이 그래프 그릴 때 마다 호출하지 않아도 계속 같은 스타일 적용됨\n"
      ],
      "metadata": {
        "id": "OtWQkCxLyNnR"
      }
    },
    {
      "cell_type": "code",
      "source": [
        "fig = plt.figure(figsize=(10, 5))\n",
        "ax = plt.axes()\n",
        "ax.scatter(price_earning[\"month\"], price_earning[\"eps_ttm\"],\n",
        "           s=30, c=\"red\", marker=\"x\", alpha=0.5)\n",
        "ax.set(xlabel='month', ylabel='EPS', title='Google EPS')\n",
        "ax.set_xticks(price_earning[\"month\"][np.arange(0, len(price_earning), step=3)])\n",
        "plt.show()"
      ],
      "metadata": {
        "id": "17blOI7rUcvq"
      },
      "execution_count": null,
      "outputs": []
    },
    {
      "cell_type": "markdown",
      "source": [
        "* s: 점의 크기 (size)\n",
        "* c: 점의 색상 (color)\n",
        "* marker: 점의 모양\n",
        "* alpha: 0과 1 사이의 투명도 값"
      ],
      "metadata": {
        "id": "gfPx-7HMySfK"
      }
    },
    {
      "cell_type": "markdown",
      "source": [
        "## ⭐ 서브 플롯"
      ],
      "metadata": {
        "id": "A5LSQ2k2y9_E"
      }
    },
    {
      "cell_type": "markdown",
      "source": [
        "* 여러 그래프를 비교, 대조 하기 위해 복수의 도표로 그림 구성\n",
        "1. plt.subplots() 함수 이용해 figure 객체와 axe 객체들을 얻어 낸 뒤\n",
        "2. 각각의 axe 객체들 이용해 도표 추가"
      ],
      "metadata": {
        "id": "7lrwCg-TzFtk"
      }
    },
    {
      "cell_type": "markdown",
      "source": [
        "* subplots() 함수의 nrows, ncols 인자가 도표들이 배치되는 테이블 형태 결정"
      ],
      "metadata": {
        "id": "jg5msWbHzV9F"
      }
    },
    {
      "cell_type": "markdown",
      "source": [
        "### 세로 배치"
      ],
      "metadata": {
        "id": "_eBzmlBc0fHD"
      }
    },
    {
      "cell_type": "code",
      "source": [
        "# axe 객체들 생성하며 순서조 지정\n",
        "fig, (ax1, ax2) = plt.subplots(nrows=2, ncols=1, figsize=(10, 14))\n",
        "ax1.scatter(price_earning[\"month\"], price_earning[\"close_mean\"])\n",
        "ax1.set(xlabel='month', ylabel='price', title='Google Price')\n",
        "ax1.set_xticks(price_earning[\"month\"][np.arange(0, len(price_earning), step=3)])\n",
        "ax2.scatter(price_earning[\"month\"], price_earning[\"eps_ttm\"],\n",
        "            s=30, c=\"red\", marker=\"x\", alpha=0.5)\n",
        "ax2.set(xlabel='month', ylabel='EPS', title='Google EPS')\n",
        "ax2.set_xticks(price_earning[\"month\"][np.arange(0, len(price_earning), step=3)])\n",
        "plt.show()"
      ],
      "metadata": {
        "id": "YZDIGKu4XNeH"
      },
      "execution_count": null,
      "outputs": []
    },
    {
      "cell_type": "markdown",
      "source": [
        "### 가로 배치"
      ],
      "metadata": {
        "id": "YpyC5ZR30hRe"
      }
    },
    {
      "cell_type": "code",
      "source": [
        "fig, (ax1, ax2) = plt.subplots(nrows=1, ncols=2, figsize=(20, 7))\n",
        "ax1.scatter(price_earning[\"month\"], price_earning[\"close_mean\"])\n",
        "ax1.set(xlabel='month', ylabel='price', title='Google Price')\n",
        "ax1.set_xticks(price_earning[\"month\"][np.arange(0, len(price_earning), step=3)])\n",
        "ax2.scatter(price_earning[\"month\"], price_earning[\"eps_ttm\"],\n",
        "            s=30, c=\"red\", marker=\"x\", alpha=0.5)\n",
        "ax2.set(xlabel='month', ylabel='EPS', title='Google EPS')\n",
        "ax2.set_xticks(price_earning[\"month\"][np.arange(0, len(price_earning), step=3)])\n",
        "plt.show()"
      ],
      "metadata": {
        "id": "KTKGPt8pbLzj"
      },
      "execution_count": null,
      "outputs": []
    },
    {
      "cell_type": "markdown",
      "source": [
        "### twinx(): 도표를 겹치게 그리기"
      ],
      "metadata": {
        "id": "1Plx6IVa0jbd"
      }
    },
    {
      "cell_type": "markdown",
      "source": [
        "* subplots() 함수를 이용한 figure와 axe 객체 생성\n",
        "  * 한 줄에 모두 생성\n",
        "* subplots() 함수를 사용하지 않고 figure와 axe 객체를 각각 생성할 수 있음\n",
        "  * 주석 처리된 부분\n",
        "\n",
        "-> 둘 모두 동일 결과"
      ],
      "metadata": {
        "id": "OGRPZSEP1Zoa"
      }
    },
    {
      "cell_type": "code",
      "source": [
        "# fig = plt.figure(figsize=(10, 7))\n",
        "# ax1 = plt.axes()\n",
        "fig, ax1 = plt.subplots(figsize=(10, 7))\n",
        "ax1.scatter(price_earning[\"month\"], price_earning[\"close_mean\"],\n",
        "            label=\"price\")\n",
        "ax1.set_xlabel(\"month\")\n",
        "ax1.set_ylabel(\"price\")\n",
        "ax1.set_title(\"Google Price and EPS\")\n",
        "ax1.set_xticks(price_earning[\"month\"][np.arange(0, len(price_earning), step=3)])\n",
        "ax2 = ax1.twinx()\n",
        "ax2.scatter(price_earning[\"month\"], price_earning[\"eps_ttm\"],\n",
        "            label=\"EPS\", s=30, c=\"red\", marker=\"x\", alpha=0.5)\n",
        "ax2.set_ylabel(\"EPS\")\n",
        "ax2.set_xticks(price_earning[\"month\"][np.arange(0, len(price_earning), step=3)])\n",
        "fig.legend(loc=\"upper right\")\n",
        "plt.show()"
      ],
      "metadata": {
        "id": "9ZG_IOhhbwJw"
      },
      "execution_count": null,
      "outputs": []
    },
    {
      "cell_type": "markdown",
      "source": [
        "## 선 그래프"
      ],
      "metadata": {
        "id": "YPVXPsMp1yXQ"
      }
    },
    {
      "cell_type": "markdown",
      "source": [
        "### plot() 함수를 이용한 선 그래프 line plot"
      ],
      "metadata": {
        "id": "Sp4JxQyg16cB"
      }
    },
    {
      "cell_type": "markdown",
      "source": [
        "* linestyle 파라미터가 선의 종류 결정\n",
        "  * solid: 실선\n",
        "  * dashed: dash(-) 기호로 이루어진 선\n",
        "  * dashdot: dash(-)와 dot(.)이 번갈아 나타남\n",
        "  * dotted: 점선"
      ],
      "metadata": {
        "id": "zpLNQIJ-1_kx"
      }
    },
    {
      "cell_type": "code",
      "source": [
        "fig, ax1 = plt.subplots(figsize=(10, 7))\n",
        "\n",
        "ax1.plot(price_earning[\"month\"], price_earning[\"close_mean\"],\n",
        "         label=\"price\", marker=\"o\", c=\"blue\", linestyle=\"solid\")\n",
        "\n",
        "ax1.set_xlabel(\"month\")\n",
        "ax1.set_ylabel(\"price\")\n",
        "ax1.set_title(\"Google Price and EPS\")\n",
        "ax1.set_xticks(price_earning[\"month\"][np.arange(0, len(price_earning), step=3)])\n",
        "\n",
        "ax2 = ax1.twinx()\n",
        "\n",
        "ax2.plot(price_earning[\"month\"], price_earning[\"eps_ttm\"],\n",
        "         label=\"EPS\", marker=\"x\", c=\"red\", linestyle=\"dashed\")\n",
        "\n",
        "ax2.set_ylabel(\"EPS\")\n",
        "ax2.set_xticks(price_earning[\"month\"][np.arange(0, len(price_earning), step=3)])\n",
        "\n",
        "fig.legend(loc=\"upper right\")\n",
        "\n",
        "plt.show()"
      ],
      "metadata": {
        "id": "cqG_XeFVg6Yh"
      },
      "execution_count": null,
      "outputs": []
    },
    {
      "cell_type": "markdown",
      "source": [
        "### 수식을 선으로 그리기"
      ],
      "metadata": {
        "id": "OWpTKCDC9QZX"
      }
    },
    {
      "cell_type": "markdown",
      "source": [
        "* plot() 함수: 데이터 분석에 있어 매우 유용\n",
        "  * 그래프 분석 시 임의의 선 그어 비교"
      ],
      "metadata": {
        "id": "gdyf6g0O8_Y7"
      }
    },
    {
      "cell_type": "markdown",
      "source": [
        "#### pickle.load(): 이전 저장했던 모델을 로드"
      ],
      "metadata": {
        "id": "hjs5eUOj9wzQ"
      }
    },
    {
      "cell_type": "code",
      "source": [
        "model = pickle.load(open(\"model.pickle\", \"rb\"))"
      ],
      "metadata": {
        "id": "mQzRiEW39Yhn"
      },
      "execution_count": null,
      "outputs": []
    },
    {
      "cell_type": "markdown",
      "source": [
        "* 인수 1 = path\n",
        "* 인수 2 = rb = read binary\n",
        "  * 읽어 올 파일의 타입 지정 (바이너리)"
      ],
      "metadata": {
        "id": "3F10XS_x93ub"
      }
    },
    {
      "cell_type": "markdown",
      "source": [
        "#### 수식을 이루는 절편과 기울기 불러오기"
      ],
      "metadata": {
        "id": "kbwhNwXiKrMI"
      }
    },
    {
      "cell_type": "code",
      "source": [
        "model.params"
      ],
      "metadata": {
        "id": "SjmEr4Ui9e8F"
      },
      "execution_count": null,
      "outputs": []
    },
    {
      "cell_type": "markdown",
      "source": [
        "모델의 params 프로퍼티(속성)\n",
        "<br>\n",
        "= 모델을 구성하는 parameter들\n",
        "<br>\n",
        "= coefficient 값 (회귀분석)\n",
        "* Intercept 값\n",
        "  * 선형회귀모델에서 점들을 가장 잘 나타내는 선을 그었을 때 - 선의 y절편\n",
        "* eps_ttm의 계수\n",
        "  * Intercept 값에서와 같은 선의 기울기"
      ],
      "metadata": {
        "id": "PKafxRLe-VlH"
      }
    },
    {
      "cell_type": "code",
      "source": [
        "b1, b0 = model.params[\"eps_ttm\"], model.params[\"Intercept\"]"
      ],
      "metadata": {
        "id": "Ht4UViAi9lGm"
      },
      "execution_count": null,
      "outputs": []
    },
    {
      "cell_type": "markdown",
      "source": [
        "* 절편 = b0\n",
        "* 기울기 = b1"
      ],
      "metadata": {
        "id": "__WpaWOl_WdX"
      }
    },
    {
      "cell_type": "markdown",
      "source": [
        "#### 산점도에 선 추가하기"
      ],
      "metadata": {
        "id": "-at8rEeTK0eI"
      }
    },
    {
      "cell_type": "code",
      "source": [
        "fig, ax = plt.subplots(figsize=(10, 7))\n",
        "x = price_earning[\"eps_ttm\"]\n",
        "y = price_earning[\"close_mean\"]\n",
        "# scatter plot 그리기\n",
        "ax.scatter(x, y)\n",
        "# 선형회귀모델을 나타내는 선(regression line) 그리기\n",
        "ax.plot(x, b1 * x + b0)\n",
        "ax.set(xlabel='EPS', ylabel='Price')\n",
        "plt.show()"
      ],
      "metadata": {
        "id": "I1tcSRtb9lBY"
      },
      "execution_count": null,
      "outputs": []
    },
    {
      "cell_type": "markdown",
      "source": [
        "산점도에 선 추가하기\n",
        "1. ax.scatter()와 같이 호출에 산점도를 그리고\n",
        "2. 같은 axe 객체에 plot 호출\n",
        "\n",
        "-> **같은 axe 객체에 여러 개 도표 추가**하면\n",
        "<br>\n",
        "-> 그 도표들이 **모두 겹쳐 표시**됨"
      ],
      "metadata": {
        "id": "Qq3cSY7fDfCR"
      }
    },
    {
      "cell_type": "markdown",
      "source": [
        "### 구간interval을 선 그래프로 그리기"
      ],
      "metadata": {
        "id": "7mO1HkOmApt3"
      }
    },
    {
      "cell_type": "markdown",
      "source": [
        "구간을 제공 = 더 풍부한 정보 제공\n",
        "* 선형 회귀 모델은 응답변수 평균 response mean에 대한 추정값 외에도\n",
        "  * 응답변수 평균에 대한 신뢰구간 confidence interval과\n",
        "  * 개별 관측값 observation에 대한 예측구간 prediction interval 추정 가능\n",
        "\n",
        "-> 이와 같은 구간interval을 선 그래프로 나타내기:"
      ],
      "metadata": {
        "id": "m3lkNTiwBFvr"
      }
    },
    {
      "cell_type": "markdown",
      "source": [
        "#### get_prediction() 함수로 interval 값들 구하기"
      ],
      "metadata": {
        "id": "iPK_v7WPENBz"
      }
    },
    {
      "cell_type": "markdown",
      "source": [
        "* alpha 값에 따라 100(1-alpha) 퍼센트의 interval 구하게 됨\n",
        "  * alpha=0.05 -> 95%의 신뢰구간 및 예측구간 계산"
      ],
      "metadata": {
        "id": "RXpJF0YxEWdy"
      }
    },
    {
      "cell_type": "code",
      "source": [
        "prediction = (model\n",
        "              .get_prediction(price_earning)\n",
        "              .summary_frame(alpha=0.05))\n",
        "prediction"
      ],
      "metadata": {
        "id": "tADwlIqFAt1B"
      },
      "execution_count": null,
      "outputs": []
    },
    {
      "cell_type": "markdown",
      "source": [
        "각 열에 대한 설명:\n",
        "* mean: 응답변수 평균의 추정치\n",
        "* mean_se: 응답변수 평균의 표준오차 standard error\n",
        "* mean_ci_lower: 신뢰구간 하한\n",
        "* mean_ci_upper: 신뢰구간 상한\n",
        "* obs_ci_lower: 예측구간 하한\n",
        "* obs_ci_upper: 예측구간 상한"
      ],
      "metadata": {
        "id": "hqauTzenEiuu"
      }
    },
    {
      "cell_type": "markdown",
      "source": [
        "#### 각 interval의 상한과 하한을 plot() 함수 이용해 선으로 추가하기"
      ],
      "metadata": {
        "id": "_wtwEacfE-cD"
      }
    },
    {
      "cell_type": "code",
      "source": [
        "price_earning[\"eps_ttm\"].mean(), price_earning[\"close_mean\"].mean()"
      ],
      "metadata": {
        "id": "qaeg1dOPFJXs"
      },
      "execution_count": null,
      "outputs": []
    },
    {
      "cell_type": "code",
      "source": [
        "fig, ax = plt.subplots(figsize=(10, 7))\n",
        "x = price_earning[\"eps_ttm\"]\n",
        "y = price_earning[\"close_mean\"]\n",
        "\n",
        "ax.scatter(x, y)\n",
        "\n",
        "ax.plot(x, b1 * x + b0)\n",
        "ax.plot(x, prediction[\"mean_ci_lower\"], c=\"green\",\n",
        "        linestyle=\"dashed\")\n",
        "ax.plot(x, prediction[\"mean_ci_upper\"], c=\"green\",\n",
        "        linestyle=\"dashed\")\n",
        "ax.plot(x, prediction[\"obs_ci_upper\"], c=\"red\", linestyle=\"dotted\")\n",
        "ax.plot(x, prediction[\"obs_ci_lower\"], c=\"red\", linestyle=\"dotted\")\n",
        "\n",
        "ax.axhline(np.mean(y), c=\"black\", linestyle=\"dashdot\")\n",
        "ax.axvline(np.mean(x), c=\"black\", linestyle=\"dashdot\")\n",
        "\n",
        "ax.set(xlabel='EPS', ylabel=\"Price\")\n",
        "\n",
        "plt.show()"
      ],
      "metadata": {
        "id": "yJa_bhZwFTUr"
      },
      "execution_count": null,
      "outputs": []
    },
    {
      "cell_type": "markdown",
      "source": [
        "## 막대 그래프"
      ],
      "metadata": {
        "id": "a5i8vE_RK6-g"
      }
    },
    {
      "cell_type": "markdown",
      "source": [
        "### bar(): 막대 그래프 그리기"
      ],
      "metadata": {
        "id": "Y5My60K-LARx"
      }
    },
    {
      "cell_type": "markdown",
      "source": [
        "* 앞의 경우와 같으나 plot()을 bar() 함수로만 변경"
      ],
      "metadata": {
        "id": "6F1MYx40MexX"
      }
    },
    {
      "cell_type": "code",
      "source": [
        "fig, ax1 = plt.subplots(figsize=(10, 7))\n",
        "\n",
        "ax1.bar(price_earning[\"month\"], price_earning[\"close_mean\"],\n",
        "        label=\"price\", color=\"blue\", alpha=0.3)\n",
        "\n",
        "ax1.set_xlabel(\"month\")\n",
        "ax1.set_ylabel(\"price\")\n",
        "ax1.set_title(\"Google Price and EPS\")\n",
        "ax1.set_xticks(price_earning[\"month\"][np.arange(0, len(price_earning), step=3)])\n",
        "\n",
        "ax2 = ax1.twinx()\n",
        "\n",
        "ax2.bar(price_earning[\"month\"], price_earning[\"eps_ttm\"],\n",
        "        label=\"EPS\", color=\"red\", alpha=0.3)\n",
        "\n",
        "ax2.set_ylabel(\"EPS\")\n",
        "ax2.set_xticks(price_earning[\"month\"][np.arange(0, len(price_earning), step=3)])\n",
        "\n",
        "fig.legend(loc=\"upper right\")\n",
        "\n",
        "plt.show()"
      ],
      "metadata": {
        "id": "vxTQnxYqLHaN"
      },
      "execution_count": null,
      "outputs": []
    },
    {
      "cell_type": "markdown",
      "source": [
        "* 두 axe의 막대가 겹치므로 alpha=0.3과 같이 투명도 부여\n",
        "* 두 막대 그래프가 겹치는 부분 = 보라색"
      ],
      "metadata": {
        "id": "yf8gcQDAMT1P"
      }
    },
    {
      "cell_type": "markdown",
      "source": [
        "## 히스토그램"
      ],
      "metadata": {
        "id": "z3RoAeDMM3kD"
      }
    },
    {
      "cell_type": "markdown",
      "source": [
        "* x축 = 데이터 범위를 나타내는 bin 표시\n",
        "* y축 = 각각의 bin에 속한 데이터의 빈도(개) 수\n",
        "\n",
        "-> 데이터가 어떤 분포를 따르는지 시각적으로 파악하기 용이함"
      ],
      "metadata": {
        "id": "2gRF7MLYSmCa"
      }
    },
    {
      "cell_type": "markdown",
      "source": [
        "* 데이터 분포 파악에 중요 역할: 데이터가 어떤 분포를 따르는지 시각적으로 파악하기 위해 사용\n",
        "  * ex) 히스토그램 모양이 대체로 종 모양 bell shape 형태라면 해당 데이터는 정규분포를 따른다고 생각할 수 있음\n",
        "* 다만 **히스토그램 모양 = bin의 수에 따라 판이하게 달라지는 경우**가 있으므로\n",
        "  * 데이터 분포 확인 위해 다른 방법들을 함께 사용하는 것이 바람직"
      ],
      "metadata": {
        "id": "r9dE7dvVM5Nj"
      }
    },
    {
      "cell_type": "markdown",
      "source": [
        "* 앞서 구글의 주가 데이터로 선형 모델을 생성하고\n",
        "* residual 값들이 정규분포를 따르는지 정규 확률 그림 normal probability plot으로 확인했으나\n",
        "\n",
        "-> 히스토그램을 그려 확인하기"
      ],
      "metadata": {
        "id": "dx2vlrGbNQyU"
      }
    },
    {
      "cell_type": "markdown",
      "source": [
        "### 모델로부터 residual 값들 얻어 내기"
      ],
      "metadata": {
        "id": "z5Wla9FjNddc"
      }
    },
    {
      "cell_type": "code",
      "source": [
        "residuals = model.resid"
      ],
      "metadata": {
        "id": "XlVrZrosNiBM"
      },
      "execution_count": null,
      "outputs": []
    },
    {
      "cell_type": "markdown",
      "source": [
        "### hist(): 히스토그램 그리기"
      ],
      "metadata": {
        "id": "sT7gy_RfNpsZ"
      }
    },
    {
      "cell_type": "markdown",
      "source": [
        "* residual 값들의 히스토그램 그리기"
      ],
      "metadata": {
        "id": "RqM_RhsPNwId"
      }
    },
    {
      "cell_type": "code",
      "source": [
        "fig, ax = plt.subplots()\n",
        "ax.hist(residuals, bins=7)\n",
        "plt.show()"
      ],
      "metadata": {
        "id": "mQy4E9J0N2wD"
      },
      "execution_count": null,
      "outputs": []
    },
    {
      "cell_type": "markdown",
      "source": [
        "* bins 파라미터: 데이터 범위를 몇 개 구간으로 나눠 빈도 표시할지 지정\n",
        "* 만약 residual 값의 수가 매우 적다면 -> 종 모양에서 크게 벗어나지 않음(교재 참조)"
      ],
      "metadata": {
        "id": "OtX5FyC4OAqo"
      }
    },
    {
      "cell_type": "code",
      "source": [
        "fig, ax = plt.subplots()\n",
        "ax.hist(residuals, bins=8)\n",
        "plt.show()"
      ],
      "metadata": {
        "id": "gr-79J5wOerp"
      },
      "execution_count": null,
      "outputs": []
    },
    {
      "cell_type": "markdown",
      "source": [
        "* 히스토그램 모양이 두 개의 모드mode 갖는 형태"
      ],
      "metadata": {
        "id": "cJsWglQTOx0F"
      }
    },
    {
      "cell_type": "markdown",
      "source": [
        "### 히스토그램 해석에 주의"
      ],
      "metadata": {
        "id": "58biR55TPCYy"
      }
    },
    {
      "cell_type": "markdown",
      "source": [
        "* 히스토그램 모양 = bin 수 요소에 의해 달라질 수 있음\n",
        "* 데이터 및 bin 수가 작을 때 이와 같은 문제가 더 크고\n",
        "* 샘플 수가 많은 경우 bin 값을 크게 주면 이와 같은 부분이 상대적으로 덜 문제됨"
      ],
      "metadata": {
        "id": "l7sD5wIpPGaW"
      }
    },
    {
      "cell_type": "markdown",
      "source": [
        "### 2D 히스토그램: 두 개 값의 조합에 대한 빈도 표현"
      ],
      "metadata": {
        "id": "QABsMqdYPWyl"
      }
    },
    {
      "cell_type": "markdown",
      "source": [
        "* 위와 같이 하나의 값에 대한 빈도가 아닌\n",
        "* 두 개의 값의 조합에 대한 빈도 표현"
      ],
      "metadata": {
        "id": "eAmpsirnPiVd"
      }
    },
    {
      "cell_type": "markdown",
      "source": [
        "#### 데이터 불러오기"
      ],
      "metadata": {
        "id": "YGzoMDvQPmf9"
      }
    },
    {
      "cell_type": "code",
      "source": [
        "google = si.get_data(\"googl\")\n",
        "fb = si.get_data(\"meta\")\n",
        "google = google[(google.index > \"2020-01-01\") &\n",
        "                (google.index < \"2022-01-01\")]\n",
        "fb = fb[(fb.index > \"2020-01-01\") & (fb.index < \"2022-01-01\")]"
      ],
      "metadata": {
        "id": "hLT-bjigPovY"
      },
      "execution_count": null,
      "outputs": []
    },
    {
      "cell_type": "markdown",
      "source": [
        "#### 산점도 그리기"
      ],
      "metadata": {
        "id": "9CdWlA5_QM5E"
      }
    },
    {
      "cell_type": "markdown",
      "source": [
        "* 구글과 페이스북의 종가 데이터로 산점도 그려보기"
      ],
      "metadata": {
        "id": "P2MO0oBkQTXx"
      }
    },
    {
      "cell_type": "code",
      "source": [
        "fig, ax = plt.subplots()\n",
        "ax.scatter(google[\"close\"], fb[\"close\"])\n",
        "plt.show()"
      ],
      "metadata": {
        "id": "3fGov_yVQS15"
      },
      "execution_count": null,
      "outputs": []
    },
    {
      "cell_type": "markdown",
      "source": [
        "* 샘플 수 많아 점들이 겹쳐 표시됨 = 빈도를 정확히 알기 어려움\n",
        "\n",
        "-> 2D 히스토그램으로 나타내면 분포를 파악하기 조금 더 용이함"
      ],
      "metadata": {
        "id": "X4vHU_0xQXEa"
      }
    },
    {
      "cell_type": "markdown",
      "source": [
        "#### hist2d(): 2D 히스토그램 그리기"
      ],
      "metadata": {
        "id": "bk0-uQCGQuF8"
      }
    },
    {
      "cell_type": "code",
      "source": [
        "fig, ax = plt.subplots()\n",
        "ax.hist2d(google[\"close\"], fb[\"close\"], bins=25, cmap='Blues')\n",
        "ax.set(xlabel='Google Price', ylabel='Facebook Price',\n",
        "       title='2D Histogram')\n",
        "plt.show()"
      ],
      "metadata": {
        "id": "vIw_SkHZQ02M"
      },
      "execution_count": null,
      "outputs": []
    },
    {
      "cell_type": "markdown",
      "source": [
        "* 인자로 받은 두 값 = x, y 값으로 표현\n",
        "* x, y 빈도 = 해당 bin의 색상\n",
        "  * 색이 진할수록 해당 bin의 빈도 높음\n",
        "\n",
        "-> 산점도로 그렸을 때보다 빈도 파악 용이함"
      ],
      "metadata": {
        "id": "FvJ1EJadQ1OE"
      }
    },
    {
      "cell_type": "markdown",
      "source": [
        "### ⭐⭐ 상자 그림"
      ],
      "metadata": {
        "id": "jk7l-4gAUPWG"
      }
    },
    {
      "cell_type": "markdown",
      "source": [
        "* box plot\n",
        "* 여러 데이터의 범위를 한 번에 비교 가능"
      ],
      "metadata": {
        "id": "2ljhST-1UcUj"
      }
    },
    {
      "cell_type": "markdown",
      "source": [
        "* 데이터 사분위수를 볼 수 있고\n",
        "* 이상치 outlier 식별에 좋음\n",
        "  * 이상치:\n",
        "    * 원래 모집단이 따르는 분포에서 나온 것으로 보이지 않는 - 특이한,\n",
        "    * 또는 데이터 관측 과정에서 문제 발생해 다른 값들과 다르게 측정된 것으로 의심되는 값\n",
        "* 여러 데이터의 범위를 한 번에 비교하기 용이\n",
        "* 상자 수염 그림 box-and-whisker diagram이라고도 함"
      ],
      "metadata": {
        "id": "bieJ-HXN8R0c"
      }
    },
    {
      "cell_type": "markdown",
      "source": [
        "* 히스토그램, 상자 그림, 줄기-잎 그림 모두 데이터 분포를 보기 위해 사용\n",
        "* 탐색적 데이터 분석 EDA(Exploratory Data Analysis)에서\n",
        "  * 상자 그림 = 데이터 분포 보기 위해 주로 사용\n",
        "  * 줄기-잎 그림 = 데이터 수가 적을 때 유용"
      ],
      "metadata": {
        "id": "iA1Ynzpd7zzK"
      }
    },
    {
      "cell_type": "markdown",
      "source": [
        "### 백분위수와 사분위수의 이해"
      ],
      "metadata": {
        "id": "opqEhYle9FGT"
      }
    },
    {
      "cell_type": "markdown",
      "source": [
        "#### Order Statistics 순서 통계량"
      ],
      "metadata": {
        "id": "i5nlivqN9IbY"
      }
    },
    {
      "cell_type": "markdown",
      "source": [
        "샘플을 작은 값 -> 큰 값 순서로 정렬해 얻어지는 statistics\n",
        "* e.g. 샘플: 3, 4, 5, 1, 10, 8, 11\n",
        "* first order statistic y1 = 1, rank 1\n",
        "* second order statistic y2 = 3, rank 2\n",
        "* 7th order statistic y7 = 11, rank 7"
      ],
      "metadata": {
        "id": "febpPUSj9MKz"
      }
    },
    {
      "cell_type": "markdown",
      "source": [
        "백분위수 구할 때 사용"
      ],
      "metadata": {
        "id": "Kxwnq4NS98DB"
      }
    },
    {
      "cell_type": "markdown",
      "source": [
        "#### Sample Percentile 백분위수"
      ],
      "metadata": {
        "id": "f9Pn04S_9_2x"
      }
    },
    {
      "cell_type": "markdown",
      "source": [
        "(100p)th sample percentile (0 < p < 1)\n",
        "* 주어진 샘플에서 np개의 같거나 작은 관측값들을 가지는 값\n",
        "  * n = 샘플의 크기\n",
        "* (n+1)pth order statistic\n",
        "  * e.g. 1, 3, 4, 5, 8, 10, 11\n",
        "    * 50% percentile: y(7+1)0.5 = y4 = 5\n",
        "    * 50% 백분위수: 그 수보다 작거나 같은 값이 전체 샘플의 50% 만큼 존재"
      ],
      "metadata": {
        "id": "BTETwFZw-DvN"
      }
    },
    {
      "cell_type": "markdown",
      "source": [
        "* 위는 대략적 정의로\n",
        "* 정확한 백분위수를 결정하는 몇 가지 방법 중 하나임"
      ],
      "metadata": {
        "id": "eO9cju9G_Awy"
      }
    },
    {
      "cell_type": "markdown",
      "source": [
        "(100p)th sample percentile (0 < p < 1)\n",
        "* (n+1)p가 소수인 경우 정수부 k와 소수부 r의 합으로 나타낼 수 있다면\n",
        "  * ̃πₚ=𝑦ₖ+r(yk+1 - yk)\n",
        "* e.g. 1, 3, 4, 5, 9, 10, 11, 12\n",
        "  * 50% percentile: (8 + 1)0.5 = 4.5\n",
        "  * ̃π0.5 = y4 + 0.5(y5 - y4) = 5 + 0.5(9 - 5) = 7"
      ],
      "metadata": {
        "id": "4rCyrs6y_gJ_"
      }
    },
    {
      "cell_type": "markdown",
      "source": [
        "#### Quartile 사분위수"
      ],
      "metadata": {
        "id": "54nJFZoWBqDc"
      }
    },
    {
      "cell_type": "markdown",
      "source": [
        "* 50th percentile: median, second quartile, Q2, 2사분위수\n",
        "* 25th percentile: first quartile, Q1, 1사분위수\n",
        "* 75th percentile: third quartile, Q3, 3사분위수\n",
        "* IQR(Interquartile Range): Q3 - Q1\n",
        "  * 상자 그림에서 상자의 높이 결정\n",
        "* e.g. 1, 3, 4, 5, 8, 10, 11\n",
        "  * Q1 = 3, Q2 = 5, Q3 = 10\n",
        "  * IQR = 10 - 3 = 7"
      ],
      "metadata": {
        "id": "c_djdR-TBttC"
      }
    },
    {
      "cell_type": "markdown",
      "source": [
        "### boxplot(): 상자 그림 그리기"
      ],
      "metadata": {
        "id": "FGfBrFrvUjoz"
      }
    },
    {
      "cell_type": "markdown",
      "source": [
        "* 데이터가 한 종류\n",
        "  * 인자 = 리스트, 일차원 배열, Series 등\n",
        "* 두 종류 이상 데이터 한꺼번에 비교\n",
        "  * 인자 = 일차원 데이터들을 리스트로 묶어 사용"
      ],
      "metadata": {
        "id": "QD-N_6fvUmwd"
      }
    },
    {
      "cell_type": "markdown",
      "source": [
        "* 구글의 2017 ~ 2021년까지 종가 데이터를 각 연도별로 상자 그림 그려 비교"
      ],
      "metadata": {
        "id": "5X8HNf9BU0Ql"
      }
    },
    {
      "cell_type": "markdown",
      "source": [
        "#### 데이터 불러오기"
      ],
      "metadata": {
        "id": "_kw2r-2AVwAp"
      }
    },
    {
      "cell_type": "code",
      "source": [
        "google = si.get_data(\"googl\")\n",
        "\n",
        "google_2017 = google[(google.index > \"2017-01-01\") &\n",
        "                     (google.index < \"2018-01-01\")][\"close\"]\n",
        "google_2018 = google[(google.index > \"2018-01-01\") &\n",
        "                     (google.index < \"2019-01-01\")][\"close\"]\n",
        "google_2019 = google[(google.index > \"2019-01-01\") &\n",
        "                     (google.index < \"2020-01-01\")][\"close\"]\n",
        "google_2020 = google[(google.index > \"2020-01-01\") &\n",
        "                     (google.index < \"2021-01-01\")][\"close\"]\n",
        "google_2021 = google[(google.index > \"2021-01-01\") &\n",
        "                     (google.index < \"2022-01-01\")][\"close\"]"
      ],
      "metadata": {
        "id": "o-jjFqxmVDh_"
      },
      "execution_count": null,
      "outputs": []
    },
    {
      "cell_type": "markdown",
      "source": [
        "#### 상자 그림 그리기"
      ],
      "metadata": {
        "id": "ddmmDyAkV3P0"
      }
    },
    {
      "cell_type": "code",
      "source": [
        "fig, ax = plt.subplots(figsize=(10, 10))\n",
        "ax.boxplot([google_2017, google_2018, google_2019,\n",
        "            google_2020, google_2021])\n",
        "ax.set(xlabel='year', ylabel='price', title='Google')\n",
        "ax.set_xticklabels([\"2017\", \"2018\", \"2019\", \"2020\", \"2021\"])\n",
        "plt.show()"
      ],
      "metadata": {
        "id": "B29MvXFeVuph"
      },
      "execution_count": null,
      "outputs": []
    },
    {
      "cell_type": "markdown",
      "source": [
        "상자 그림 = 5개 값 표시\n",
        "* 상자 중앙 붉은색 선 = 중간값median (Q2)\n",
        "* 상자 하단, 상단 선 = 데이터를 크기순으로 줄 세울 시 각각 25%, 75% 순서에 해당하는 사분위값 interquartile range\n",
        "* 상자의 가로 길이는 아무 의미 없음\n",
        "* 상자 그림 맨 위, 아래에 수평하게 그어진 수염whisker = 일반적으로 데이터 최대값, 최소값\n",
        "  * = 2017 ~ 2019년 데이터\n",
        "  * 2020년 데이터: 최대값, 최소값이 상자에서 IQR(상자 높이)×1.5 넘는 구간까지 존재하는 경우\n",
        "    * IQR×1.5만큼 상자에서 떨어진 곳에 그어지고\n",
        "    * 해당 범위 바깥의 데이터들은 점으로 표시"
      ],
      "metadata": {
        "id": "SrRxvfTJWh2s"
      }
    },
    {
      "cell_type": "markdown",
      "source": [
        "## 히트맵"
      ],
      "metadata": {
        "id": "kGfibFBxUV7v"
      }
    },
    {
      "cell_type": "markdown",
      "source": [
        "* 두 변수 사이 관계를 값과 함께 색상으로 표현해 시각적으로 도움 주는 그래프\n",
        "* 앞서 생성했던 correlation 값들로 히트맵 그리기"
      ],
      "metadata": {
        "id": "y98yEzwFZVZr"
      }
    },
    {
      "cell_type": "markdown",
      "source": [
        "### 데이터 불러오기"
      ],
      "metadata": {
        "id": "SpxKcmUmZfI5"
      }
    },
    {
      "cell_type": "code",
      "source": [
        "price_earning = pd.read_csv(\"price_earning.csv\")\n",
        "corr = price_earning[[\"eps_ttm\", \"eps_ttm_diff\",\n",
        "                      \"epssurprisepct\", \"close_mean\"]].corr()\n",
        "corr"
      ],
      "metadata": {
        "id": "29Uc6wAeZlnn"
      },
      "execution_count": null,
      "outputs": []
    },
    {
      "cell_type": "markdown",
      "source": [
        "### sns.heatmap(): 히트맵 그리기"
      ],
      "metadata": {
        "id": "Ydf7lP13Z9pS"
      }
    },
    {
      "cell_type": "markdown",
      "source": [
        "* 히트맵의 경우 Matplotlib으로 그리는 것이 직관적이지 않으므로\n",
        "* 일반적으로 seaborn 패키지 사용"
      ],
      "metadata": {
        "id": "w99iohIxaeKh"
      }
    },
    {
      "cell_type": "markdown",
      "source": [
        "* Matplotlib = 파이썬의 기본적 그래프 위한 도구\n",
        "* seaborn = 보다 복잡하고 세련된 도표들을 간단한 코드로 생성"
      ],
      "metadata": {
        "id": "ebOuShJLalLE"
      }
    },
    {
      "cell_type": "code",
      "source": [
        "import seaborn as sns\n",
        "\n",
        "sns.heatmap(corr, cmap=\"YlGnBu\", annot=True)\n",
        "plt.show()"
      ],
      "metadata": {
        "id": "IuX7zZhiaCsw"
      },
      "execution_count": null,
      "outputs": []
    },
    {
      "cell_type": "markdown",
      "source": [
        "* correlation이 큰 값일수록 진한 색으로 표시\n",
        "  * 어떤 변수들 사이 correlation이 큰지 한 눈에 확인 가능"
      ],
      "metadata": {
        "id": "1NXtSTUCausV"
      }
    },
    {
      "cell_type": "markdown",
      "source": [
        "인수\n",
        "* cmap\n",
        "  * 어떤 색 계열의 히트맵 그릴지 지정\n",
        "* annot=True\n",
        "  * 각 셀 안에 값들 표시하는 옵션"
      ],
      "metadata": {
        "id": "tq_QoGiKa6Cs"
      }
    },
    {
      "cell_type": "markdown",
      "source": [
        "## ⭐ 줄기-잎 그림"
      ],
      "metadata": {
        "id": "x-vLWJPQUXhX"
      }
    },
    {
      "cell_type": "markdown",
      "source": [
        "* stem-and-leaf diagram\n",
        "* 값들의 분포에 대해 빠르게 훑어볼 수 있게 해 주는 도구 중 하나\n",
        "* 앞서 본 그래프들과 달리 어느 정도 표에 가까운 형태이나\n",
        "* 데이터의 직관적 파악에 사용 가능한 도구\n",
        "* 그림과 표의 중간에 가까운 형태"
      ],
      "metadata": {
        "id": "D2iOfzXYbD1G"
      }
    },
    {
      "cell_type": "markdown",
      "source": [
        "히스토그램과 차이:\n",
        "* 줄기-잎 그림: 분포, 데이터값 동시에 표시\n",
        "* 히스토그램: 분포만 표시"
      ],
      "metadata": {
        "id": "S6ZNDnrZOef3"
      }
    },
    {
      "cell_type": "markdown",
      "source": [
        "### Matplotlib으로 그릴 수 있는 줄기-잎 그림"
      ],
      "metadata": {
        "id": "pEy5D2Rmbm02"
      }
    },
    {
      "cell_type": "markdown",
      "source": [
        "* 데이터에서 줄기에 해당하는 부분을 따로 생성해 넣어야 그릴 수 있음"
      ],
      "metadata": {
        "id": "MDWu2ZXCbquV"
      }
    },
    {
      "cell_type": "markdown",
      "source": [
        "price_earning 데이터 프레임의 eps_ttm_diff 열로 줄기-잎 그림 그리기\n",
        "* 정수 부분 = 줄기\n",
        "* 소수 부분 = 잎\n",
        "1. 수를 인자로 받아 정수 부분을 리턴하는 함수를 map으로 적용해\n",
        "2. 데이터의 정수 부분만 추린 결과를 stem(줄기) 값으로 저장"
      ],
      "metadata": {
        "id": "cIDT1L4tcGBD"
      }
    },
    {
      "cell_type": "code",
      "source": [
        "eps_ttm_diff = price_earning[\"eps_ttm_diff\"]\n",
        "stem = eps_ttm_diff.map(lambda x: int(x))"
      ],
      "metadata": {
        "id": "axJxtH8occjQ"
      },
      "execution_count": null,
      "outputs": []
    },
    {
      "cell_type": "markdown",
      "source": [
        "Matplotlib의 stem() 함수에 인자 전달:\n",
        "* 줄기 부분 데이터\n",
        "* 원본 데이터\n",
        "\n",
        "-> 줄기-잎 그림 생성:\n",
        "* x축 = 줄기에 해당하는 값\n",
        "* 점 = 각각의 샘플"
      ],
      "metadata": {
        "id": "bwv29uZ8cqyE"
      }
    },
    {
      "cell_type": "code",
      "source": [
        "fig, ax = plt.subplots(figsize=(10, 5))\n",
        "ax.stem(stem, eps_ttm_diff, use_line_collection=True)\n",
        "ax.set(xlabel='Stem', ylabel='Value', title='EPS TTM Diff')\n",
        "ax.set_xticks(np.arange(int(eps_ttm_diff.min()),\n",
        "                        int(eps_ttm_diff.max()) + 1))\n",
        "plt.show()"
      ],
      "metadata": {
        "id": "2n09F3gCdI8K"
      },
      "execution_count": null,
      "outputs": []
    },
    {
      "cell_type": "markdown",
      "source": [
        "* 이와 같은 Matplotlib의 표현 방식은 일반적 줄기-잎 그림과 다르므로\n",
        "* 보다 일반적 형태의 줄기-잎 그림 그리기 위해 다른 패키지 사용"
      ],
      "metadata": {
        "id": "Xrfu9i2BdtYH"
      }
    },
    {
      "cell_type": "markdown",
      "source": [
        "### stemgraphic 패키지로 줄기-잎 그림 그리기"
      ],
      "metadata": {
        "id": "nsEyA0NOd3cv"
      }
    },
    {
      "cell_type": "markdown",
      "source": [
        "#### 설치 및 로드"
      ],
      "metadata": {
        "id": "ZQWlp6Ezd79g"
      }
    },
    {
      "cell_type": "code",
      "source": [
        "pip install stemgraphic"
      ],
      "metadata": {
        "id": "gl8QKxkZd95d"
      },
      "execution_count": null,
      "outputs": []
    },
    {
      "cell_type": "code",
      "source": [
        "import stemgraphic"
      ],
      "metadata": {
        "id": "DoVMX1-seoAv"
      },
      "execution_count": null,
      "outputs": []
    },
    {
      "cell_type": "markdown",
      "source": [
        "* Matplotlib와 같이 stem 부분을 따로 만들어 줄 필요 없음\n",
        "* 줄기와 잎 구분 위해 scale 인자 사용\n",
        "  * scale=1\n",
        "    * 1의 배수 = 줄기\n",
        "    * 소수 첫째 자리 = 잎"
      ],
      "metadata": {
        "id": "4byPJQN7erOx"
      }
    },
    {
      "cell_type": "code",
      "source": [
        "fig, ax = stemgraphic.stem_graphic(\n",
        "    price_earning[\"eps_ttm_diff\"], scale=1)\n",
        "plt.show()"
      ],
      "metadata": {
        "id": "rWV8W9jge6yS"
      },
      "execution_count": null,
      "outputs": []
    },
    {
      "cell_type": "markdown",
      "source": [
        "* 9 | 7 = 9.7\n",
        "  * 9 | 7 왼쪽의 20 = 아래에서부터 20번째로 큰 값임 (누적계수)\n",
        "* 3 | 15 = 3.1, 3.5\n",
        "  * 3 | 15 왼쪽의 18 = 3.5가 18번째로 큰 값임\n",
        "* 줄기-잎 그림 하단, 상단 숫자 = 최소값, 최대값"
      ],
      "metadata": {
        "id": "X3WBCJR_e7KM"
      }
    },
    {
      "cell_type": "code",
      "source": [
        "fig, ax = stemgraphic.stem_graphic(\n",
        "    price_earning[\"eps_ttm\"], scale=10)\n",
        "plt.show()"
      ],
      "metadata": {
        "id": "unYwbhHYgG3H"
      },
      "execution_count": null,
      "outputs": []
    },
    {
      "cell_type": "markdown",
      "source": [
        "eps_ttm 열에 대한 줄기- 잎 그림\n",
        "* 값들 범위가 넓으므로 scale=1과 같이 파라미터를 주는 것이 의미 없을 수 있음\n",
        "* scale=10\n",
        "  * 10의 배수 부분 = 줄기\n",
        "  * 10보다 작은 부분 = 잎"
      ],
      "metadata": {
        "id": "Rh9H9ZkzgV16"
      }
    },
    {
      "cell_type": "markdown",
      "source": [
        "## 오차 막대 그래프"
      ],
      "metadata": {
        "id": "XohJfosHUZ6t"
      }
    },
    {
      "cell_type": "markdown",
      "source": [
        "* 값과 오차를 같이 나타내기 위한 도표\n",
        "* Matplotlib의 errorbar() 함수로 그릴 수 있음"
      ],
      "metadata": {
        "id": "oF_edaERhfCr"
      }
    },
    {
      "cell_type": "markdown",
      "source": [
        "정보 전달 측면에서\n",
        "* 추정 = 특정 값 하나로 주어지는 것보다\n",
        "* 추정값과 오차error가 함께 주어지면\n",
        "\n",
        "-> 그 추정의 정확성을 같이 고려할 수 있음\n",
        "<br>\n",
        "-> 더 풍부한 정보 주어짐"
      ],
      "metadata": {
        "id": "31obCxcEhPuM"
      }
    },
    {
      "cell_type": "markdown",
      "source": [
        "### 앞에서 생성했던 선형 모델로 예측값 만들기"
      ],
      "metadata": {
        "id": "HnVXGbAthonT"
      }
    },
    {
      "cell_type": "markdown",
      "source": [
        "* 앞서 생성했던 모델 = eps_ttm 값으로 주가 예측하는 모델\n",
        "\n",
        "-> 선형 모델의 예측값 및 신뢰 구간을 오차 막대 그래프로 표현하기"
      ],
      "metadata": {
        "id": "xClbcWBIhtbW"
      }
    },
    {
      "cell_type": "code",
      "source": [
        "price_earning[\"eps_ttm\"].mean()"
      ],
      "metadata": {
        "id": "4ymNiZAJiDsZ"
      },
      "execution_count": null,
      "outputs": []
    },
    {
      "cell_type": "markdown",
      "source": [
        "  * 모델 생성 시 사용된 데이터의 eps_ttm 값 평균"
      ],
      "metadata": {
        "id": "TN0n98OKiEGm"
      }
    },
    {
      "cell_type": "code",
      "source": [
        "price_earning[\"eps_ttm\"].min(), price_earning[\"eps_ttm\"].max()"
      ],
      "metadata": {
        "id": "8LXhsbNYiHDU"
      },
      "execution_count": null,
      "outputs": []
    },
    {
      "cell_type": "markdown",
      "source": [
        "* 모델 생성 시 사용된 데이터의 eps_ttm 값 범위"
      ],
      "metadata": {
        "id": "h6g0QHe-iHXs"
      }
    },
    {
      "cell_type": "code",
      "source": [
        "import random\n",
        "\n",
        "random.seed(8)\n",
        "\n",
        "random_eps_ttm = [random.uniform(price_earning[\"eps_ttm\"].min() - 20,\n",
        "                                 price_earning[\"eps_ttm\"].max() + 20)\n",
        "                  for i in range(10)]\n",
        "\n",
        "random_eps_ttm = sorted(random_eps_ttm, reverse=False)\n",
        "\n",
        "random_eps_ttm"
      ],
      "metadata": {
        "id": "EoHkfIqvicIo"
      },
      "execution_count": null,
      "outputs": []
    },
    {
      "cell_type": "markdown",
      "source": [
        "* 모델 생성 시 사용된 데이터의 eps_ttm 값 범위에서 최소-20 ~ 최대+20 범위 랜덤 값들 10개 생성 후\n",
        "* 오름차순으로 정렬해 random_eps_ttm 변수에 저장"
      ],
      "metadata": {
        "id": "-tDxGbnciclN"
      }
    },
    {
      "cell_type": "code",
      "source": [
        "new_observation = pd.DataFrame({\"eps_ttm\": random_eps_ttm})"
      ],
      "metadata": {
        "id": "qEQB1SMdjfAa"
      },
      "execution_count": null,
      "outputs": []
    },
    {
      "cell_type": "markdown",
      "source": [
        "모델 생성 시 사용한 데이터에서 예측변수predictor에 해당하는 열 = eps_ttm\n",
        "\n",
        "-> 같은 열 이름 갖는 데이터 프레임 생성"
      ],
      "metadata": {
        "id": "L3R7cfJDjhE2"
      }
    },
    {
      "cell_type": "code",
      "source": [
        "prediction = (model\n",
        "              .get_prediction(new_observation)\n",
        "              .summary_frame(alpha=0.05))\n",
        "prediction"
      ],
      "metadata": {
        "id": "tRTOGGTfj5ww"
      },
      "execution_count": null,
      "outputs": []
    },
    {
      "cell_type": "markdown",
      "source": [
        "모델의 get_prediction 함수에 데이터 프레임 넣어 예측구간 prediction interval 얻음"
      ],
      "metadata": {
        "id": "by6aSuAyj6Km"
      }
    },
    {
      "cell_type": "code",
      "source": [
        "prediction[\"prediction_error\"] = (\n",
        "    prediction[\"mean\"] - prediction[\"obs_ci_lower\"])\n",
        "prediction[\"prediction_error\"]"
      ],
      "metadata": {
        "id": "UPRwjCUpkSAh"
      },
      "execution_count": null,
      "outputs": []
    },
    {
      "cell_type": "markdown",
      "source": [
        "오차 막대 그리기 위해 필요한 prediction 오차값\n",
        "\n",
        "= 응답변수 평균 추정치 - prediction interval 하한"
      ],
      "metadata": {
        "id": "u137bsMwkSXE"
      }
    },
    {
      "cell_type": "markdown",
      "source": [
        "### errorbar(): 오차 막대 그래프 그리기"
      ],
      "metadata": {
        "id": "NdfNAg_AkzoK"
      }
    },
    {
      "cell_type": "code",
      "source": [
        "fig, ax = plt.subplots(figsize=(12, 7))\n",
        "ax.errorbar(x = new_observation[\"eps_ttm\"],\n",
        "            y = prediction[\"mean\"],\n",
        "            yerr = prediction[\"prediction_error\"],\n",
        "            fmt='o', markersize=5, capsize=5)\n",
        "ax.set(xlabel='EPS TTM', ylabel='Price',\n",
        "       title='Prediction Interval')\n",
        "plt.show()"
      ],
      "metadata": {
        "id": "wuV4Tgx3k6Pq"
      },
      "execution_count": null,
      "outputs": []
    },
    {
      "cell_type": "markdown",
      "source": [
        "인수\n",
        "* x = new_observation[\"eps_ttm\"]\n",
        "* y = prediction[\"mean\"] = x에 대한 응답변수 평균 추정치\n",
        "* yerr = prediction[\"prediction_error\"]\n",
        "* fmt = 그래프 포맷 지정\n",
        "* markersize = 오차 막대 가운데 점 크기 지정\n",
        "* capsize = 오차 막대 끝의 수평선 길이 지정"
      ],
      "metadata": {
        "id": "p6ueKB7vk2Cl"
      }
    },
    {
      "cell_type": "markdown",
      "source": [
        "* 모델 생성 시 사용된 price_earning 데이터 프레임의 eps_ttm 평균에 가까운 eps_ttm 값에 대한 예측에서는 오차 크기 작음\n",
        "  * 평균에서 멀어지면 오차 커짐\n",
        "  * 특히 모델 생성에 사용된 데이터의 eps_ttm 값 범위를 벗어나는 값에 대한 예측에서는 오차 크기 급격히 커짐\n",
        "\n",
        "-> 모델 생성에 사용된 데이터에서는 x와 y 사이에 선형적 관계가 성립해도\n",
        "\n",
        "-> 그 범위 밖에서 선형적 관계가 성립할지 알 수 없기 때문\n",
        "\n",
        "-> **모델 생성에 사용된 데이터 범위 바깥 값 예측에 선형 모델 사용 시 주의 필요**"
      ],
      "metadata": {
        "id": "_UALuRu1mE_T"
      }
    }
  ]
}
